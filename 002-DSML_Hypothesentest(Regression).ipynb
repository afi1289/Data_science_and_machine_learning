{
 "cells": [
  {
   "cell_type": "code",
   "execution_count": 1,
   "metadata": {},
   "outputs": [
    {
     "name": "stdout",
     "output_type": "stream",
     "text": [
      "Beta 0 [-0.39655049]\n"
     ]
    }
   ],
   "source": [
    "import numpy as np\n",
    "import matplotlib.pyplot as plt\n",
    "import seaborn as sns\n",
    "\n",
    "%matplotlib inline\n",
    "\n",
    "np.random.seed(245)\n",
    "nobs=100           # number of observation\n",
    "x = 2 * np.random.rand(nobs , 1)  # defining x \n",
    "y = -0.5 + 2 * x + np.random.randn(nobs , 1)  # defining y vector\n",
    "\n",
    "# Estimation of beta0\n",
    "X = np.c_[np.ones((nobs ,1)),x] # defining x Vector with 1 as first column هي تخلي العمود الاول يساوي الواحد\n",
    "beta_hat = np.linalg.inv(X.T @ X) @ X.T @ y\n",
    "\n",
    "print(\"Beta 0\",beta_hat [0])\n",
    "\n",
    "# print(x)"
   ]
  },
  {
   "cell_type": "code",
   "execution_count": 2,
   "metadata": {},
   "outputs": [
    {
     "name": "stdout",
     "output_type": "stream",
     "text": [
      "Standard error of beta_0: 0.1992263510911054\n"
     ]
    }
   ],
   "source": [
    "# Estimation of beta 0 variance\n",
    "y_pred = X @ beta_hat\n",
    "sigma_2 = ((y - y_pred) ** 2).sum() / (100-1-1)                    # sigma^2 formula page 22\n",
    "sigma_2_beta0 = sigma_2 * np.linalg.inv(X.T @ X)[0,0]              # var(beta-hat) formula page 22\n",
    "print('Standard error of beta_0: ' + str(np.sqrt(sigma_2_beta0 )))\n"
   ]
  },
  {
   "cell_type": "code",
   "execution_count": 8,
   "metadata": {},
   "outputs": [
    {
     "data": {
      "text/plain": [
       "array([2.14285714, 0.25      ])"
      ]
     },
     "execution_count": 8,
     "metadata": {},
     "output_type": "execute_result"
    }
   ],
   "source": [
    "# مثال بسيط شلون يشتغل موديل فت\n",
    "Y1 = [1,3,4,5,2,3,4]\n",
    "X1 = range(1,8)\n",
    "X1 = sm.add_constant(X1)\n",
    "\n",
    "model = sm.OLS(Y1,X1)\n",
    "results = model.fit()\n",
    "results.params"
   ]
  },
  {
   "cell_type": "code",
   "execution_count": 3,
   "metadata": {},
   "outputs": [
    {
     "name": "stdout",
     "output_type": "stream",
     "text": [
      "                            OLS Regression Results                            \n",
      "==============================================================================\n",
      "Dep. Variable:                      y   R-squared:                       0.537\n",
      "Model:                            OLS   Adj. R-squared:                  0.533\n",
      "Method:                 Least Squares   F-statistic:                     113.9\n",
      "Date:                Sun, 02 Feb 2020   Prob (F-statistic):           4.27e-18\n",
      "Time:                        19:41:59   Log-Likelihood:                -144.87\n",
      "No. Observations:                 100   AIC:                             293.7\n",
      "Df Residuals:                      98   BIC:                             298.9\n",
      "Df Model:                           1                                         \n",
      "Covariance Type:            nonrobust                                         \n",
      "==============================================================================\n",
      "                 coef    std err          t      P>|t|      [0.025      0.975]\n",
      "------------------------------------------------------------------------------\n",
      "const         -0.3966      0.199     -1.990      0.049      -0.792      -0.001\n",
      "x1             1.8801      0.176     10.671      0.000       1.530       2.230\n",
      "==============================================================================\n",
      "Omnibus:                        2.015   Durbin-Watson:                   1.923\n",
      "Prob(Omnibus):                  0.365   Jarque-Bera (JB):                1.712\n",
      "Skew:                          -0.320   Prob(JB):                        0.425\n",
      "Kurtosis:                       3.034   Cond. No.                         3.58\n",
      "==============================================================================\n",
      "\n",
      "Warnings:\n",
      "[1] Standard Errors assume that the covariance matrix of the errors is correctly specified.\n"
     ]
    }
   ],
   "source": [
    "import statsmodels.api as sm\n",
    "model = sm.OLS(y, X) # اعملي خط انحدار يقدر يتوقع بناط على هالمدخلات والمخرجات اللي عطيته ياها \n",
    "model = model.fit()\n",
    "print(model.summary()) # هات الملخص"
   ]
  },
  {
   "cell_type": "code",
   "execution_count": 9,
   "metadata": {},
   "outputs": [
    {
     "name": "stdout",
     "output_type": "stream",
     "text": [
      "[-1.99045199]\n"
     ]
    }
   ],
   "source": [
    "# Calculation of the test statistic\n",
    "t_stat = beta_hat [0] / (np.sqrt(sigma_2_beta0)) # صفحة٣٤ \n",
    "                                                 # t = coef/std err\n",
    "print(t_stat)\n",
    "\n",
    "# Simulation of test statistic (t-test)\n",
    "t_stats = []   # create an empty list to save test statistc value\n",
    "for i in range (0 ,100000):\n",
    "    y0 = 0 + 0 * x + np.random.randn(nobs , 1)\n",
    "    beta_hat0 = np.linalg.inv(X.T @ X) @ X.T @ y0\n",
    "    y_pred0 = X @ beta_hat0\n",
    "    sigma_20 = ((y0-y_pred0) ** 2).sum() / (nobs -1-1) # sigma^2 page 22\n",
    "    t_stats.append(beta_hat0 [0] / (np.sqrt(sigma_20) * np.sqrt(np.linalg.inv(X.T @ X)[0 ,0]))) # test statistic formula page 34"
   ]
  },
  {
   "cell_type": "code",
   "execution_count": 17,
   "metadata": {},
   "outputs": [],
   "source": [
    "#t_stats"
   ]
  },
  {
   "cell_type": "code",
   "execution_count": 15,
   "metadata": {},
   "outputs": [
    {
     "data": {
      "text/plain": [
       "<matplotlib.collections.LineCollection at 0x1c1ef15ba8>"
      ]
     },
     "execution_count": 15,
     "metadata": {},
     "output_type": "execute_result"
    },
    {
     "data": {
      "image/png": "[encoded data removed]",
      "text/plain": [
       "<Figure size 432x288 with 1 Axes>"
      ]
     },
     "metadata": {
      "needs_background": "light"
     },
     "output_type": "display_data"
    }
   ],
   "source": [
    "# points for plotting t distribution\n",
    "from scipy.stats import t\n",
    "points_x = np.linspace(-5,5,100) #Return evenly spaced 100 numbers over a specified interval -5 and 5\n",
    "                                # عطيني ١٠٠ رقم بين ناقص خمسة وزائد خمسة\n",
    "\n",
    "points_y = t.pdf(points_x ,df=(100-1-1)) # Probability density function at points_x of the given RV.\n",
    "                                         # هات الكثافة الاحتمالية لهل ١٠٠ رقم\n",
    "\n",
    "\n",
    "sns.distplot(t_stats ,hist=False ,color='cyan')\n",
    "plt.plot(points_x , points_y ,color='red', linestyle=':')\n",
    "plt.vlines(x=t_stat ,ymin=0, ymax=0.5, color='orange') # Plot vertical lines at each *x* from *ymin* to *ymax*.\n",
    "                                                       # ymin, ymax: Respective beginning and end of each line"
   ]
  },
  {
   "cell_type": "code",
   "execution_count": 12,
   "metadata": {},
   "outputs": [],
   "source": [
    "#np.linspace(-1,1,12)\n",
    "#t.pdf(points_x ,df=(100-1-1))"
   ]
  },
  {
   "cell_type": "code",
   "execution_count": 24,
   "metadata": {},
   "outputs": [
    {
     "data": {
      "image/png": "[encoded data removed]",
      "text/plain": [
       "<Figure size 432x288 with 1 Axes>"
      ]
     },
     "metadata": {
      "needs_background": "light"
     },
     "output_type": "display_data"
    }
   ],
   "source": [
    "\n",
    "# Simulation of confidence intervals\n",
    "beta1_hats = []        # create an empty list\n",
    "beta0_hats = []        \n",
    "sigma_2_beta_1s = []   \n",
    "sigma_2_beta_0s = []   \n",
    "\n",
    "for i in range (0,100):\n",
    "    y = - 0.5 + 2 * x + np.random.randn(100, 1)\n",
    "    beta_hat = np.linalg.inv(X.T @ X) @ X.T @ y         # coefficients estimation\n",
    "    beta0_hats.append(beta_hat [0][0])                  # coefficients estimation lists\n",
    "    y_pred = X @ beta_hat                               # prediction of y\n",
    "    sigma_2 = ((y-y_pred) ** 2).sum() / (100-1-1)       # sigma^2 page 22\n",
    "    sigma_2_beta_1s.append(np.sqrt(sigma_2) * np.sqrt(np.linalg.inv(X.T @ X)[0,0]))\n",
    "    beta10_ats = np.array(beta0_hats)\n",
    "    sigma_2_beta_0s = np.array(sigma_2_beta_0s)\n",
    "    \n",
    "beta0_hats=np.array(beta0_hats)\n",
    "sigma_2_beta_1s=np.array(sigma_2_beta_1s)\n",
    "    \n",
    "plt.vlines(x=range(0,100),\n",
    "ymin=beta0_hats - t.ppf(1-0.05/2, 100-1-1) * sigma_2_beta_1s ,\n",
    "ymax=beta0_hats + t.ppf(1-0.05/2, 100-1-1) * sigma_2_beta_1s , color='cyan') # 95% Konfidenzintervall, page 34\n",
    "plt.hlines(y=-0.5, xmin=0, xmax =100)\n",
    "plt.show()\n",
    "#  Davon überdecken 94 Intervalle den exakten Erwartungswert y = -0.5; die übrigen 6 tun das nicht."
   ]
  },
  {
   "cell_type": "code",
   "execution_count": 29,
   "metadata": {},
   "outputs": [
    {
     "data": {
      "text/plain": [
       "array([[-0.62850685],\n",
       "       [ 2.20087939]])"
      ]
     },
     "execution_count": 29,
     "metadata": {},
     "output_type": "execute_result"
    }
   ],
   "source": [
    "y = - 0.5 + 2 * x + np.random.randn(100, 1)\n",
    "beta_hat = np.linalg.inv(X.T @ X) @ X.T @ y # coefficients estimation\n",
    "#beta0_hats.append(beta_hat [0][0])\n",
    "\n",
    "beta_hat"
   ]
  },
  {
   "cell_type": "code",
   "execution_count": 37,
   "metadata": {},
   "outputs": [
    {
     "name": "stdout",
     "output_type": "stream",
     "text": [
      "5\n"
     ]
    }
   ],
   "source": [
    "print(sum((-0.5< beta0_hats - t.ppf(1-0.05/2, 100-1-1) * sigma_2_beta_1s) | \n",
    "          (-0.5>beta0_hats + t.ppf(1-0.05/2, 100-1-1) * sigma_2_beta_1s )))\n"
   ]
  },
  {
   "cell_type": "code",
   "execution_count": null,
   "metadata": {},
   "outputs": [],
   "source": []
  }
 ],
 "metadata": {
  "kernelspec": {
   "display_name": "Python 3",
   "language": "python",
   "name": "python3"
  },
  "language_info": {
   "codemirror_mode": {
    "name": "ipython",
    "version": 3
   },
   "file_extension": ".py",
   "mimetype": "text/x-python",
   "name": "python",
   "nbconvert_exporter": "python",
   "pygments_lexer": "ipython3",
   "version": "3.7.3"
  }
 },
 "nbformat": 4,
 "nbformat_minor": 2
}
