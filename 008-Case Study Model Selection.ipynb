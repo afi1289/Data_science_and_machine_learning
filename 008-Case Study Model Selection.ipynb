{
 "cells": [
  {
   "cell_type": "markdown",
   "metadata": {},
   "source": [
    "# Case Study Model Selection\n",
    "\n",
    "**Data**: Some house price data from Kaggle\n",
    "\n",
    "https://www.kaggle.com/c/house-prices-advanced-regression-techniques"
   ]
  },
  {
   "cell_type": "code",
   "execution_count": 1,
   "metadata": {},
   "outputs": [],
   "source": [
    "import numpy as np # rechnen\n",
    "import pandas as pd # rechnen\n",
    "import matplotlib.pyplot as plt #plotten\n",
    "import seaborn as sns #plotten\n",
    "%matplotlib inline\n",
    "\n",
    "sns.set_style('white')\n",
    "pd.set_option('display.max_columns', 20)"
   ]
  },
  {
   "cell_type": "markdown",
   "metadata": {},
   "source": [
    "## Data import"
   ]
  },
  {
   "cell_type": "code",
   "execution_count": 2,
   "metadata": {},
   "outputs": [
    {
     "data": {
      "text/html": [
       "<div>\n",
       "<style scoped>\n",
       "    .dataframe tbody tr th:only-of-type {\n",
       "        vertical-align: middle;\n",
       "    }\n",
       "\n",
       "    .dataframe tbody tr th {\n",
       "        vertical-align: top;\n",
       "    }\n",
       "\n",
       "    .dataframe thead th {\n",
       "        text-align: right;\n",
       "    }\n",
       "</style>\n",
       "<table border=\"1\" class=\"dataframe\">\n",
       "  <thead>\n",
       "    <tr style=\"text-align: right;\">\n",
       "      <th></th>\n",
       "      <th>Id</th>\n",
       "      <th>MSSubClass</th>\n",
       "      <th>MSZoning</th>\n",
       "      <th>LotFrontage</th>\n",
       "      <th>LotArea</th>\n",
       "      <th>Street</th>\n",
       "      <th>Alley</th>\n",
       "      <th>LotShape</th>\n",
       "      <th>LandContour</th>\n",
       "      <th>Utilities</th>\n",
       "      <th>...</th>\n",
       "      <th>PoolArea</th>\n",
       "      <th>PoolQC</th>\n",
       "      <th>Fence</th>\n",
       "      <th>MiscFeature</th>\n",
       "      <th>MiscVal</th>\n",
       "      <th>MoSold</th>\n",
       "      <th>YrSold</th>\n",
       "      <th>SaleType</th>\n",
       "      <th>SaleCondition</th>\n",
       "      <th>SalePrice</th>\n",
       "    </tr>\n",
       "  </thead>\n",
       "  <tbody>\n",
       "    <tr>\n",
       "      <th>0</th>\n",
       "      <td>1</td>\n",
       "      <td>60</td>\n",
       "      <td>RL</td>\n",
       "      <td>65.0</td>\n",
       "      <td>8450</td>\n",
       "      <td>Pave</td>\n",
       "      <td>NaN</td>\n",
       "      <td>Reg</td>\n",
       "      <td>Lvl</td>\n",
       "      <td>AllPub</td>\n",
       "      <td>...</td>\n",
       "      <td>0</td>\n",
       "      <td>NaN</td>\n",
       "      <td>NaN</td>\n",
       "      <td>NaN</td>\n",
       "      <td>0</td>\n",
       "      <td>2</td>\n",
       "      <td>2008</td>\n",
       "      <td>WD</td>\n",
       "      <td>Normal</td>\n",
       "      <td>208500</td>\n",
       "    </tr>\n",
       "    <tr>\n",
       "      <th>1</th>\n",
       "      <td>2</td>\n",
       "      <td>20</td>\n",
       "      <td>RL</td>\n",
       "      <td>80.0</td>\n",
       "      <td>9600</td>\n",
       "      <td>Pave</td>\n",
       "      <td>NaN</td>\n",
       "      <td>Reg</td>\n",
       "      <td>Lvl</td>\n",
       "      <td>AllPub</td>\n",
       "      <td>...</td>\n",
       "      <td>0</td>\n",
       "      <td>NaN</td>\n",
       "      <td>NaN</td>\n",
       "      <td>NaN</td>\n",
       "      <td>0</td>\n",
       "      <td>5</td>\n",
       "      <td>2007</td>\n",
       "      <td>WD</td>\n",
       "      <td>Normal</td>\n",
       "      <td>181500</td>\n",
       "    </tr>\n",
       "    <tr>\n",
       "      <th>2</th>\n",
       "      <td>3</td>\n",
       "      <td>60</td>\n",
       "      <td>RL</td>\n",
       "      <td>68.0</td>\n",
       "      <td>11250</td>\n",
       "      <td>Pave</td>\n",
       "      <td>NaN</td>\n",
       "      <td>IR1</td>\n",
       "      <td>Lvl</td>\n",
       "      <td>AllPub</td>\n",
       "      <td>...</td>\n",
       "      <td>0</td>\n",
       "      <td>NaN</td>\n",
       "      <td>NaN</td>\n",
       "      <td>NaN</td>\n",
       "      <td>0</td>\n",
       "      <td>9</td>\n",
       "      <td>2008</td>\n",
       "      <td>WD</td>\n",
       "      <td>Normal</td>\n",
       "      <td>223500</td>\n",
       "    </tr>\n",
       "    <tr>\n",
       "      <th>3</th>\n",
       "      <td>4</td>\n",
       "      <td>70</td>\n",
       "      <td>RL</td>\n",
       "      <td>60.0</td>\n",
       "      <td>9550</td>\n",
       "      <td>Pave</td>\n",
       "      <td>NaN</td>\n",
       "      <td>IR1</td>\n",
       "      <td>Lvl</td>\n",
       "      <td>AllPub</td>\n",
       "      <td>...</td>\n",
       "      <td>0</td>\n",
       "      <td>NaN</td>\n",
       "      <td>NaN</td>\n",
       "      <td>NaN</td>\n",
       "      <td>0</td>\n",
       "      <td>2</td>\n",
       "      <td>2006</td>\n",
       "      <td>WD</td>\n",
       "      <td>Abnorml</td>\n",
       "      <td>140000</td>\n",
       "    </tr>\n",
       "    <tr>\n",
       "      <th>4</th>\n",
       "      <td>5</td>\n",
       "      <td>60</td>\n",
       "      <td>RL</td>\n",
       "      <td>84.0</td>\n",
       "      <td>14260</td>\n",
       "      <td>Pave</td>\n",
       "      <td>NaN</td>\n",
       "      <td>IR1</td>\n",
       "      <td>Lvl</td>\n",
       "      <td>AllPub</td>\n",
       "      <td>...</td>\n",
       "      <td>0</td>\n",
       "      <td>NaN</td>\n",
       "      <td>NaN</td>\n",
       "      <td>NaN</td>\n",
       "      <td>0</td>\n",
       "      <td>12</td>\n",
       "      <td>2008</td>\n",
       "      <td>WD</td>\n",
       "      <td>Normal</td>\n",
       "      <td>250000</td>\n",
       "    </tr>\n",
       "  </tbody>\n",
       "</table>\n",
       "<p>5 rows × 81 columns</p>\n",
       "</div>"
      ],
      "text/plain": [
       "   Id  MSSubClass MSZoning  LotFrontage  LotArea Street Alley LotShape  \\\n",
       "0   1          60       RL         65.0     8450   Pave   NaN      Reg   \n",
       "1   2          20       RL         80.0     9600   Pave   NaN      Reg   \n",
       "2   3          60       RL         68.0    11250   Pave   NaN      IR1   \n",
       "3   4          70       RL         60.0     9550   Pave   NaN      IR1   \n",
       "4   5          60       RL         84.0    14260   Pave   NaN      IR1   \n",
       "\n",
       "  LandContour Utilities  ... PoolArea PoolQC Fence MiscFeature MiscVal MoSold  \\\n",
       "0         Lvl    AllPub  ...        0    NaN   NaN         NaN       0      2   \n",
       "1         Lvl    AllPub  ...        0    NaN   NaN         NaN       0      5   \n",
       "2         Lvl    AllPub  ...        0    NaN   NaN         NaN       0      9   \n",
       "3         Lvl    AllPub  ...        0    NaN   NaN         NaN       0      2   \n",
       "4         Lvl    AllPub  ...        0    NaN   NaN         NaN       0     12   \n",
       "\n",
       "  YrSold  SaleType  SaleCondition  SalePrice  \n",
       "0   2008        WD         Normal     208500  \n",
       "1   2007        WD         Normal     181500  \n",
       "2   2008        WD         Normal     223500  \n",
       "3   2006        WD        Abnorml     140000  \n",
       "4   2008        WD         Normal     250000  \n",
       "\n",
       "[5 rows x 81 columns]"
      ]
     },
     "execution_count": 2,
     "metadata": {},
     "output_type": "execute_result"
    }
   ],
   "source": [
    "#Read a comma-separated values (csv) file into DataFrame\n",
    "df = pd.read_csv('train.csv')\n",
    "df.head()"
   ]
  },
  {
   "cell_type": "markdown",
   "metadata": {},
   "source": [
    "## EDA\n",
    "\n",
    "(Exploratory data analysis)\n"
   ]
  },
  {
   "cell_type": "code",
   "execution_count": 3,
   "metadata": {},
   "outputs": [
    {
     "data": {
      "text/html": [
       "<div>\n",
       "<style scoped>\n",
       "    .dataframe tbody tr th:only-of-type {\n",
       "        vertical-align: middle;\n",
       "    }\n",
       "\n",
       "    .dataframe tbody tr th {\n",
       "        vertical-align: top;\n",
       "    }\n",
       "\n",
       "    .dataframe thead th {\n",
       "        text-align: right;\n",
       "    }\n",
       "</style>\n",
       "<table border=\"1\" class=\"dataframe\">\n",
       "  <thead>\n",
       "    <tr style=\"text-align: right;\">\n",
       "      <th></th>\n",
       "      <th>Id</th>\n",
       "      <th>MSSubClass</th>\n",
       "      <th>LotFrontage</th>\n",
       "      <th>LotArea</th>\n",
       "      <th>OverallQual</th>\n",
       "      <th>OverallCond</th>\n",
       "      <th>YearBuilt</th>\n",
       "      <th>YearRemodAdd</th>\n",
       "      <th>MasVnrArea</th>\n",
       "      <th>BsmtFinSF1</th>\n",
       "      <th>...</th>\n",
       "      <th>WoodDeckSF</th>\n",
       "      <th>OpenPorchSF</th>\n",
       "      <th>EnclosedPorch</th>\n",
       "      <th>3SsnPorch</th>\n",
       "      <th>ScreenPorch</th>\n",
       "      <th>PoolArea</th>\n",
       "      <th>MiscVal</th>\n",
       "      <th>MoSold</th>\n",
       "      <th>YrSold</th>\n",
       "      <th>SalePrice</th>\n",
       "    </tr>\n",
       "  </thead>\n",
       "  <tbody>\n",
       "    <tr>\n",
       "      <th>count</th>\n",
       "      <td>1460.000000</td>\n",
       "      <td>1460.000000</td>\n",
       "      <td>1201.000000</td>\n",
       "      <td>1460.000000</td>\n",
       "      <td>1460.000000</td>\n",
       "      <td>1460.000000</td>\n",
       "      <td>1460.000000</td>\n",
       "      <td>1460.000000</td>\n",
       "      <td>1452.000000</td>\n",
       "      <td>1460.000000</td>\n",
       "      <td>...</td>\n",
       "      <td>1460.000000</td>\n",
       "      <td>1460.000000</td>\n",
       "      <td>1460.000000</td>\n",
       "      <td>1460.000000</td>\n",
       "      <td>1460.000000</td>\n",
       "      <td>1460.000000</td>\n",
       "      <td>1460.000000</td>\n",
       "      <td>1460.000000</td>\n",
       "      <td>1460.000000</td>\n",
       "      <td>1460.000000</td>\n",
       "    </tr>\n",
       "    <tr>\n",
       "      <th>mean</th>\n",
       "      <td>730.500000</td>\n",
       "      <td>56.897260</td>\n",
       "      <td>70.049958</td>\n",
       "      <td>10516.828082</td>\n",
       "      <td>6.099315</td>\n",
       "      <td>5.575342</td>\n",
       "      <td>1971.267808</td>\n",
       "      <td>1984.865753</td>\n",
       "      <td>103.685262</td>\n",
       "      <td>443.639726</td>\n",
       "      <td>...</td>\n",
       "      <td>94.244521</td>\n",
       "      <td>46.660274</td>\n",
       "      <td>21.954110</td>\n",
       "      <td>3.409589</td>\n",
       "      <td>15.060959</td>\n",
       "      <td>2.758904</td>\n",
       "      <td>43.489041</td>\n",
       "      <td>6.321918</td>\n",
       "      <td>2007.815753</td>\n",
       "      <td>180921.195890</td>\n",
       "    </tr>\n",
       "    <tr>\n",
       "      <th>std</th>\n",
       "      <td>421.610009</td>\n",
       "      <td>42.300571</td>\n",
       "      <td>24.284752</td>\n",
       "      <td>9981.264932</td>\n",
       "      <td>1.382997</td>\n",
       "      <td>1.112799</td>\n",
       "      <td>30.202904</td>\n",
       "      <td>20.645407</td>\n",
       "      <td>181.066207</td>\n",
       "      <td>456.098091</td>\n",
       "      <td>...</td>\n",
       "      <td>125.338794</td>\n",
       "      <td>66.256028</td>\n",
       "      <td>61.119149</td>\n",
       "      <td>29.317331</td>\n",
       "      <td>55.757415</td>\n",
       "      <td>40.177307</td>\n",
       "      <td>496.123024</td>\n",
       "      <td>2.703626</td>\n",
       "      <td>1.328095</td>\n",
       "      <td>79442.502883</td>\n",
       "    </tr>\n",
       "    <tr>\n",
       "      <th>min</th>\n",
       "      <td>1.000000</td>\n",
       "      <td>20.000000</td>\n",
       "      <td>21.000000</td>\n",
       "      <td>1300.000000</td>\n",
       "      <td>1.000000</td>\n",
       "      <td>1.000000</td>\n",
       "      <td>1872.000000</td>\n",
       "      <td>1950.000000</td>\n",
       "      <td>0.000000</td>\n",
       "      <td>0.000000</td>\n",
       "      <td>...</td>\n",
       "      <td>0.000000</td>\n",
       "      <td>0.000000</td>\n",
       "      <td>0.000000</td>\n",
       "      <td>0.000000</td>\n",
       "      <td>0.000000</td>\n",
       "      <td>0.000000</td>\n",
       "      <td>0.000000</td>\n",
       "      <td>1.000000</td>\n",
       "      <td>2006.000000</td>\n",
       "      <td>34900.000000</td>\n",
       "    </tr>\n",
       "    <tr>\n",
       "      <th>25%</th>\n",
       "      <td>365.750000</td>\n",
       "      <td>20.000000</td>\n",
       "      <td>59.000000</td>\n",
       "      <td>7553.500000</td>\n",
       "      <td>5.000000</td>\n",
       "      <td>5.000000</td>\n",
       "      <td>1954.000000</td>\n",
       "      <td>1967.000000</td>\n",
       "      <td>0.000000</td>\n",
       "      <td>0.000000</td>\n",
       "      <td>...</td>\n",
       "      <td>0.000000</td>\n",
       "      <td>0.000000</td>\n",
       "      <td>0.000000</td>\n",
       "      <td>0.000000</td>\n",
       "      <td>0.000000</td>\n",
       "      <td>0.000000</td>\n",
       "      <td>0.000000</td>\n",
       "      <td>5.000000</td>\n",
       "      <td>2007.000000</td>\n",
       "      <td>129975.000000</td>\n",
       "    </tr>\n",
       "    <tr>\n",
       "      <th>50%</th>\n",
       "      <td>730.500000</td>\n",
       "      <td>50.000000</td>\n",
       "      <td>69.000000</td>\n",
       "      <td>9478.500000</td>\n",
       "      <td>6.000000</td>\n",
       "      <td>5.000000</td>\n",
       "      <td>1973.000000</td>\n",
       "      <td>1994.000000</td>\n",
       "      <td>0.000000</td>\n",
       "      <td>383.500000</td>\n",
       "      <td>...</td>\n",
       "      <td>0.000000</td>\n",
       "      <td>25.000000</td>\n",
       "      <td>0.000000</td>\n",
       "      <td>0.000000</td>\n",
       "      <td>0.000000</td>\n",
       "      <td>0.000000</td>\n",
       "      <td>0.000000</td>\n",
       "      <td>6.000000</td>\n",
       "      <td>2008.000000</td>\n",
       "      <td>163000.000000</td>\n",
       "    </tr>\n",
       "    <tr>\n",
       "      <th>75%</th>\n",
       "      <td>1095.250000</td>\n",
       "      <td>70.000000</td>\n",
       "      <td>80.000000</td>\n",
       "      <td>11601.500000</td>\n",
       "      <td>7.000000</td>\n",
       "      <td>6.000000</td>\n",
       "      <td>2000.000000</td>\n",
       "      <td>2004.000000</td>\n",
       "      <td>166.000000</td>\n",
       "      <td>712.250000</td>\n",
       "      <td>...</td>\n",
       "      <td>168.000000</td>\n",
       "      <td>68.000000</td>\n",
       "      <td>0.000000</td>\n",
       "      <td>0.000000</td>\n",
       "      <td>0.000000</td>\n",
       "      <td>0.000000</td>\n",
       "      <td>0.000000</td>\n",
       "      <td>8.000000</td>\n",
       "      <td>2009.000000</td>\n",
       "      <td>214000.000000</td>\n",
       "    </tr>\n",
       "    <tr>\n",
       "      <th>max</th>\n",
       "      <td>1460.000000</td>\n",
       "      <td>190.000000</td>\n",
       "      <td>313.000000</td>\n",
       "      <td>215245.000000</td>\n",
       "      <td>10.000000</td>\n",
       "      <td>9.000000</td>\n",
       "      <td>2010.000000</td>\n",
       "      <td>2010.000000</td>\n",
       "      <td>1600.000000</td>\n",
       "      <td>5644.000000</td>\n",
       "      <td>...</td>\n",
       "      <td>857.000000</td>\n",
       "      <td>547.000000</td>\n",
       "      <td>552.000000</td>\n",
       "      <td>508.000000</td>\n",
       "      <td>480.000000</td>\n",
       "      <td>738.000000</td>\n",
       "      <td>15500.000000</td>\n",
       "      <td>12.000000</td>\n",
       "      <td>2010.000000</td>\n",
       "      <td>755000.000000</td>\n",
       "    </tr>\n",
       "  </tbody>\n",
       "</table>\n",
       "<p>8 rows × 38 columns</p>\n",
       "</div>"
      ],
      "text/plain": [
       "                Id   MSSubClass  LotFrontage        LotArea  OverallQual  \\\n",
       "count  1460.000000  1460.000000  1201.000000    1460.000000  1460.000000   \n",
       "mean    730.500000    56.897260    70.049958   10516.828082     6.099315   \n",
       "std     421.610009    42.300571    24.284752    9981.264932     1.382997   \n",
       "min       1.000000    20.000000    21.000000    1300.000000     1.000000   \n",
       "25%     365.750000    20.000000    59.000000    7553.500000     5.000000   \n",
       "50%     730.500000    50.000000    69.000000    9478.500000     6.000000   \n",
       "75%    1095.250000    70.000000    80.000000   11601.500000     7.000000   \n",
       "max    1460.000000   190.000000   313.000000  215245.000000    10.000000   \n",
       "\n",
       "       OverallCond    YearBuilt  YearRemodAdd   MasVnrArea   BsmtFinSF1  ...  \\\n",
       "count  1460.000000  1460.000000   1460.000000  1452.000000  1460.000000  ...   \n",
       "mean      5.575342  1971.267808   1984.865753   103.685262   443.639726  ...   \n",
       "std       1.112799    30.202904     20.645407   181.066207   456.098091  ...   \n",
       "min       1.000000  1872.000000   1950.000000     0.000000     0.000000  ...   \n",
       "25%       5.000000  1954.000000   1967.000000     0.000000     0.000000  ...   \n",
       "50%       5.000000  1973.000000   1994.000000     0.000000   383.500000  ...   \n",
       "75%       6.000000  2000.000000   2004.000000   166.000000   712.250000  ...   \n",
       "max       9.000000  2010.000000   2010.000000  1600.000000  5644.000000  ...   \n",
       "\n",
       "        WoodDeckSF  OpenPorchSF  EnclosedPorch    3SsnPorch  ScreenPorch  \\\n",
       "count  1460.000000  1460.000000    1460.000000  1460.000000  1460.000000   \n",
       "mean     94.244521    46.660274      21.954110     3.409589    15.060959   \n",
       "std     125.338794    66.256028      61.119149    29.317331    55.757415   \n",
       "min       0.000000     0.000000       0.000000     0.000000     0.000000   \n",
       "25%       0.000000     0.000000       0.000000     0.000000     0.000000   \n",
       "50%       0.000000    25.000000       0.000000     0.000000     0.000000   \n",
       "75%     168.000000    68.000000       0.000000     0.000000     0.000000   \n",
       "max     857.000000   547.000000     552.000000   508.000000   480.000000   \n",
       "\n",
       "          PoolArea       MiscVal       MoSold       YrSold      SalePrice  \n",
       "count  1460.000000   1460.000000  1460.000000  1460.000000    1460.000000  \n",
       "mean      2.758904     43.489041     6.321918  2007.815753  180921.195890  \n",
       "std      40.177307    496.123024     2.703626     1.328095   79442.502883  \n",
       "min       0.000000      0.000000     1.000000  2006.000000   34900.000000  \n",
       "25%       0.000000      0.000000     5.000000  2007.000000  129975.000000  \n",
       "50%       0.000000      0.000000     6.000000  2008.000000  163000.000000  \n",
       "75%       0.000000      0.000000     8.000000  2009.000000  214000.000000  \n",
       "max     738.000000  15500.000000    12.000000  2010.000000  755000.000000  \n",
       "\n",
       "[8 rows x 38 columns]"
      ]
     },
     "execution_count": 3,
     "metadata": {},
     "output_type": "execute_result"
    }
   ],
   "source": [
    "# Some first descriptives\n",
    "df.describe()\n",
    "# YearBuilt min  in year 1872 and max in year 2010\n",
    "# insgesamt haben wir 1460 Beobachtungen-> 1460 verschiedene Häuse Käufe"
   ]
  },
  {
   "cell_type": "code",
   "execution_count": 4,
   "metadata": {},
   "outputs": [
    {
     "data": {
      "text/plain": [
       "count      1460.000000\n",
       "mean     180921.195890\n",
       "std       79442.502883\n",
       "min       34900.000000\n",
       "25%      129975.000000\n",
       "50%      163000.000000\n",
       "75%      214000.000000\n",
       "max      755000.000000\n",
       "Name: SalePrice, dtype: float64"
      ]
     },
     "execution_count": 4,
     "metadata": {},
     "output_type": "execute_result"
    }
   ],
   "source": [
    "df['SalePrice'].describe() # hier haben wir 1460 Beobachtungen, teuerste Wohnung ist 755000"
   ]
  },
  {
   "cell_type": "code",
   "execution_count": 7,
   "metadata": {},
   "outputs": [
    {
     "data": {
      "text/plain": [
       "count    1201.000000\n",
       "mean       70.049958\n",
       "std        24.284752\n",
       "min        21.000000\n",
       "25%        59.000000\n",
       "50%        69.000000\n",
       "75%        80.000000\n",
       "max       313.000000\n",
       "Name: LotFrontage, dtype: float64"
      ]
     },
     "execution_count": 7,
     "metadata": {},
     "output_type": "execute_result"
    }
   ],
   "source": [
    "df['PoolQC'].describe() #Oooops! hier nur 7 Beobachtungen-> 1453 missing data!\n",
    "df['LotFrontage'].describe() # Oooops! hier nur 1201 Beobachtungen -> 259 missing date!"
   ]
  },
  {
   "cell_type": "code",
   "execution_count": 152,
   "metadata": {},
   "outputs": [
    {
     "data": {
      "image/png": "[encoded data removed]",
      "text/plain": [
       "<Figure size 432x288 with 1 Axes>"
      ]
     },
     "metadata": {},
     "output_type": "display_data"
    },
    {
     "data": {
      "image/png": "[encoded data removed]",
      "text/plain": [
       "<Figure size 432x288 with 1 Axes>"
      ]
     },
     "metadata": {},
     "output_type": "display_data"
    }
   ],
   "source": [
    "# Analysis of the dependent variable = die Verteilung meiner Abhängigen Variable\n",
    "#Bevor ich überhaupt gedanken über Modell machen muss, muss ich überlegen, welche Verteilung y hat! \n",
    "sns.distplot(df['SalePrice']) # nicht normal verteilt!-> Lösung: Log Transformation\n",
    "plt.show()\n",
    "sns.distplot(np.log(df['SalePrice']),color=\"red\")# weil y normal verteilt sein muss-> log Transformation\n",
    "plt.xlabel('log(SalePrice)')\n",
    "plt.show()\n",
    "# wir können auch überlegen, Gamma Verteilung zu schätzen, wenn wir keine Log-Transformation machen!"
   ]
  },
  {
   "cell_type": "code",
   "execution_count": 10,
   "metadata": {},
   "outputs": [
    {
     "data": {
      "image/png": "[encoded data removed]",
      "text/plain": [
       "<Figure size 720x720 with 20 Axes>"
      ]
     },
     "metadata": {
      "needs_background": "light"
     },
     "output_type": "display_data"
    }
   ],
   "source": [
    "# Analysis of (highly correlated) independent variables \n",
    "# Korrelationen\n",
    "df1 = df[['SalePrice','GrLivArea','GarageArea','OverallQual']] #OverallQual ist Dummy variable-> es gibt 10 verschienden Qualität Merkmale 1 ist schlecht und 10 ist die beste\n",
    "# df1\n",
    "# Metric independent variables\n",
    "sns.pairplot(df1) \n",
    "# Metric independent variables\n",
    "#sns.pairplot(df1, plot_kws={'color':'gray'}, diag_kws={'color':'grey'}) #we make another color with this code!\n",
    "plt.show()\n"
   ]
  },
  {
   "cell_type": "code",
   "execution_count": 154,
   "metadata": {},
   "outputs": [
    {
     "data": {
      "image/png": "[encoded data removed]",
      "text/plain": [
       "<Figure size 432x288 with 2 Axes>"
      ]
     },
     "metadata": {},
     "output_type": "display_data"
    }
   ],
   "source": [
    "# je schwärzer die Farbe ist, desto höher ist die Korrelation zwischen Variablen\n",
    "# -> bspw. je höher die OverallQual, desto höher ist die Saleprice\n",
    "# -> bspw. je größer meine Wohnung, desto mehr kostet/SalePrice\n",
    "sns.heatmap(df1.corr(), annot=True , cmap='Greys') \n",
    "# wir können auch corrmat=df1.corr() machen dann corrmat als input in heatmap Funktion benutzen\n",
    "# \n",
    "plt.show()"
   ]
  },
  {
   "cell_type": "code",
   "execution_count": 155,
   "metadata": {},
   "outputs": [
    {
     "data": {
      "image/png": "[encoded data removed]",
      "text/plain": [
       "<Figure size 432x288 with 1 Axes>"
      ]
     },
     "metadata": {},
     "output_type": "display_data"
    },
    {
     "data": {
      "image/png": "[encoded data removed]",
      "text/plain": [
       "<Figure size 432x288 with 1 Axes>"
      ]
     },
     "metadata": {},
     "output_type": "display_data"
    }
   ],
   "source": [
    "# andere Darstellung, was wie oben gesehen haben. Hier schauen wir die Streuung innerhalb verschienden Kategorien an\n",
    "# -> Die Streuung innerhalb verschiedenen Klassen\n",
    "\n",
    "sns.boxplot(x=df1['OverallQual'], y=df1['SalePrice'])\n",
    "plt.show()\n",
    "\n",
    "sns.boxplot(x=df1['OverallQual'], y=np.log(df1['SalePrice']), palette='Greys') #hier nützen wir log(['SalePrice'])\n",
    "plt.ylabel('log(Saleprice)')\n",
    "plt.show()\n",
    "\n",
    "# الظاهر كل مازادت الجودة كل مازاد السعر"
   ]
  },
  {
   "cell_type": "markdown",
   "metadata": {},
   "source": [
    "## Preporcessing\n",
    "\n",
    "**Note**: Dummy Coding is nessecary for categorical data - especially if nominal\n",
    "\n",
    "Alternative for ordinal data is `sklearn.preprocessing.LabelEncoder()`"
   ]
  },
  {
   "cell_type": "markdown",
   "metadata": {},
   "source": [
    "### Conversion of ordinal types"
   ]
  },
  {
   "cell_type": "code",
   "execution_count": 12,
   "metadata": {},
   "outputs": [
    {
     "data": {
      "text/html": [
       "<div>\n",
       "<style scoped>\n",
       "    .dataframe tbody tr th:only-of-type {\n",
       "        vertical-align: middle;\n",
       "    }\n",
       "\n",
       "    .dataframe tbody tr th {\n",
       "        vertical-align: top;\n",
       "    }\n",
       "\n",
       "    .dataframe thead th {\n",
       "        text-align: right;\n",
       "    }\n",
       "</style>\n",
       "<table border=\"1\" class=\"dataframe\">\n",
       "  <thead>\n",
       "    <tr style=\"text-align: right;\">\n",
       "      <th></th>\n",
       "      <th>Id</th>\n",
       "      <th>MSSubClass</th>\n",
       "      <th>MSZoning</th>\n",
       "      <th>LotFrontage</th>\n",
       "      <th>LotArea</th>\n",
       "      <th>Street</th>\n",
       "      <th>Alley</th>\n",
       "      <th>LotShape</th>\n",
       "      <th>LandContour</th>\n",
       "      <th>Utilities</th>\n",
       "      <th>...</th>\n",
       "      <th>PoolArea</th>\n",
       "      <th>PoolQC</th>\n",
       "      <th>Fence</th>\n",
       "      <th>MiscFeature</th>\n",
       "      <th>MiscVal</th>\n",
       "      <th>MoSold</th>\n",
       "      <th>YrSold</th>\n",
       "      <th>SaleType</th>\n",
       "      <th>SaleCondition</th>\n",
       "      <th>SalePrice</th>\n",
       "    </tr>\n",
       "  </thead>\n",
       "  <tbody>\n",
       "    <tr>\n",
       "      <th>0</th>\n",
       "      <td>1</td>\n",
       "      <td>60</td>\n",
       "      <td>RL</td>\n",
       "      <td>65.0</td>\n",
       "      <td>8450</td>\n",
       "      <td>Pave</td>\n",
       "      <td>NaN</td>\n",
       "      <td>Reg</td>\n",
       "      <td>Lvl</td>\n",
       "      <td>AllPub</td>\n",
       "      <td>...</td>\n",
       "      <td>0</td>\n",
       "      <td>NaN</td>\n",
       "      <td>NaN</td>\n",
       "      <td>NaN</td>\n",
       "      <td>0</td>\n",
       "      <td>2</td>\n",
       "      <td>2008</td>\n",
       "      <td>WD</td>\n",
       "      <td>Normal</td>\n",
       "      <td>208500</td>\n",
       "    </tr>\n",
       "    <tr>\n",
       "      <th>1</th>\n",
       "      <td>2</td>\n",
       "      <td>20</td>\n",
       "      <td>RL</td>\n",
       "      <td>80.0</td>\n",
       "      <td>9600</td>\n",
       "      <td>Pave</td>\n",
       "      <td>NaN</td>\n",
       "      <td>Reg</td>\n",
       "      <td>Lvl</td>\n",
       "      <td>AllPub</td>\n",
       "      <td>...</td>\n",
       "      <td>0</td>\n",
       "      <td>NaN</td>\n",
       "      <td>NaN</td>\n",
       "      <td>NaN</td>\n",
       "      <td>0</td>\n",
       "      <td>5</td>\n",
       "      <td>2007</td>\n",
       "      <td>WD</td>\n",
       "      <td>Normal</td>\n",
       "      <td>181500</td>\n",
       "    </tr>\n",
       "    <tr>\n",
       "      <th>2</th>\n",
       "      <td>3</td>\n",
       "      <td>60</td>\n",
       "      <td>RL</td>\n",
       "      <td>68.0</td>\n",
       "      <td>11250</td>\n",
       "      <td>Pave</td>\n",
       "      <td>NaN</td>\n",
       "      <td>IR1</td>\n",
       "      <td>Lvl</td>\n",
       "      <td>AllPub</td>\n",
       "      <td>...</td>\n",
       "      <td>0</td>\n",
       "      <td>NaN</td>\n",
       "      <td>NaN</td>\n",
       "      <td>NaN</td>\n",
       "      <td>0</td>\n",
       "      <td>9</td>\n",
       "      <td>2008</td>\n",
       "      <td>WD</td>\n",
       "      <td>Normal</td>\n",
       "      <td>223500</td>\n",
       "    </tr>\n",
       "    <tr>\n",
       "      <th>3</th>\n",
       "      <td>4</td>\n",
       "      <td>70</td>\n",
       "      <td>RL</td>\n",
       "      <td>60.0</td>\n",
       "      <td>9550</td>\n",
       "      <td>Pave</td>\n",
       "      <td>NaN</td>\n",
       "      <td>IR1</td>\n",
       "      <td>Lvl</td>\n",
       "      <td>AllPub</td>\n",
       "      <td>...</td>\n",
       "      <td>0</td>\n",
       "      <td>NaN</td>\n",
       "      <td>NaN</td>\n",
       "      <td>NaN</td>\n",
       "      <td>0</td>\n",
       "      <td>2</td>\n",
       "      <td>2006</td>\n",
       "      <td>WD</td>\n",
       "      <td>Abnorml</td>\n",
       "      <td>140000</td>\n",
       "    </tr>\n",
       "    <tr>\n",
       "      <th>4</th>\n",
       "      <td>5</td>\n",
       "      <td>60</td>\n",
       "      <td>RL</td>\n",
       "      <td>84.0</td>\n",
       "      <td>14260</td>\n",
       "      <td>Pave</td>\n",
       "      <td>NaN</td>\n",
       "      <td>IR1</td>\n",
       "      <td>Lvl</td>\n",
       "      <td>AllPub</td>\n",
       "      <td>...</td>\n",
       "      <td>0</td>\n",
       "      <td>NaN</td>\n",
       "      <td>NaN</td>\n",
       "      <td>NaN</td>\n",
       "      <td>0</td>\n",
       "      <td>12</td>\n",
       "      <td>2008</td>\n",
       "      <td>WD</td>\n",
       "      <td>Normal</td>\n",
       "      <td>250000</td>\n",
       "    </tr>\n",
       "  </tbody>\n",
       "</table>\n",
       "<p>5 rows × 81 columns</p>\n",
       "</div>"
      ],
      "text/plain": [
       "   Id  MSSubClass MSZoning  LotFrontage  LotArea Street Alley LotShape  \\\n",
       "0   1          60       RL         65.0     8450   Pave   NaN      Reg   \n",
       "1   2          20       RL         80.0     9600   Pave   NaN      Reg   \n",
       "2   3          60       RL         68.0    11250   Pave   NaN      IR1   \n",
       "3   4          70       RL         60.0     9550   Pave   NaN      IR1   \n",
       "4   5          60       RL         84.0    14260   Pave   NaN      IR1   \n",
       "\n",
       "  LandContour Utilities  ... PoolArea PoolQC Fence MiscFeature MiscVal MoSold  \\\n",
       "0         Lvl    AllPub  ...        0    NaN   NaN         NaN       0      2   \n",
       "1         Lvl    AllPub  ...        0    NaN   NaN         NaN       0      5   \n",
       "2         Lvl    AllPub  ...        0    NaN   NaN         NaN       0      9   \n",
       "3         Lvl    AllPub  ...        0    NaN   NaN         NaN       0      2   \n",
       "4         Lvl    AllPub  ...        0    NaN   NaN         NaN       0     12   \n",
       "\n",
       "  YrSold  SaleType  SaleCondition  SalePrice  \n",
       "0   2008        WD         Normal     208500  \n",
       "1   2007        WD         Normal     181500  \n",
       "2   2008        WD         Normal     223500  \n",
       "3   2006        WD        Abnorml     140000  \n",
       "4   2008        WD         Normal     250000  \n",
       "\n",
       "[5 rows x 81 columns]"
      ]
     },
     "execution_count": 12,
     "metadata": {},
     "output_type": "execute_result"
    }
   ],
   "source": [
    "#df.info()\n",
    "df.head()\n",
    "# Problem: In unserem DataFrame gibt es manche kategorialen Variable wie Street oder SaleCondition, die nicht numerisch sind\n",
    "# Lösung -> man muss kategoriale Variable in numerischen Variable umkodieren, weil in OLS nur Zahlen geht"
   ]
  },
  {
   "cell_type": "code",
   "execution_count": 16,
   "metadata": {},
   "outputs": [],
   "source": [
    "# spalte ExterQual \n",
    "# df['ExterQual']"
   ]
  },
  {
   "cell_type": "code",
   "execution_count": 17,
   "metadata": {},
   "outputs": [],
   "source": [
    "# für jedes Wort muss ein Zahl definiert werden 5,4,3,2,1 -> aber bis jetzt haben wir keine echte Zahlen\n",
    "# -> diese Zahlen müssen noch nicht im unseren Modell genützt werden sondern wir müssen Dummies kodieren -> يعني لسا نحولها لارقام صفر او واحد\n",
    "\n",
    "df.loc[df['ExterQual'] == 'Ex','ExterQual'] = 5   # جيبلي من عمود بالداتا فريم السطر اللي قيمته اي اكس وحط قيمته ٥\n",
    "df.loc[df['ExterQual'] == 'Gd','ExterQual'] = 4\n",
    "df.loc[df['ExterQual'] == 'TA','ExterQual'] = 3\n",
    "df.loc[df['ExterQual'] == 'Fa','ExterQual'] = 2\n",
    "\n",
    "df.loc[df['BsmtFinType1'] == 'GLQ','BsmtFinType1'] = 6\n",
    "df.loc[df['BsmtFinType1'] == 'ALQ','BsmtFinType1'] = 5\n",
    "df.loc[df['BsmtFinType1'] == 'BLQ','BsmtFinType1'] = 4\n",
    "df.loc[df['BsmtFinType1'] == 'Rec','BsmtFinType1'] = 3\n",
    "df.loc[df['BsmtFinType1'] == 'LwQ','BsmtFinType1'] = 2\n",
    "df.loc[df['BsmtFinType1'] == 'Unf','BsmtFinType1'] = 1 \n",
    "\n",
    "df.loc[df['BsmtQual'] == 'Ex','BsmtQual'] = 5\n",
    "df.loc[df['BsmtQual'] == 'Gd','BsmtQual'] = 4\n",
    "df.loc[df['BsmtQual'] == 'TA','BsmtQual'] = 3\n",
    "df.loc[df['BsmtQual'] == 'Fa','BsmtQual'] = 2\n",
    "df.loc[df['BsmtQual'] == 'Po','BsmtQual'] = 1  \n",
    "\n",
    "df.loc[df['Functional'] == 'Typ','Functional'] = 7\n",
    "df.loc[df['Functional'] == 'Min1','Functional'] = 6\n",
    "df.loc[df['Functional'] == 'Min2','Functional'] = 5\n",
    "df.loc[df['Functional'] == 'Mod','Functional'] = 4\n",
    "df.loc[df['Functional'] == 'Maj1','Functional'] = 3\n",
    "df.loc[df['Functional'] == 'Maj2','Functional'] = 2\n",
    "df.loc[df['Functional'] == 'Sev','Functional'] = 1\n",
    "\n",
    "df.loc[df['HeatingQC'] == 'Ex','HeatingQC'] = 5\n",
    "df.loc[df['HeatingQC'] == 'Gd','HeatingQC'] = 4\n",
    "df.loc[df['HeatingQC'] == 'TA','HeatingQC'] = 3\n",
    "df.loc[df['HeatingQC'] == 'Fa','HeatingQC'] = 2\n",
    "df.loc[df['HeatingQC'] == 'Po','HeatingQC'] = 1  \n",
    "\n",
    "df.loc[df['FireplaceQu'] == 'Ex','FireplaceQu'] = 5\n",
    "df.loc[df['FireplaceQu'] == 'Gd','FireplaceQu'] = 4\n",
    "df.loc[df['FireplaceQu'] == 'TA','FireplaceQu'] = 3\n",
    "df.loc[df['FireplaceQu'] == 'Fa','FireplaceQu'] = 2\n",
    "df.loc[df['FireplaceQu'] == 'Po','FireplaceQu'] = 1 \n",
    "\n",
    "# Dummies Kodierung -> man muss 5,4,3,2,1 zu 0,1 umkodieren\n",
    "df1=df.select_dtypes(exclude=['object'])\n",
    "\n",
    "df_dummies=pd.concat([pd.get_dummies(df['ExterQual'], prefix='ExterQual',drop_first=True),\n",
    "                      pd.get_dummies(df['BsmtQual'], prefix='BsmtQual',drop_first=True),\n",
    "                      pd.get_dummies(df['HeatingQC'], prefix='HeatingQC',drop_first=True),\n",
    "                      pd.get_dummies(df['BsmtFinType1'], prefix='BsmtFinType1',drop_first=True),\n",
    "                      pd.get_dummies(df['Functional'], prefix='Functional',drop_first=True),\n",
    "                      pd.get_dummies(df['FireplaceQu'], prefix='FireplaceQu',drop_first=True)],axis=1)\n",
    "# اسع هذا الاخير\n",
    "df_final=pd.concat([df_dummies, df1['LotFrontage LotArea YearBuilt GrLivArea FullBath Fireplaces GarageArea SalePrice'.split()]],axis=1)\n",
    "\n",
    "\n",
    "#pd.get_dummies"
   ]
  },
  {
   "cell_type": "code",
   "execution_count": 18,
   "metadata": {},
   "outputs": [
    {
     "data": {
      "text/html": [
       "<div>\n",
       "<style scoped>\n",
       "    .dataframe tbody tr th:only-of-type {\n",
       "        vertical-align: middle;\n",
       "    }\n",
       "\n",
       "    .dataframe tbody tr th {\n",
       "        vertical-align: top;\n",
       "    }\n",
       "\n",
       "    .dataframe thead th {\n",
       "        text-align: right;\n",
       "    }\n",
       "</style>\n",
       "<table border=\"1\" class=\"dataframe\">\n",
       "  <thead>\n",
       "    <tr style=\"text-align: right;\">\n",
       "      <th></th>\n",
       "      <th>ExterQual_3</th>\n",
       "      <th>ExterQual_4</th>\n",
       "      <th>ExterQual_5</th>\n",
       "      <th>BsmtQual_3</th>\n",
       "      <th>BsmtQual_4</th>\n",
       "      <th>BsmtQual_5</th>\n",
       "      <th>HeatingQC_2</th>\n",
       "      <th>HeatingQC_3</th>\n",
       "      <th>HeatingQC_4</th>\n",
       "      <th>HeatingQC_5</th>\n",
       "      <th>...</th>\n",
       "      <th>Functional_2</th>\n",
       "      <th>Functional_3</th>\n",
       "      <th>Functional_4</th>\n",
       "      <th>Functional_5</th>\n",
       "      <th>Functional_6</th>\n",
       "      <th>Functional_7</th>\n",
       "      <th>FireplaceQu_2</th>\n",
       "      <th>FireplaceQu_3</th>\n",
       "      <th>FireplaceQu_4</th>\n",
       "      <th>FireplaceQu_5</th>\n",
       "    </tr>\n",
       "  </thead>\n",
       "  <tbody>\n",
       "    <tr>\n",
       "      <th>0</th>\n",
       "      <td>0</td>\n",
       "      <td>1</td>\n",
       "      <td>0</td>\n",
       "      <td>0</td>\n",
       "      <td>1</td>\n",
       "      <td>0</td>\n",
       "      <td>0</td>\n",
       "      <td>0</td>\n",
       "      <td>0</td>\n",
       "      <td>1</td>\n",
       "      <td>...</td>\n",
       "      <td>0</td>\n",
       "      <td>0</td>\n",
       "      <td>0</td>\n",
       "      <td>0</td>\n",
       "      <td>0</td>\n",
       "      <td>1</td>\n",
       "      <td>0</td>\n",
       "      <td>0</td>\n",
       "      <td>0</td>\n",
       "      <td>0</td>\n",
       "    </tr>\n",
       "    <tr>\n",
       "      <th>1</th>\n",
       "      <td>1</td>\n",
       "      <td>0</td>\n",
       "      <td>0</td>\n",
       "      <td>0</td>\n",
       "      <td>1</td>\n",
       "      <td>0</td>\n",
       "      <td>0</td>\n",
       "      <td>0</td>\n",
       "      <td>0</td>\n",
       "      <td>1</td>\n",
       "      <td>...</td>\n",
       "      <td>0</td>\n",
       "      <td>0</td>\n",
       "      <td>0</td>\n",
       "      <td>0</td>\n",
       "      <td>0</td>\n",
       "      <td>1</td>\n",
       "      <td>0</td>\n",
       "      <td>1</td>\n",
       "      <td>0</td>\n",
       "      <td>0</td>\n",
       "    </tr>\n",
       "    <tr>\n",
       "      <th>2</th>\n",
       "      <td>0</td>\n",
       "      <td>1</td>\n",
       "      <td>0</td>\n",
       "      <td>0</td>\n",
       "      <td>1</td>\n",
       "      <td>0</td>\n",
       "      <td>0</td>\n",
       "      <td>0</td>\n",
       "      <td>0</td>\n",
       "      <td>1</td>\n",
       "      <td>...</td>\n",
       "      <td>0</td>\n",
       "      <td>0</td>\n",
       "      <td>0</td>\n",
       "      <td>0</td>\n",
       "      <td>0</td>\n",
       "      <td>1</td>\n",
       "      <td>0</td>\n",
       "      <td>1</td>\n",
       "      <td>0</td>\n",
       "      <td>0</td>\n",
       "    </tr>\n",
       "    <tr>\n",
       "      <th>3</th>\n",
       "      <td>1</td>\n",
       "      <td>0</td>\n",
       "      <td>0</td>\n",
       "      <td>1</td>\n",
       "      <td>0</td>\n",
       "      <td>0</td>\n",
       "      <td>0</td>\n",
       "      <td>0</td>\n",
       "      <td>1</td>\n",
       "      <td>0</td>\n",
       "      <td>...</td>\n",
       "      <td>0</td>\n",
       "      <td>0</td>\n",
       "      <td>0</td>\n",
       "      <td>0</td>\n",
       "      <td>0</td>\n",
       "      <td>1</td>\n",
       "      <td>0</td>\n",
       "      <td>0</td>\n",
       "      <td>1</td>\n",
       "      <td>0</td>\n",
       "    </tr>\n",
       "    <tr>\n",
       "      <th>4</th>\n",
       "      <td>0</td>\n",
       "      <td>1</td>\n",
       "      <td>0</td>\n",
       "      <td>0</td>\n",
       "      <td>1</td>\n",
       "      <td>0</td>\n",
       "      <td>0</td>\n",
       "      <td>0</td>\n",
       "      <td>0</td>\n",
       "      <td>1</td>\n",
       "      <td>...</td>\n",
       "      <td>0</td>\n",
       "      <td>0</td>\n",
       "      <td>0</td>\n",
       "      <td>0</td>\n",
       "      <td>0</td>\n",
       "      <td>1</td>\n",
       "      <td>0</td>\n",
       "      <td>1</td>\n",
       "      <td>0</td>\n",
       "      <td>0</td>\n",
       "    </tr>\n",
       "  </tbody>\n",
       "</table>\n",
       "<p>5 rows × 25 columns</p>\n",
       "</div>"
      ],
      "text/plain": [
       "   ExterQual_3  ExterQual_4  ExterQual_5  BsmtQual_3  BsmtQual_4  BsmtQual_5  \\\n",
       "0            0            1            0           0           1           0   \n",
       "1            1            0            0           0           1           0   \n",
       "2            0            1            0           0           1           0   \n",
       "3            1            0            0           1           0           0   \n",
       "4            0            1            0           0           1           0   \n",
       "\n",
       "   HeatingQC_2  HeatingQC_3  HeatingQC_4  HeatingQC_5  ...  Functional_2  \\\n",
       "0            0            0            0            1  ...             0   \n",
       "1            0            0            0            1  ...             0   \n",
       "2            0            0            0            1  ...             0   \n",
       "3            0            0            1            0  ...             0   \n",
       "4            0            0            0            1  ...             0   \n",
       "\n",
       "   Functional_3  Functional_4  Functional_5  Functional_6  Functional_7  \\\n",
       "0             0             0             0             0             1   \n",
       "1             0             0             0             0             1   \n",
       "2             0             0             0             0             1   \n",
       "3             0             0             0             0             1   \n",
       "4             0             0             0             0             1   \n",
       "\n",
       "   FireplaceQu_2  FireplaceQu_3  FireplaceQu_4  FireplaceQu_5  \n",
       "0              0              0              0              0  \n",
       "1              0              1              0              0  \n",
       "2              0              1              0              0  \n",
       "3              0              0              1              0  \n",
       "4              0              1              0              0  \n",
       "\n",
       "[5 rows x 25 columns]"
      ]
     },
     "execution_count": 18,
     "metadata": {},
     "output_type": "execute_result"
    }
   ],
   "source": [
    "# ich habe das gemacht\n",
    "df_dummies.head()\n"
   ]
  },
  {
   "cell_type": "markdown",
   "metadata": {},
   "source": [
    "### Final data frame \n",
    "\n",
    "(including dummy coding)"
   ]
  },
  {
   "cell_type": "code",
   "execution_count": 19,
   "metadata": {},
   "outputs": [
    {
     "data": {
      "text/html": [
       "<div>\n",
       "<style scoped>\n",
       "    .dataframe tbody tr th:only-of-type {\n",
       "        vertical-align: middle;\n",
       "    }\n",
       "\n",
       "    .dataframe tbody tr th {\n",
       "        vertical-align: top;\n",
       "    }\n",
       "\n",
       "    .dataframe thead th {\n",
       "        text-align: right;\n",
       "    }\n",
       "</style>\n",
       "<table border=\"1\" class=\"dataframe\">\n",
       "  <thead>\n",
       "    <tr style=\"text-align: right;\">\n",
       "      <th></th>\n",
       "      <th>ExterQual_3</th>\n",
       "      <th>ExterQual_4</th>\n",
       "      <th>ExterQual_5</th>\n",
       "      <th>BsmtQual_3</th>\n",
       "      <th>BsmtQual_4</th>\n",
       "      <th>BsmtQual_5</th>\n",
       "      <th>HeatingQC_2</th>\n",
       "      <th>HeatingQC_3</th>\n",
       "      <th>HeatingQC_4</th>\n",
       "      <th>HeatingQC_5</th>\n",
       "      <th>...</th>\n",
       "      <th>FireplaceQu_4</th>\n",
       "      <th>FireplaceQu_5</th>\n",
       "      <th>LotFrontage</th>\n",
       "      <th>LotArea</th>\n",
       "      <th>YearBuilt</th>\n",
       "      <th>GrLivArea</th>\n",
       "      <th>FullBath</th>\n",
       "      <th>Fireplaces</th>\n",
       "      <th>GarageArea</th>\n",
       "      <th>SalePrice</th>\n",
       "    </tr>\n",
       "  </thead>\n",
       "  <tbody>\n",
       "    <tr>\n",
       "      <th>0</th>\n",
       "      <td>0</td>\n",
       "      <td>1</td>\n",
       "      <td>0</td>\n",
       "      <td>0</td>\n",
       "      <td>1</td>\n",
       "      <td>0</td>\n",
       "      <td>0</td>\n",
       "      <td>0</td>\n",
       "      <td>0</td>\n",
       "      <td>1</td>\n",
       "      <td>...</td>\n",
       "      <td>0</td>\n",
       "      <td>0</td>\n",
       "      <td>65.0</td>\n",
       "      <td>8450</td>\n",
       "      <td>2003</td>\n",
       "      <td>1710</td>\n",
       "      <td>2</td>\n",
       "      <td>0</td>\n",
       "      <td>548</td>\n",
       "      <td>208500</td>\n",
       "    </tr>\n",
       "    <tr>\n",
       "      <th>1</th>\n",
       "      <td>1</td>\n",
       "      <td>0</td>\n",
       "      <td>0</td>\n",
       "      <td>0</td>\n",
       "      <td>1</td>\n",
       "      <td>0</td>\n",
       "      <td>0</td>\n",
       "      <td>0</td>\n",
       "      <td>0</td>\n",
       "      <td>1</td>\n",
       "      <td>...</td>\n",
       "      <td>0</td>\n",
       "      <td>0</td>\n",
       "      <td>80.0</td>\n",
       "      <td>9600</td>\n",
       "      <td>1976</td>\n",
       "      <td>1262</td>\n",
       "      <td>2</td>\n",
       "      <td>1</td>\n",
       "      <td>460</td>\n",
       "      <td>181500</td>\n",
       "    </tr>\n",
       "    <tr>\n",
       "      <th>2</th>\n",
       "      <td>0</td>\n",
       "      <td>1</td>\n",
       "      <td>0</td>\n",
       "      <td>0</td>\n",
       "      <td>1</td>\n",
       "      <td>0</td>\n",
       "      <td>0</td>\n",
       "      <td>0</td>\n",
       "      <td>0</td>\n",
       "      <td>1</td>\n",
       "      <td>...</td>\n",
       "      <td>0</td>\n",
       "      <td>0</td>\n",
       "      <td>68.0</td>\n",
       "      <td>11250</td>\n",
       "      <td>2001</td>\n",
       "      <td>1786</td>\n",
       "      <td>2</td>\n",
       "      <td>1</td>\n",
       "      <td>608</td>\n",
       "      <td>223500</td>\n",
       "    </tr>\n",
       "    <tr>\n",
       "      <th>3</th>\n",
       "      <td>1</td>\n",
       "      <td>0</td>\n",
       "      <td>0</td>\n",
       "      <td>1</td>\n",
       "      <td>0</td>\n",
       "      <td>0</td>\n",
       "      <td>0</td>\n",
       "      <td>0</td>\n",
       "      <td>1</td>\n",
       "      <td>0</td>\n",
       "      <td>...</td>\n",
       "      <td>1</td>\n",
       "      <td>0</td>\n",
       "      <td>60.0</td>\n",
       "      <td>9550</td>\n",
       "      <td>1915</td>\n",
       "      <td>1717</td>\n",
       "      <td>1</td>\n",
       "      <td>1</td>\n",
       "      <td>642</td>\n",
       "      <td>140000</td>\n",
       "    </tr>\n",
       "    <tr>\n",
       "      <th>4</th>\n",
       "      <td>0</td>\n",
       "      <td>1</td>\n",
       "      <td>0</td>\n",
       "      <td>0</td>\n",
       "      <td>1</td>\n",
       "      <td>0</td>\n",
       "      <td>0</td>\n",
       "      <td>0</td>\n",
       "      <td>0</td>\n",
       "      <td>1</td>\n",
       "      <td>...</td>\n",
       "      <td>0</td>\n",
       "      <td>0</td>\n",
       "      <td>84.0</td>\n",
       "      <td>14260</td>\n",
       "      <td>2000</td>\n",
       "      <td>2198</td>\n",
       "      <td>2</td>\n",
       "      <td>1</td>\n",
       "      <td>836</td>\n",
       "      <td>250000</td>\n",
       "    </tr>\n",
       "  </tbody>\n",
       "</table>\n",
       "<p>5 rows × 33 columns</p>\n",
       "</div>"
      ],
      "text/plain": [
       "   ExterQual_3  ExterQual_4  ExterQual_5  BsmtQual_3  BsmtQual_4  BsmtQual_5  \\\n",
       "0            0            1            0           0           1           0   \n",
       "1            1            0            0           0           1           0   \n",
       "2            0            1            0           0           1           0   \n",
       "3            1            0            0           1           0           0   \n",
       "4            0            1            0           0           1           0   \n",
       "\n",
       "   HeatingQC_2  HeatingQC_3  HeatingQC_4  HeatingQC_5  ...  FireplaceQu_4  \\\n",
       "0            0            0            0            1  ...              0   \n",
       "1            0            0            0            1  ...              0   \n",
       "2            0            0            0            1  ...              0   \n",
       "3            0            0            1            0  ...              1   \n",
       "4            0            0            0            1  ...              0   \n",
       "\n",
       "   FireplaceQu_5  LotFrontage  LotArea  YearBuilt  GrLivArea  FullBath  \\\n",
       "0              0         65.0     8450       2003       1710         2   \n",
       "1              0         80.0     9600       1976       1262         2   \n",
       "2              0         68.0    11250       2001       1786         2   \n",
       "3              0         60.0     9550       1915       1717         1   \n",
       "4              0         84.0    14260       2000       2198         2   \n",
       "\n",
       "   Fireplaces  GarageArea  SalePrice  \n",
       "0           0         548     208500  \n",
       "1           1         460     181500  \n",
       "2           1         608     223500  \n",
       "3           1         642     140000  \n",
       "4           1         836     250000  \n",
       "\n",
       "[5 rows x 33 columns]"
      ]
     },
     "execution_count": 19,
     "metadata": {},
     "output_type": "execute_result"
    }
   ],
   "source": [
    "df_final.head()"
   ]
  },
  {
   "cell_type": "markdown",
   "metadata": {},
   "source": [
    "### Outliers\n",
    "\n",
    "**Note**: We log-transform and `GrLivArea` and `SalcePrice` for comparability wih regression case"
   ]
  },
  {
   "cell_type": "code",
   "execution_count": 20,
   "metadata": {},
   "outputs": [
    {
     "name": "stderr",
     "output_type": "stream",
     "text": [
      "/Applications/Anaconda/anaconda3/lib/python3.7/site-packages/ipykernel_launcher.py:4: SettingWithCopyWarning: \n",
      "A value is trying to be set on a copy of a slice from a DataFrame.\n",
      "Try using .loc[row_indexer,col_indexer] = value instead\n",
      "\n",
      "See the caveats in the documentation: http://pandas.pydata.org/pandas-docs/stable/indexing.html#indexing-view-versus-copy\n",
      "  after removing the cwd from sys.path.\n",
      "/Applications/Anaconda/anaconda3/lib/python3.7/site-packages/ipykernel_launcher.py:5: SettingWithCopyWarning: \n",
      "A value is trying to be set on a copy of a slice from a DataFrame.\n",
      "Try using .loc[row_indexer,col_indexer] = value instead\n",
      "\n",
      "See the caveats in the documentation: http://pandas.pydata.org/pandas-docs/stable/indexing.html#indexing-view-versus-copy\n",
      "  \"\"\"\n"
     ]
    }
   ],
   "source": [
    "# OLS ist sehr sensitive zu Außreißer-> muss raus sein\n",
    "df1 = df_final[df_final['GrLivArea'] < 4000]\n",
    "# df1.head()\n",
    "df1['GrLivArea'] = np.log(df1['GrLivArea'])\n",
    "df1['SalePrice'] = np.log(df1['SalePrice'])"
   ]
  },
  {
   "cell_type": "code",
   "execution_count": 21,
   "metadata": {},
   "outputs": [
    {
     "data": {
      "text/html": [
       "<div>\n",
       "<style scoped>\n",
       "    .dataframe tbody tr th:only-of-type {\n",
       "        vertical-align: middle;\n",
       "    }\n",
       "\n",
       "    .dataframe tbody tr th {\n",
       "        vertical-align: top;\n",
       "    }\n",
       "\n",
       "    .dataframe thead th {\n",
       "        text-align: right;\n",
       "    }\n",
       "</style>\n",
       "<table border=\"1\" class=\"dataframe\">\n",
       "  <thead>\n",
       "    <tr style=\"text-align: right;\">\n",
       "      <th></th>\n",
       "      <th>ExterQual_3</th>\n",
       "      <th>ExterQual_4</th>\n",
       "      <th>ExterQual_5</th>\n",
       "      <th>BsmtQual_3</th>\n",
       "      <th>BsmtQual_4</th>\n",
       "      <th>BsmtQual_5</th>\n",
       "      <th>HeatingQC_2</th>\n",
       "      <th>HeatingQC_3</th>\n",
       "      <th>HeatingQC_4</th>\n",
       "      <th>HeatingQC_5</th>\n",
       "      <th>...</th>\n",
       "      <th>FireplaceQu_4</th>\n",
       "      <th>FireplaceQu_5</th>\n",
       "      <th>LotFrontage</th>\n",
       "      <th>LotArea</th>\n",
       "      <th>YearBuilt</th>\n",
       "      <th>GrLivArea</th>\n",
       "      <th>FullBath</th>\n",
       "      <th>Fireplaces</th>\n",
       "      <th>GarageArea</th>\n",
       "      <th>SalePrice</th>\n",
       "    </tr>\n",
       "  </thead>\n",
       "  <tbody>\n",
       "    <tr>\n",
       "      <th>0</th>\n",
       "      <td>0</td>\n",
       "      <td>1</td>\n",
       "      <td>0</td>\n",
       "      <td>0</td>\n",
       "      <td>1</td>\n",
       "      <td>0</td>\n",
       "      <td>0</td>\n",
       "      <td>0</td>\n",
       "      <td>0</td>\n",
       "      <td>1</td>\n",
       "      <td>...</td>\n",
       "      <td>0</td>\n",
       "      <td>0</td>\n",
       "      <td>65.0</td>\n",
       "      <td>8450</td>\n",
       "      <td>2003</td>\n",
       "      <td>7.444249</td>\n",
       "      <td>2</td>\n",
       "      <td>0</td>\n",
       "      <td>548</td>\n",
       "      <td>12.247694</td>\n",
       "    </tr>\n",
       "    <tr>\n",
       "      <th>1</th>\n",
       "      <td>1</td>\n",
       "      <td>0</td>\n",
       "      <td>0</td>\n",
       "      <td>0</td>\n",
       "      <td>1</td>\n",
       "      <td>0</td>\n",
       "      <td>0</td>\n",
       "      <td>0</td>\n",
       "      <td>0</td>\n",
       "      <td>1</td>\n",
       "      <td>...</td>\n",
       "      <td>0</td>\n",
       "      <td>0</td>\n",
       "      <td>80.0</td>\n",
       "      <td>9600</td>\n",
       "      <td>1976</td>\n",
       "      <td>7.140453</td>\n",
       "      <td>2</td>\n",
       "      <td>1</td>\n",
       "      <td>460</td>\n",
       "      <td>12.109011</td>\n",
       "    </tr>\n",
       "    <tr>\n",
       "      <th>2</th>\n",
       "      <td>0</td>\n",
       "      <td>1</td>\n",
       "      <td>0</td>\n",
       "      <td>0</td>\n",
       "      <td>1</td>\n",
       "      <td>0</td>\n",
       "      <td>0</td>\n",
       "      <td>0</td>\n",
       "      <td>0</td>\n",
       "      <td>1</td>\n",
       "      <td>...</td>\n",
       "      <td>0</td>\n",
       "      <td>0</td>\n",
       "      <td>68.0</td>\n",
       "      <td>11250</td>\n",
       "      <td>2001</td>\n",
       "      <td>7.487734</td>\n",
       "      <td>2</td>\n",
       "      <td>1</td>\n",
       "      <td>608</td>\n",
       "      <td>12.317167</td>\n",
       "    </tr>\n",
       "    <tr>\n",
       "      <th>3</th>\n",
       "      <td>1</td>\n",
       "      <td>0</td>\n",
       "      <td>0</td>\n",
       "      <td>1</td>\n",
       "      <td>0</td>\n",
       "      <td>0</td>\n",
       "      <td>0</td>\n",
       "      <td>0</td>\n",
       "      <td>1</td>\n",
       "      <td>0</td>\n",
       "      <td>...</td>\n",
       "      <td>1</td>\n",
       "      <td>0</td>\n",
       "      <td>60.0</td>\n",
       "      <td>9550</td>\n",
       "      <td>1915</td>\n",
       "      <td>7.448334</td>\n",
       "      <td>1</td>\n",
       "      <td>1</td>\n",
       "      <td>642</td>\n",
       "      <td>11.849398</td>\n",
       "    </tr>\n",
       "    <tr>\n",
       "      <th>4</th>\n",
       "      <td>0</td>\n",
       "      <td>1</td>\n",
       "      <td>0</td>\n",
       "      <td>0</td>\n",
       "      <td>1</td>\n",
       "      <td>0</td>\n",
       "      <td>0</td>\n",
       "      <td>0</td>\n",
       "      <td>0</td>\n",
       "      <td>1</td>\n",
       "      <td>...</td>\n",
       "      <td>0</td>\n",
       "      <td>0</td>\n",
       "      <td>84.0</td>\n",
       "      <td>14260</td>\n",
       "      <td>2000</td>\n",
       "      <td>7.695303</td>\n",
       "      <td>2</td>\n",
       "      <td>1</td>\n",
       "      <td>836</td>\n",
       "      <td>12.429216</td>\n",
       "    </tr>\n",
       "  </tbody>\n",
       "</table>\n",
       "<p>5 rows × 33 columns</p>\n",
       "</div>"
      ],
      "text/plain": [
       "   ExterQual_3  ExterQual_4  ExterQual_5  BsmtQual_3  BsmtQual_4  BsmtQual_5  \\\n",
       "0            0            1            0           0           1           0   \n",
       "1            1            0            0           0           1           0   \n",
       "2            0            1            0           0           1           0   \n",
       "3            1            0            0           1           0           0   \n",
       "4            0            1            0           0           1           0   \n",
       "\n",
       "   HeatingQC_2  HeatingQC_3  HeatingQC_4  HeatingQC_5  ...  FireplaceQu_4  \\\n",
       "0            0            0            0            1  ...              0   \n",
       "1            0            0            0            1  ...              0   \n",
       "2            0            0            0            1  ...              0   \n",
       "3            0            0            1            0  ...              1   \n",
       "4            0            0            0            1  ...              0   \n",
       "\n",
       "   FireplaceQu_5  LotFrontage  LotArea  YearBuilt  GrLivArea  FullBath  \\\n",
       "0              0         65.0     8450       2003   7.444249         2   \n",
       "1              0         80.0     9600       1976   7.140453         2   \n",
       "2              0         68.0    11250       2001   7.487734         2   \n",
       "3              0         60.0     9550       1915   7.448334         1   \n",
       "4              0         84.0    14260       2000   7.695303         2   \n",
       "\n",
       "   Fireplaces  GarageArea  SalePrice  \n",
       "0           0         548  12.247694  \n",
       "1           1         460  12.109011  \n",
       "2           1         608  12.317167  \n",
       "3           1         642  11.849398  \n",
       "4           1         836  12.429216  \n",
       "\n",
       "[5 rows x 33 columns]"
      ]
     },
     "execution_count": 21,
     "metadata": {},
     "output_type": "execute_result"
    }
   ],
   "source": [
    "df1.head() # look at GrLivArea column values now!"
   ]
  },
  {
   "cell_type": "markdown",
   "metadata": {},
   "source": [
    "### Train and test data"
   ]
  },
  {
   "cell_type": "code",
   "execution_count": 22,
   "metadata": {},
   "outputs": [],
   "source": [
    "X = df1.drop('SalePrice', axis=1) #wir definieren unsere X, wo X beinhalter alle Variable außer SalePrice\n",
    "# warum SalePrice ist raus? SalePrice ist unsere y-> wir möchten SalePrice prognosieren\n",
    "y = df1['SalePrice'] "
   ]
  },
  {
   "cell_type": "code",
   "execution_count": 23,
   "metadata": {},
   "outputs": [
    {
     "data": {
      "text/html": [
       "<div>\n",
       "<style scoped>\n",
       "    .dataframe tbody tr th:only-of-type {\n",
       "        vertical-align: middle;\n",
       "    }\n",
       "\n",
       "    .dataframe tbody tr th {\n",
       "        vertical-align: top;\n",
       "    }\n",
       "\n",
       "    .dataframe thead th {\n",
       "        text-align: right;\n",
       "    }\n",
       "</style>\n",
       "<table border=\"1\" class=\"dataframe\">\n",
       "  <thead>\n",
       "    <tr style=\"text-align: right;\">\n",
       "      <th></th>\n",
       "      <th>ExterQual_3</th>\n",
       "      <th>ExterQual_4</th>\n",
       "      <th>ExterQual_5</th>\n",
       "      <th>BsmtQual_3</th>\n",
       "      <th>BsmtQual_4</th>\n",
       "      <th>BsmtQual_5</th>\n",
       "      <th>HeatingQC_2</th>\n",
       "      <th>HeatingQC_3</th>\n",
       "      <th>HeatingQC_4</th>\n",
       "      <th>HeatingQC_5</th>\n",
       "      <th>...</th>\n",
       "      <th>FireplaceQu_3</th>\n",
       "      <th>FireplaceQu_4</th>\n",
       "      <th>FireplaceQu_5</th>\n",
       "      <th>LotFrontage</th>\n",
       "      <th>LotArea</th>\n",
       "      <th>YearBuilt</th>\n",
       "      <th>GrLivArea</th>\n",
       "      <th>FullBath</th>\n",
       "      <th>Fireplaces</th>\n",
       "      <th>GarageArea</th>\n",
       "    </tr>\n",
       "  </thead>\n",
       "  <tbody>\n",
       "    <tr>\n",
       "      <th>0</th>\n",
       "      <td>0</td>\n",
       "      <td>1</td>\n",
       "      <td>0</td>\n",
       "      <td>0</td>\n",
       "      <td>1</td>\n",
       "      <td>0</td>\n",
       "      <td>0</td>\n",
       "      <td>0</td>\n",
       "      <td>0</td>\n",
       "      <td>1</td>\n",
       "      <td>...</td>\n",
       "      <td>0</td>\n",
       "      <td>0</td>\n",
       "      <td>0</td>\n",
       "      <td>65.0</td>\n",
       "      <td>8450</td>\n",
       "      <td>2003</td>\n",
       "      <td>7.444249</td>\n",
       "      <td>2</td>\n",
       "      <td>0</td>\n",
       "      <td>548</td>\n",
       "    </tr>\n",
       "    <tr>\n",
       "      <th>1</th>\n",
       "      <td>1</td>\n",
       "      <td>0</td>\n",
       "      <td>0</td>\n",
       "      <td>0</td>\n",
       "      <td>1</td>\n",
       "      <td>0</td>\n",
       "      <td>0</td>\n",
       "      <td>0</td>\n",
       "      <td>0</td>\n",
       "      <td>1</td>\n",
       "      <td>...</td>\n",
       "      <td>1</td>\n",
       "      <td>0</td>\n",
       "      <td>0</td>\n",
       "      <td>80.0</td>\n",
       "      <td>9600</td>\n",
       "      <td>1976</td>\n",
       "      <td>7.140453</td>\n",
       "      <td>2</td>\n",
       "      <td>1</td>\n",
       "      <td>460</td>\n",
       "    </tr>\n",
       "    <tr>\n",
       "      <th>2</th>\n",
       "      <td>0</td>\n",
       "      <td>1</td>\n",
       "      <td>0</td>\n",
       "      <td>0</td>\n",
       "      <td>1</td>\n",
       "      <td>0</td>\n",
       "      <td>0</td>\n",
       "      <td>0</td>\n",
       "      <td>0</td>\n",
       "      <td>1</td>\n",
       "      <td>...</td>\n",
       "      <td>1</td>\n",
       "      <td>0</td>\n",
       "      <td>0</td>\n",
       "      <td>68.0</td>\n",
       "      <td>11250</td>\n",
       "      <td>2001</td>\n",
       "      <td>7.487734</td>\n",
       "      <td>2</td>\n",
       "      <td>1</td>\n",
       "      <td>608</td>\n",
       "    </tr>\n",
       "    <tr>\n",
       "      <th>3</th>\n",
       "      <td>1</td>\n",
       "      <td>0</td>\n",
       "      <td>0</td>\n",
       "      <td>1</td>\n",
       "      <td>0</td>\n",
       "      <td>0</td>\n",
       "      <td>0</td>\n",
       "      <td>0</td>\n",
       "      <td>1</td>\n",
       "      <td>0</td>\n",
       "      <td>...</td>\n",
       "      <td>0</td>\n",
       "      <td>1</td>\n",
       "      <td>0</td>\n",
       "      <td>60.0</td>\n",
       "      <td>9550</td>\n",
       "      <td>1915</td>\n",
       "      <td>7.448334</td>\n",
       "      <td>1</td>\n",
       "      <td>1</td>\n",
       "      <td>642</td>\n",
       "    </tr>\n",
       "    <tr>\n",
       "      <th>4</th>\n",
       "      <td>0</td>\n",
       "      <td>1</td>\n",
       "      <td>0</td>\n",
       "      <td>0</td>\n",
       "      <td>1</td>\n",
       "      <td>0</td>\n",
       "      <td>0</td>\n",
       "      <td>0</td>\n",
       "      <td>0</td>\n",
       "      <td>1</td>\n",
       "      <td>...</td>\n",
       "      <td>1</td>\n",
       "      <td>0</td>\n",
       "      <td>0</td>\n",
       "      <td>84.0</td>\n",
       "      <td>14260</td>\n",
       "      <td>2000</td>\n",
       "      <td>7.695303</td>\n",
       "      <td>2</td>\n",
       "      <td>1</td>\n",
       "      <td>836</td>\n",
       "    </tr>\n",
       "  </tbody>\n",
       "</table>\n",
       "<p>5 rows × 32 columns</p>\n",
       "</div>"
      ],
      "text/plain": [
       "   ExterQual_3  ExterQual_4  ExterQual_5  BsmtQual_3  BsmtQual_4  BsmtQual_5  \\\n",
       "0            0            1            0           0           1           0   \n",
       "1            1            0            0           0           1           0   \n",
       "2            0            1            0           0           1           0   \n",
       "3            1            0            0           1           0           0   \n",
       "4            0            1            0           0           1           0   \n",
       "\n",
       "   HeatingQC_2  HeatingQC_3  HeatingQC_4  HeatingQC_5  ...  FireplaceQu_3  \\\n",
       "0            0            0            0            1  ...              0   \n",
       "1            0            0            0            1  ...              1   \n",
       "2            0            0            0            1  ...              1   \n",
       "3            0            0            1            0  ...              0   \n",
       "4            0            0            0            1  ...              1   \n",
       "\n",
       "   FireplaceQu_4  FireplaceQu_5  LotFrontage  LotArea  YearBuilt  GrLivArea  \\\n",
       "0              0              0         65.0     8450       2003   7.444249   \n",
       "1              0              0         80.0     9600       1976   7.140453   \n",
       "2              0              0         68.0    11250       2001   7.487734   \n",
       "3              1              0         60.0     9550       1915   7.448334   \n",
       "4              0              0         84.0    14260       2000   7.695303   \n",
       "\n",
       "   FullBath  Fireplaces  GarageArea  \n",
       "0         2           0         548  \n",
       "1         2           1         460  \n",
       "2         2           1         608  \n",
       "3         1           1         642  \n",
       "4         2           1         836  \n",
       "\n",
       "[5 rows x 32 columns]"
      ]
     },
     "execution_count": 23,
     "metadata": {},
     "output_type": "execute_result"
    }
   ],
   "source": [
    "X.head()\n",
    "#X.info()"
   ]
  },
  {
   "cell_type": "code",
   "execution_count": 24,
   "metadata": {},
   "outputs": [
    {
     "data": {
      "text/plain": [
       "0    12.247694\n",
       "1    12.109011\n",
       "2    12.317167\n",
       "3    11.849398\n",
       "4    12.429216\n",
       "Name: SalePrice, dtype: float64"
      ]
     },
     "execution_count": 24,
     "metadata": {},
     "output_type": "execute_result"
    }
   ],
   "source": [
    "y.head() # hier gibt SalePrice Daten nach Log-Transformation!"
   ]
  },
  {
   "cell_type": "code",
   "execution_count": 26,
   "metadata": {},
   "outputs": [],
   "source": [
    "# X wird in Training Datensatz und Test Datensatz -> einfache Methode heißt train_test_split\n",
    "from sklearn.model_selection import train_test_split\n",
    "\n",
    "# mit Zufall wird mein Daten zu 30% Test-Daten und 70% Training-Daten gesplittet \n",
    "X_train, X_test, y_train, y_test = train_test_split(X, y, test_size=0.3, random_state=77) \n",
    "X_train = X_train.copy()\n",
    "X_test = X_test.copy()"
   ]
  },
  {
   "cell_type": "code",
   "execution_count": 27,
   "metadata": {},
   "outputs": [
    {
     "name": "stdout",
     "output_type": "stream",
     "text": [
      "Dataframe has 32 columns.\n",
      "There are 1 columns that have missing values.\n",
      "Dataframe has 32 columns.\n",
      "There are 1 columns that have missing values.\n"
     ]
    }
   ],
   "source": [
    "# was müssen wir mit N/A bzw. Missing Values machen?\n",
    "# wir definierern eine Funktion null_values, die ich meine DateFrame geben und sie gibt mir aus, wo Missing Values sind?\n",
    "def null_values(df):\n",
    "        mis_val = df.isnull().sum()\n",
    "        mis_val_percent = 100 * df.isnull().sum() / len(df)\n",
    "        mis_val_table = pd.concat([mis_val, mis_val_percent], axis=1)\n",
    "        mis_val_table_ren_columns = mis_val_table.rename(\n",
    "        columns = {0 : 'Missing Values', 1 : '% of Total Values'})\n",
    "        mis_val_table_ren_columns = mis_val_table_ren_columns[\n",
    "            mis_val_table_ren_columns.iloc[:,1] != 0].sort_values(\n",
    "        '% of Total Values', ascending=False).round(1)\n",
    "        print (\"Dataframe has \" + str(df.shape[1]) + \" columns.\\n\"      \n",
    "            \"There are \" + str(mis_val_table_ren_columns.shape[0]) +\n",
    "              \" columns that have missing values.\")\n",
    "        return mis_val_table_ren_columns\n",
    "\n",
    "null_values(X_train)\n",
    "null_values(X_test)\n",
    "\n",
    "# Missing Values!-> eine Lösung: durch Mittelwert ersetzten\n",
    "X_train['LotFrontage'] = X_train['LotFrontage'].fillna(X_train['LotFrontage'].mean())\n",
    "X_test['LotFrontage'] = X_test['LotFrontage'].fillna(X_test['LotFrontage'].mean())\n"
   ]
  },
  {
   "cell_type": "markdown",
   "metadata": {},
   "source": [
    "### only 1 column has missing values! what about PoolQC or another columns???\n",
    "### you have forgotten something! what?\n",
    "### we are dealing now with X_train which comes form X which comes from df_final which has not all the columns "
   ]
  },
  {
   "cell_type": "markdown",
   "metadata": {},
   "source": [
    "## Model estimation\n",
    "#### jetzt schätzen wir erste Modell -> wir beginnen mit Linear Regression"
   ]
  },
  {
   "cell_type": "markdown",
   "metadata": {},
   "source": [
    "### `LinearRegression` (Reference)"
   ]
  },
  {
   "cell_type": "code",
   "execution_count": 28,
   "metadata": {},
   "outputs": [],
   "source": [
    "from sklearn.linear_model import LinearRegression # importatnt: look at using shift tab and see example"
   ]
  },
  {
   "cell_type": "code",
   "execution_count": 29,
   "metadata": {},
   "outputs": [
    {
     "data": {
      "text/plain": [
       "LinearRegression(copy_X=True, fit_intercept=True, n_jobs=None, normalize=False)"
      ]
     },
     "execution_count": 29,
     "metadata": {},
     "output_type": "execute_result"
    }
   ],
   "source": [
    "linreg = LinearRegression()\n",
    "linreg.fit(X_train, y_train) #Fit linear model"
   ]
  },
  {
   "cell_type": "code",
   "execution_count": 30,
   "metadata": {},
   "outputs": [
    {
     "data": {
      "text/plain": [
       "array([ 1.95939982e-01,  2.68201816e-01,  3.91672297e-01,  7.07886621e-02,\n",
       "        1.09020638e-01,  2.08469220e-01,  6.59163578e-02,  9.91095085e-02,\n",
       "        1.61049416e-01,  1.77698416e-01,  9.17821318e-02,  5.19734012e-02,\n",
       "        8.45603966e-02,  1.09311373e-01,  1.15877310e-01,  2.78107814e-01,\n",
       "        3.48128334e-01,  3.65867019e-01,  4.36645985e-01,  4.55809127e-01,\n",
       "        5.40858494e-01,  2.68562672e-02, -4.51800063e-03,  4.35410448e-02,\n",
       "        8.06834536e-02,  1.26185552e-03,  3.26429775e-06,  2.10879545e-03,\n",
       "        4.92254891e-01,  8.67784690e-03,  5.93175109e-02,  2.89800205e-04])"
      ]
     },
     "execution_count": 30,
     "metadata": {},
     "output_type": "execute_result"
    }
   ],
   "source": [
    "linreg.coef_ # show me the coefficients"
   ]
  },
  {
   "cell_type": "markdown",
   "metadata": {},
   "source": [
    "**Evaluation**"
   ]
  },
  {
   "cell_type": "code",
   "execution_count": 31,
   "metadata": {},
   "outputs": [],
   "source": [
    "from sklearn.metrics import mean_absolute_error, mean_squared_error #nehmen wir 2 Evaluation Metriken"
   ]
  },
  {
   "cell_type": "code",
   "execution_count": 32,
   "metadata": {},
   "outputs": [],
   "source": [
    "# predicting using linear model \n",
    "# test + training اعمل توقع باستخدام\n",
    "linreg_pred_is = linreg.predict(X_train) # In-sample: wie ist der Fit auf mein Trainings Daten ا \n",
    "linreg_pred_os = linreg.predict(X_test) # Out-Of-Sample: wie ist der Fit auf mein Test Daten (Daten, die mein Modell nicht gesehen hat)"
   ]
  },
  {
   "cell_type": "code",
   "execution_count": 34,
   "metadata": {},
   "outputs": [
    {
     "name": "stdout",
     "output_type": "stream",
     "text": [
      "Mean absolute error: 0.10772910657765551\n",
      "Mean squared error: 0.02115239682857889\n",
      "Root mean squared error: 0.1454386359554396\n"
     ]
    }
   ],
   "source": [
    "# ماهو الخطآ الموجود عند التوقع باستخدام training daten\n",
    "print('Mean absolute error: ' + str(mean_absolute_error(y_train,linreg_pred_is))) # حطينا قيم واي الحقيقية والقيم المتوقعة الناتجة عن النموذج ثم احسب الخطآ\n",
    "print('Mean squared error: ' + str(mean_squared_error(y_train,linreg_pred_is)))\n",
    "print('Root mean squared error: ' + str(np.sqrt(mean_squared_error(y_train,linreg_pred_is)))) # لاحظ الجذر التربيعي"
   ]
  },
  {
   "cell_type": "code",
   "execution_count": 35,
   "metadata": {},
   "outputs": [
    {
     "name": "stdout",
     "output_type": "stream",
     "text": [
      "Mean absolute error: 0.11566722993663871\n",
      "Mean squared error: 0.024559136404392088\n",
      "Root mean squared error: 0.1567135488858321\n"
     ]
    }
   ],
   "source": [
    "# ماهو الخطآ الموجود عند التوقع باستخدام test daten\n",
    "\n",
    "print('Mean absolute error: ' + str(mean_absolute_error(y_test,linreg_pred_os)))\n",
    "print('Mean squared error: ' + str(mean_squared_error(y_test,linreg_pred_os)))\n",
    "print('Root mean squared error: ' + str(np.sqrt(mean_squared_error(y_test,linreg_pred_os))))\n"
   ]
  },
  {
   "cell_type": "markdown",
   "metadata": {},
   "source": [
    "عدم اختلاف الخطآ هو اشارة جميلة\n",
    "### Eine gute Indikation, dass mein Modell gut läuft, wenn die Metriken In-Sample und Out-Of-Sample relativ gleich sind -> Mean absolute error In-Sample= 0.10 und Out-Of-Sample=0.11 -> Mein Modell nicht stark überfittet -> Überfitter/Over fitting: Modell ist sehr gut an Training Daten angepasst und schmeißt die Daten, die das Modell nicht kennt (Test Daten)\n",
    "\n",
    "يعني الموديل مو حافظ بيانات التمرين بصم ووقت الفحص اختلف الحكي معه وخبصها بالعكس الموديل فهمان ومثل مااشتغل بالتمرين يشتغل بالفحص ومابي اخطا بالفحص مقارنة بالتمرين"
   ]
  },
  {
   "cell_type": "markdown",
   "metadata": {},
   "source": [
    "### `Ridge`\n",
    "Ridge Regression hat Hyperparameter, der die Stärke der Bestrafung für hoch korrelierte Features (bspw. GrLivArea + Garage) bestimmt\n",
    "\n",
    "**Note**: Alternative is `RidgeCV` with build in cross-validation"
   ]
  },
  {
   "cell_type": "code",
   "execution_count": 36,
   "metadata": {},
   "outputs": [],
   "source": [
    "from sklearn.linear_model import Ridge"
   ]
  },
  {
   "cell_type": "code",
   "execution_count": 37,
   "metadata": {},
   "outputs": [
    {
     "data": {
      "text/plain": [
       "Ridge(alpha=0.5, copy_X=True, fit_intercept=True, max_iter=None,\n",
       "      normalize=False, random_state=None, solver='auto', tol=0.001)"
      ]
     },
     "execution_count": 37,
     "metadata": {},
     "output_type": "execute_result"
    }
   ],
   "source": [
    "# Klausur frage\n",
    "# was gibt mit dieser alpha/lambda\n",
    "\n",
    "ridge1 = Ridge(alpha=0.5) # hyperparameter bestimmt die Bestrafung von hoch Korrelierten Features\n",
    "ridge1.fit(X_train,y_train)"
   ]
  },
  {
   "cell_type": "markdown",
   "metadata": {},
   "source": [
    "**Evaluation**"
   ]
  },
  {
   "cell_type": "code",
   "execution_count": 38,
   "metadata": {},
   "outputs": [],
   "source": [
    "# predicting using ridge model and lambda=0.5 \n",
    "# test + training اعمل توقع باستخدام\n",
    "ridge1_pred_is = ridge1.predict(X_train)\n",
    "ridge1_pred_os = ridge1.predict(X_test)"
   ]
  },
  {
   "cell_type": "code",
   "execution_count": 39,
   "metadata": {},
   "outputs": [
    {
     "name": "stdout",
     "output_type": "stream",
     "text": [
      "Mean absolute error: 0.10810102183614453\n",
      "Mean squared error: 0.02126424810553116\n",
      "Root mean squared error: 0.14582265978074588\n"
     ]
    }
   ],
   "source": [
    "# ماهو الخطآ الموجود عند التوقع باستخدام training daten\n",
    "\n",
    "\n",
    "print('Mean absolute error: ' + str(mean_absolute_error(y_train,ridge1_pred_is))) \n",
    "print('Mean squared error: ' + str(mean_squared_error(y_train,ridge1_pred_is)))\n",
    "print('Root mean squared error: ' + str(np.sqrt(mean_squared_error(y_train,ridge1_pred_is))))"
   ]
  },
  {
   "cell_type": "markdown",
   "metadata": {},
   "source": [
    "### **In-Sample** Prediction ist ein bisschen schlechter als OLS Mean absolute error 0.108 > 0.1077\n",
    "--> was können wir damit machen: Hyperparamter zu optimieren durch Validierung Datensatz oder Cross-Validierung\n",
    "(ich unterteile meine Test Datensatz wieder in kleinere Subdatensatze und parameterisiere mein Modell da darauf und schätze ich mein Out-Of-Sample Fehler und kriege ich wie hoch mein Out-Of-Sample Fehler ist)"
   ]
  },
  {
   "cell_type": "code",
   "execution_count": 40,
   "metadata": {},
   "outputs": [
    {
     "name": "stdout",
     "output_type": "stream",
     "text": [
      "Mean absolute error: 0.11608090954500375\n",
      "Mean squared error: 0.024711979090598753\n",
      "Root mean squared error: 0.15720044239950076\n"
     ]
    }
   ],
   "source": [
    "# ماهو الخطآ الموجود عند التوقع باستخدام test daten\n",
    "\n",
    "\n",
    "print('Mean absolute error: ' + str(mean_absolute_error(y_test,ridge1_pred_os))) \n",
    "print('Mean squared error: ' + str(mean_squared_error(y_test,ridge1_pred_os)))\n",
    "print('Root mean squared error: ' + str(np.sqrt(mean_squared_error(y_test,ridge1_pred_os))))"
   ]
  },
  {
   "cell_type": "code",
   "execution_count": 180,
   "metadata": {},
   "outputs": [],
   "source": [
    "# möglichkeiten meine Hyperparameter zu optimieren, cross validation "
   ]
  },
  {
   "cell_type": "markdown",
   "metadata": {},
   "source": [
    "**Optimization via Grid-Search**"
   ]
  },
  {
   "cell_type": "code",
   "execution_count": 41,
   "metadata": {},
   "outputs": [],
   "source": [
    "from sklearn.model_selection import GridSearchCV # CV steht für cross Validation \n",
    "# GridSearchCV look at internet \n",
    "# GridSearchCV(estimator, param_grid, scoring=None, n_jobs=None)"
   ]
  },
  {
   "cell_type": "markdown",
   "metadata": {},
   "source": [
    "### Ridge Regression hat ein Hyperparamter, der heißt lambda/alpha und für dieses lambda/alpha geben wir einen bestimmten Grid vor -> durch die Methode np.arrange fangen wir mit 0.1 an. Dann gehen wir 0.1 schrittweise bis 20 hoch\n",
    "\n",
    "### ich mache Cross-Validierung für jedes einzelnen alpha \n",
    "## entscheide anhand von der Metrik, der ich entschieden habe (in dieser Fall Verlustfunktion, weil socring=None) was ist der beste alpha/lambda\n",
    "# beste lambda/alpha ist am Ende mit der geringsten quadratische Abweichung oder absolute Abweichung"
   ]
  },
  {
   "cell_type": "code",
   "execution_count": 42,
   "metadata": {},
   "outputs": [],
   "source": [
    "grid = {'alpha': np.arange(0.1,20, step=0.1)} # lambda=alpha "
   ]
  },
  {
   "cell_type": "code",
   "execution_count": 183,
   "metadata": {},
   "outputs": [
    {
     "data": {
      "text/plain": [
       "{'alpha': array([ 0.1,  0.2,  0.3,  0.4,  0.5,  0.6,  0.7,  0.8,  0.9,  1. ,  1.1,\n",
       "         1.2,  1.3,  1.4,  1.5,  1.6,  1.7,  1.8,  1.9,  2. ,  2.1,  2.2,\n",
       "         2.3,  2.4,  2.5,  2.6,  2.7,  2.8,  2.9,  3. ,  3.1,  3.2,  3.3,\n",
       "         3.4,  3.5,  3.6,  3.7,  3.8,  3.9,  4. ,  4.1,  4.2,  4.3,  4.4,\n",
       "         4.5,  4.6,  4.7,  4.8,  4.9,  5. ,  5.1,  5.2,  5.3,  5.4,  5.5,\n",
       "         5.6,  5.7,  5.8,  5.9,  6. ,  6.1,  6.2,  6.3,  6.4,  6.5,  6.6,\n",
       "         6.7,  6.8,  6.9,  7. ,  7.1,  7.2,  7.3,  7.4,  7.5,  7.6,  7.7,\n",
       "         7.8,  7.9,  8. ,  8.1,  8.2,  8.3,  8.4,  8.5,  8.6,  8.7,  8.8,\n",
       "         8.9,  9. ,  9.1,  9.2,  9.3,  9.4,  9.5,  9.6,  9.7,  9.8,  9.9,\n",
       "        10. , 10.1, 10.2, 10.3, 10.4, 10.5, 10.6, 10.7, 10.8, 10.9, 11. ,\n",
       "        11.1, 11.2, 11.3, 11.4, 11.5, 11.6, 11.7, 11.8, 11.9, 12. , 12.1,\n",
       "        12.2, 12.3, 12.4, 12.5, 12.6, 12.7, 12.8, 12.9, 13. , 13.1, 13.2,\n",
       "        13.3, 13.4, 13.5, 13.6, 13.7, 13.8, 13.9, 14. , 14.1, 14.2, 14.3,\n",
       "        14.4, 14.5, 14.6, 14.7, 14.8, 14.9, 15. , 15.1, 15.2, 15.3, 15.4,\n",
       "        15.5, 15.6, 15.7, 15.8, 15.9, 16. , 16.1, 16.2, 16.3, 16.4, 16.5,\n",
       "        16.6, 16.7, 16.8, 16.9, 17. , 17.1, 17.2, 17.3, 17.4, 17.5, 17.6,\n",
       "        17.7, 17.8, 17.9, 18. , 18.1, 18.2, 18.3, 18.4, 18.5, 18.6, 18.7,\n",
       "        18.8, 18.9, 19. , 19.1, 19.2, 19.3, 19.4, 19.5, 19.6, 19.7, 19.8,\n",
       "        19.9])}"
      ]
     },
     "execution_count": 183,
     "metadata": {},
     "output_type": "execute_result"
    }
   ],
   "source": [
    "grid"
   ]
  },
  {
   "cell_type": "code",
   "execution_count": 43,
   "metadata": {},
   "outputs": [],
   "source": [
    "ridge2 = GridSearchCV(estimator=Ridge(),param_grid=grid) \n",
    "# estimator: welche Methode nehme ich zum Schätz/Estimation -> Ridge Regression\n",
    "# param_grid: der grid, die ich übergeben will -> muss voraus definiert werden\n",
    "# scoring gibt meine Cross-Validierung vor, nach welche Metriken ich validieren sollte. None bedeutet dass die Verlustfunktion als Metrik verwendet"
   ]
  },
  {
   "cell_type": "code",
   "execution_count": 44,
   "metadata": {},
   "outputs": [
    {
     "name": "stderr",
     "output_type": "stream",
     "text": [
      "/Applications/Anaconda/anaconda3/lib/python3.7/site-packages/sklearn/model_selection/_split.py:1978: FutureWarning: The default value of cv will change from 3 to 5 in version 0.22. Specify it explicitly to silence this warning.\n",
      "  warnings.warn(CV_WARNING, FutureWarning)\n"
     ]
    },
    {
     "data": {
      "text/plain": [
       "GridSearchCV(cv='warn', error_score='raise-deprecating',\n",
       "             estimator=Ridge(alpha=1.0, copy_X=True, fit_intercept=True,\n",
       "                             max_iter=None, normalize=False, random_state=None,\n",
       "                             solver='auto', tol=0.001),\n",
       "             iid='warn', n_jobs=None,\n",
       "             param_grid={'alpha': array([ 0.1,  0.2,  0.3,  0.4,  0.5,  0.6,  0.7,  0.8,  0.9,  1. ,  1.1,\n",
       "        1.2,  1.3,  1.4,  1.5,  1.6,  1.7,  1.8,  1.9,  2. ,  2.1,  2.2,\n",
       "        2.3,  2.4,  2.5,  2.6,  2.7,  2.8,  2.9,  3...\n",
       "       14.4, 14.5, 14.6, 14.7, 14.8, 14.9, 15. , 15.1, 15.2, 15.3, 15.4,\n",
       "       15.5, 15.6, 15.7, 15.8, 15.9, 16. , 16.1, 16.2, 16.3, 16.4, 16.5,\n",
       "       16.6, 16.7, 16.8, 16.9, 17. , 17.1, 17.2, 17.3, 17.4, 17.5, 17.6,\n",
       "       17.7, 17.8, 17.9, 18. , 18.1, 18.2, 18.3, 18.4, 18.5, 18.6, 18.7,\n",
       "       18.8, 18.9, 19. , 19.1, 19.2, 19.3, 19.4, 19.5, 19.6, 19.7, 19.8,\n",
       "       19.9])},\n",
       "             pre_dispatch='2*n_jobs', refit=True, return_train_score=False,\n",
       "             scoring=None, verbose=0)"
      ]
     },
     "execution_count": 44,
     "metadata": {},
     "output_type": "execute_result"
    }
   ],
   "source": [
    "ridge2.fit(X_train,y_train) # jetzt kann ich fit Methode ausführen, 200 lambdas wird iteriert und jeweils Cross validiert"
   ]
  },
  {
   "cell_type": "code",
   "execution_count": 45,
   "metadata": {},
   "outputs": [
    {
     "data": {
      "text/plain": [
       "{'alpha': 0.7000000000000001}"
      ]
     },
     "execution_count": 45,
     "metadata": {},
     "output_type": "execute_result"
    }
   ],
   "source": [
    "ridge2.best_params_ # laut Cross-Validierung->das ist die beste alpha/lambda für Modell"
   ]
  },
  {
   "cell_type": "markdown",
   "metadata": {},
   "source": [
    "**Evaluation** jetzt schauen wir an, ob wir besser Modell mit lambda=0.7 hätten? Oooops! nicht unbedingt besser geworden, weil ich scoring anders gewählt hat!-> je nach dem unserem socring ausschaut, ist unserem Modell bei anderen Evoluation Metriken->  ich habe nicht mean squared error als scoring für Cross-Validierung angegeben (es wird nicht nach dem Modell gesucht, wo die kleinste absolute Abweichung ist sondern was anders gesucht. dementsprechend mein Modell ist auch nicht unbedingt besser) ???"
   ]
  },
  {
   "cell_type": "code",
   "execution_count": 46,
   "metadata": {},
   "outputs": [],
   "source": [
    "# predicting using ridge model with the best lambda=0.7\n",
    "# test + training اعمل توقع باستخدام\n",
    "ridge2_pred_is = ridge2.predict(X_train)\n",
    "ridge2_pred_os = ridge2.predict(X_test)"
   ]
  },
  {
   "cell_type": "code",
   "execution_count": 47,
   "metadata": {},
   "outputs": [
    {
     "name": "stdout",
     "output_type": "stream",
     "text": [
      "Mean absolute error: 0.10814850406603427\n",
      "Mean squared error: 0.02129284501217474\n",
      "Root mean squared error: 0.1459206805499986\n"
     ]
    }
   ],
   "source": [
    "# ماهو الخطآ الموجود عند التوقع باستخدام training daten\n",
    "\n",
    "\n",
    "print('Mean absolute error: ' + str(mean_absolute_error(y_train,ridge2_pred_is)))\n",
    "print('Mean squared error: ' + str(mean_squared_error(y_train,ridge2_pred_is)))\n",
    "print('Root mean squared error: ' + str(np.sqrt(mean_squared_error(y_train,ridge2_pred_is))))"
   ]
  },
  {
   "cell_type": "code",
   "execution_count": 48,
   "metadata": {},
   "outputs": [
    {
     "name": "stdout",
     "output_type": "stream",
     "text": [
      "Mean absolute error: 0.11626366152035\n",
      "Mean squared error: 0.024769715873316243\n",
      "Root mean squared error: 0.15738397591024395\n"
     ]
    }
   ],
   "source": [
    "# ماهو الخطآ الموجود عند التوقع باستخدام test daten\n",
    "\n",
    "\n",
    "print('Mean absolute error: ' + str(mean_absolute_error(y_test,ridge2_pred_os)))\n",
    "print('Mean squared error: ' + str(mean_squared_error(y_test,ridge2_pred_os)))\n",
    "print('Root mean squared error: ' + str(np.sqrt(mean_squared_error(y_test,ridge2_pred_os))))"
   ]
  },
  {
   "cell_type": "markdown",
   "metadata": {},
   "source": [
    "**Comparison of coefficients**"
   ]
  },
  {
   "cell_type": "code",
   "execution_count": 49,
   "metadata": {},
   "outputs": [
    {
     "data": {
      "text/html": [
       "<div>\n",
       "<style scoped>\n",
       "    .dataframe tbody tr th:only-of-type {\n",
       "        vertical-align: middle;\n",
       "    }\n",
       "\n",
       "    .dataframe tbody tr th {\n",
       "        vertical-align: top;\n",
       "    }\n",
       "\n",
       "    .dataframe thead th {\n",
       "        text-align: right;\n",
       "    }\n",
       "</style>\n",
       "<table border=\"1\" class=\"dataframe\">\n",
       "  <thead>\n",
       "    <tr style=\"text-align: right;\">\n",
       "      <th></th>\n",
       "      <th>linreg</th>\n",
       "      <th>ridge</th>\n",
       "    </tr>\n",
       "  </thead>\n",
       "  <tbody>\n",
       "    <tr>\n",
       "      <th>0</th>\n",
       "      <td>0.195940</td>\n",
       "      <td>0.147583</td>\n",
       "    </tr>\n",
       "    <tr>\n",
       "      <th>1</th>\n",
       "      <td>0.268202</td>\n",
       "      <td>0.218157</td>\n",
       "    </tr>\n",
       "    <tr>\n",
       "      <th>2</th>\n",
       "      <td>0.391672</td>\n",
       "      <td>0.332751</td>\n",
       "    </tr>\n",
       "    <tr>\n",
       "      <th>3</th>\n",
       "      <td>0.070789</td>\n",
       "      <td>0.067316</td>\n",
       "    </tr>\n",
       "    <tr>\n",
       "      <th>4</th>\n",
       "      <td>0.109021</td>\n",
       "      <td>0.101354</td>\n",
       "    </tr>\n",
       "  </tbody>\n",
       "</table>\n",
       "</div>"
      ],
      "text/plain": [
       "     linreg     ridge\n",
       "0  0.195940  0.147583\n",
       "1  0.268202  0.218157\n",
       "2  0.391672  0.332751\n",
       "3  0.070789  0.067316\n",
       "4  0.109021  0.101354"
      ]
     },
     "execution_count": 49,
     "metadata": {},
     "output_type": "execute_result"
    }
   ],
   "source": [
    "coef_ridge = pd.DataFrame( np.stack((linreg.coef_,ridge2.best_estimator_.coef_),axis=1), columns=['linreg','ridge'])\n",
    "coef_ridge.head()"
   ]
  },
  {
   "cell_type": "code",
   "execution_count": 55,
   "metadata": {},
   "outputs": [
    {
     "data": {
      "image/png": "[encoded data removed]",
      "text/plain": [
       "<Figure size 432x288 with 1 Axes>"
      ]
     },
     "metadata": {
      "needs_background": "light"
     },
     "output_type": "display_data"
    }
   ],
   "source": [
    "# Difference between linear regression coefficients and ridge regression coefficients\n",
    "plt.plot((abs(coef_ridge['ridge']) - abs(coef_ridge['linreg'])),color = 'orange') # هو المتغير اللي عرفته فوق وفيه عمودين\n",
    "                                                                                  # هي الرسمة تقول انه معاملات الريدج اقل من معاملات اللينيار ريغرشن\n",
    "plt.plot([0,32],[0,0],color='blue') # هذا الخط الازرق بس للتمييز\n",
    "\n",
    "plt.xlabel('coefficient')\n",
    "plt.ylabel('difference (|ridge| - |linreg|)')\n",
    "# plt.savefig('figures/shrink_ridge_coef.pdf')\n",
    "plt.show()\n"
   ]
  },
  {
   "cell_type": "markdown",
   "metadata": {},
   "source": [
    "### **difference= 0**    -> ridge regression hat diesem Coefficient nicht bestraft-> bspw. coefficients 4 bis 7 (sind genau wie in OLS-> entweder sind sie nicht stark korreliert oder sie haben höhe Erklärungsbedarf und macht kein Sinn, diese Coefficients zu bestrafen und runterzunehmen )\n",
    "\n",
    "### wenn difference ist < 0    -> ridge regression hat diesem Coefficient bestraft -> bspw. Coefficients 15 bis 20 haben starke Regularizierung bekommen (sind entweder hoch korreliert oder es macht Sinn, diese Coefficients stark zu bestrafen)"
   ]
  },
  {
   "cell_type": "markdown",
   "metadata": {},
   "source": [
    "### `Lasso`\n",
    "\n",
    "**Note**: Alternative is `LassoCV` with build in cross-validation"
   ]
  },
  {
   "cell_type": "code",
   "execution_count": 58,
   "metadata": {},
   "outputs": [],
   "source": [
    "from sklearn.linear_model import Lasso"
   ]
  },
  {
   "cell_type": "code",
   "execution_count": 75,
   "metadata": {},
   "outputs": [
    {
     "data": {
      "text/plain": [
       "{'alpha': array([0.01, 0.02, 0.03, 0.04, 0.05, 0.06, 0.07, 0.08, 0.09])}"
      ]
     },
     "execution_count": 75,
     "metadata": {},
     "output_type": "execute_result"
    }
   ],
   "source": [
    "# Dieses lambda von ridge und lasso ist nicht das Gleiche! auch Wert ist nicht immer Gleiche\n",
    "# hier haben wir andere kürzere und einfach Grid von lasso lambdas ! warum kürzer? weil es dauert sehr lang beim Großen grids\n",
    "# warum dauert sehr lang? Ridge regression hat analytische Lösung/Formel-> beta=np.inverse(X.TX+lambda*I)@X.T*y -> in lasso gibt kein analytische Lösung/Formel deswegen Nährungsverfahren erfordert! !sehe Seite 50\n",
    "grid = {'alpha': np.arange(0.01,0.1, step=0.01)}\n",
    "grid"
   ]
  },
  {
   "cell_type": "code",
   "execution_count": 76,
   "metadata": {},
   "outputs": [],
   "source": [
    "lasso = GridSearchCV(estimator=Lasso(), param_grid=grid)\n",
    "# estimator: welche Methode nehme ich zum Schätz/Estimation -> Ridge Regression\n",
    "# param_grid: der grid, die ich übergeben will -> muss voraus definiert werden\n",
    "# scoring gibt meine Cross-Validierung vor, nach welche Metriken ich validieren sollte. None bedeutet dass die Verlustfunktion als Metrik verwendet"
   ]
  },
  {
   "cell_type": "code",
   "execution_count": 77,
   "metadata": {},
   "outputs": [
    {
     "name": "stderr",
     "output_type": "stream",
     "text": [
      "/Applications/Anaconda/anaconda3/lib/python3.7/site-packages/sklearn/model_selection/_split.py:1978: FutureWarning: The default value of cv will change from 3 to 5 in version 0.22. Specify it explicitly to silence this warning.\n",
      "  warnings.warn(CV_WARNING, FutureWarning)\n"
     ]
    },
    {
     "data": {
      "text/plain": [
       "GridSearchCV(cv='warn', error_score='raise-deprecating',\n",
       "             estimator=Lasso(alpha=1.0, copy_X=True, fit_intercept=True,\n",
       "                             max_iter=1000, normalize=False, positive=False,\n",
       "                             precompute=False, random_state=None,\n",
       "                             selection='cyclic', tol=0.0001, warm_start=False),\n",
       "             iid='warn', n_jobs=None,\n",
       "             param_grid={'alpha': array([0.01, 0.02, 0.03, 0.04, 0.05, 0.06, 0.07, 0.08, 0.09])},\n",
       "             pre_dispatch='2*n_jobs', refit=True, return_train_score=False,\n",
       "             scoring=None, verbose=0)"
      ]
     },
     "execution_count": 77,
     "metadata": {},
     "output_type": "execute_result"
    }
   ],
   "source": [
    "lasso.fit(X_train,y_train)"
   ]
  },
  {
   "cell_type": "code",
   "execution_count": 78,
   "metadata": {},
   "outputs": [
    {
     "data": {
      "text/plain": [
       "{'alpha': 0.01}"
      ]
     },
     "execution_count": 78,
     "metadata": {},
     "output_type": "execute_result"
    }
   ],
   "source": [
    "lasso.best_params_ "
   ]
  },
  {
   "cell_type": "markdown",
   "metadata": {},
   "source": [
    "### LOOK! \n",
    "beste Parameter/Alpha an der Grenze von meinem Grid ist->entweder habe ich mein Grid super gut gewählt oder es gibt noch Verbesserungsmöglichkeiten"
   ]
  },
  {
   "cell_type": "markdown",
   "metadata": {},
   "source": [
    "**Evaluation**"
   ]
  },
  {
   "cell_type": "code",
   "execution_count": 79,
   "metadata": {},
   "outputs": [],
   "source": [
    "# predicting using lasso model with the best lambda=0.01\n",
    "# test + training اعمل توقع باستخدام\n",
    "\n",
    "lasso_pred_is = lasso.predict(X_train)\n",
    "lasso_pred_os = lasso.predict(X_test)"
   ]
  },
  {
   "cell_type": "code",
   "execution_count": 80,
   "metadata": {},
   "outputs": [
    {
     "name": "stdout",
     "output_type": "stream",
     "text": [
      "Mean absolute error: 0.12301687874652766\n",
      "Mean squared error: 0.029263731946367753\n",
      "Root mean squared error: 0.17106645476646715\n"
     ]
    }
   ],
   "source": [
    "# ماهو الخطآ الموجود عند التوقع باستخدام training daten\n",
    "\n",
    "\n",
    "print('Mean absolute error: ' + str(mean_absolute_error(y_train,lasso_pred_is)))\n",
    "print('Mean squared error: ' + str(mean_squared_error(y_train,lasso_pred_is)))\n",
    "print('Root mean squared error: ' + str(np.sqrt(mean_squared_error(y_train,lasso_pred_is))))"
   ]
  },
  {
   "cell_type": "code",
   "execution_count": 81,
   "metadata": {},
   "outputs": [
    {
     "name": "stdout",
     "output_type": "stream",
     "text": [
      "Mean absolute error: 0.13605007515601722\n",
      "Mean squared error: 0.034442178842633994\n",
      "Root mean squared error: 0.1855860416158338\n"
     ]
    }
   ],
   "source": [
    "# ماهو الخطآ الموجود عند التوقع باستخدام test daten\n",
    "\n",
    "print('Mean absolute error: ' + str(mean_absolute_error(y_test,lasso_pred_os)))\n",
    "print('Mean squared error: ' + str(mean_squared_error(y_test,lasso_pred_os)))\n",
    "print('Root mean squared error: ' + str(np.sqrt(mean_squared_error(y_test,lasso_pred_os))))"
   ]
  },
  {
   "cell_type": "markdown",
   "metadata": {},
   "source": [
    "**Comparison of coefficients**"
   ]
  },
  {
   "cell_type": "code",
   "execution_count": 82,
   "metadata": {},
   "outputs": [],
   "source": [
    "coef_lasso = pd.DataFrame( np.stack((linreg.coef_,lasso.best_estimator_.coef_),axis=1), columns=['linreg','lasso'])"
   ]
  },
  {
   "cell_type": "code",
   "execution_count": 83,
   "metadata": {},
   "outputs": [
    {
     "data": {
      "image/png": "[encoded data removed]",
      "text/plain": [
       "<Figure size 432x288 with 1 Axes>"
      ]
     },
     "metadata": {
      "needs_background": "light"
     },
     "output_type": "display_data"
    }
   ],
   "source": [
    "plt.plot(abs(coef_lasso['lasso']) - abs(coef_lasso['linreg']),color='orange')\n",
    "\n",
    "plt.plot([0,32],[0,0],color='blue')\n",
    "\n",
    "plt.xlabel('coefficient')\n",
    "plt.ylabel('difference (|lasso| - |linreg|)')\n",
    "# plt.savefig('figures/shrink_lasso_coef.pdf')\n",
    "plt.show()\n",
    "# Alle Variable im Endeffekt Regularizierung erfahren haben\n",
    "#lasso regulariziert relativ stark-> relativ viele Variable auf 0 gesetzt"
   ]
  },
  {
   "cell_type": "markdown",
   "metadata": {},
   "source": [
    "**Short note** on lasso vs. ridge\n",
    "- In lasso, more coefficients are zero compared to ridge\n",
    "- This might be especially useful for situations where $n<p$ or to identify most important variables"
   ]
  },
  {
   "cell_type": "code",
   "execution_count": 84,
   "metadata": {},
   "outputs": [
    {
     "name": "stdout",
     "output_type": "stream",
     "text": [
      "lasso (non-zero coefficients): 13\n",
      "ridge (non-zero coefficients): 32\n"
     ]
    }
   ],
   "source": [
    "# In sum, there are 32 variables in the data set\n",
    "print('lasso (non-zero coefficients): ' + str(sum( (abs(coef_lasso['lasso']) > 0) )))\n",
    "print('ridge (non-zero coefficients): ' + str(sum( (abs(coef_ridge['ridge']) > 0) )))"
   ]
  },
  {
   "cell_type": "code",
   "execution_count": 85,
   "metadata": {},
   "outputs": [
    {
     "name": "stdout",
     "output_type": "stream",
     "text": [
      "Index(['ExterQual_3', 'BsmtQual_5', 'HeatingQC_3', 'HeatingQC_5',\n",
      "       'BsmtFinType1_6', 'FireplaceQu_4', 'LotFrontage', 'LotArea',\n",
      "       'YearBuilt', 'GrLivArea', 'FullBath', 'Fireplaces', 'GarageArea'],\n",
      "      dtype='object')\n"
     ]
    }
   ],
   "source": [
    "# print(coef_lasso[abs(coef_lasso['lasso']) > 0])\n",
    "print(X_train.columns[abs(coef_lasso['lasso']) > 0]) #die 13 Variablen die überbleiben"
   ]
  },
  {
   "cell_type": "markdown",
   "metadata": {},
   "source": [
    "### `Forward Selection `"
   ]
  },
  {
   "cell_type": "code",
   "execution_count": 86,
   "metadata": {},
   "outputs": [],
   "source": [
    "# in skilearn gibt keine Methode für Forward Selection-> Es muss eine Funktion definiert werden\n",
    "import statsmodels.formula.api as smf\n",
    "\n",
    "def forward_selected(data, response):\n",
    "    \"\"\"Linear model designed by forward selection.\n",
    "\n",
    "    Parameters:\n",
    "    -----------\n",
    "    data : pandas DataFrame with all possible predictors and response\n",
    "\n",
    "    response: string, name of response column in data\n",
    "\n",
    "    Returns:\n",
    "    --------\n",
    "    model: an \"optimal\" fitted statsmodels linear model\n",
    "           with an intercept\n",
    "           selected by forward selection\n",
    "           evaluated by adjusted R-squared\n",
    "    \"\"\"\n",
    "    remaining = set(data.columns)\n",
    "    remaining.remove(response)\n",
    "    selected = []\n",
    "    Result=[]\n",
    "    current_score, best_new_score = 0.0, 0.0\n",
    "    while remaining and current_score == best_new_score:\n",
    "        scores_with_candidates = []\n",
    "        for candidate in remaining:\n",
    "            formula = \"{} ~ {} + 1\".format(response,\n",
    "                                           ' + '.join(selected + [candidate]))\n",
    "            score = smf.ols(formula, data).fit().rsquared_adj\n",
    "            scores_with_candidates.append((score, candidate))\n",
    "        scores_with_candidates.sort()\n",
    "        best_new_score, best_candidate = scores_with_candidates.pop()\n",
    "        if current_score < best_new_score:\n",
    "            remaining.remove(best_candidate)\n",
    "            selected.append(best_candidate)\n",
    "            current_score = best_new_score\n",
    "            formula = \"{} ~ {} + 1\".format(response,\n",
    "                                   ' + '.join(selected))\n",
    "            Result.append([best_new_score,best_candidate,formula])\n",
    "    #model = smf.ols(formula, data).fit()\n",
    "    return Result"
   ]
  },
  {
   "cell_type": "code",
   "execution_count": 87,
   "metadata": {},
   "outputs": [
    {
     "data": {
      "text/html": [
       "<div>\n",
       "<style scoped>\n",
       "    .dataframe tbody tr th:only-of-type {\n",
       "        vertical-align: middle;\n",
       "    }\n",
       "\n",
       "    .dataframe tbody tr th {\n",
       "        vertical-align: top;\n",
       "    }\n",
       "\n",
       "    .dataframe thead th {\n",
       "        text-align: right;\n",
       "    }\n",
       "</style>\n",
       "<table border=\"1\" class=\"dataframe\">\n",
       "  <thead>\n",
       "    <tr style=\"text-align: right;\">\n",
       "      <th></th>\n",
       "      <th>SalePrice</th>\n",
       "      <th>ExterQual_3</th>\n",
       "      <th>ExterQual_4</th>\n",
       "      <th>ExterQual_5</th>\n",
       "      <th>BsmtQual_3</th>\n",
       "      <th>BsmtQual_4</th>\n",
       "      <th>BsmtQual_5</th>\n",
       "      <th>HeatingQC_2</th>\n",
       "      <th>HeatingQC_3</th>\n",
       "      <th>HeatingQC_4</th>\n",
       "      <th>...</th>\n",
       "      <th>FireplaceQu_3</th>\n",
       "      <th>FireplaceQu_4</th>\n",
       "      <th>FireplaceQu_5</th>\n",
       "      <th>LotFrontage</th>\n",
       "      <th>LotArea</th>\n",
       "      <th>YearBuilt</th>\n",
       "      <th>GrLivArea</th>\n",
       "      <th>FullBath</th>\n",
       "      <th>Fireplaces</th>\n",
       "      <th>GarageArea</th>\n",
       "    </tr>\n",
       "  </thead>\n",
       "  <tbody>\n",
       "    <tr>\n",
       "      <th>1148</th>\n",
       "      <td>11.669074</td>\n",
       "      <td>1</td>\n",
       "      <td>0</td>\n",
       "      <td>0</td>\n",
       "      <td>1</td>\n",
       "      <td>0</td>\n",
       "      <td>0</td>\n",
       "      <td>0</td>\n",
       "      <td>1</td>\n",
       "      <td>0</td>\n",
       "      <td>...</td>\n",
       "      <td>0</td>\n",
       "      <td>1</td>\n",
       "      <td>0</td>\n",
       "      <td>69.384154</td>\n",
       "      <td>5700</td>\n",
       "      <td>1926</td>\n",
       "      <td>7.013016</td>\n",
       "      <td>1</td>\n",
       "      <td>1</td>\n",
       "      <td>288</td>\n",
       "    </tr>\n",
       "    <tr>\n",
       "      <th>430</th>\n",
       "      <td>11.355101</td>\n",
       "      <td>1</td>\n",
       "      <td>0</td>\n",
       "      <td>0</td>\n",
       "      <td>1</td>\n",
       "      <td>0</td>\n",
       "      <td>0</td>\n",
       "      <td>0</td>\n",
       "      <td>1</td>\n",
       "      <td>0</td>\n",
       "      <td>...</td>\n",
       "      <td>0</td>\n",
       "      <td>0</td>\n",
       "      <td>0</td>\n",
       "      <td>21.000000</td>\n",
       "      <td>1680</td>\n",
       "      <td>1971</td>\n",
       "      <td>6.894670</td>\n",
       "      <td>1</td>\n",
       "      <td>0</td>\n",
       "      <td>264</td>\n",
       "    </tr>\n",
       "    <tr>\n",
       "      <th>45</th>\n",
       "      <td>12.675764</td>\n",
       "      <td>0</td>\n",
       "      <td>0</td>\n",
       "      <td>1</td>\n",
       "      <td>0</td>\n",
       "      <td>0</td>\n",
       "      <td>1</td>\n",
       "      <td>0</td>\n",
       "      <td>0</td>\n",
       "      <td>0</td>\n",
       "      <td>...</td>\n",
       "      <td>0</td>\n",
       "      <td>1</td>\n",
       "      <td>0</td>\n",
       "      <td>61.000000</td>\n",
       "      <td>7658</td>\n",
       "      <td>2005</td>\n",
       "      <td>7.468513</td>\n",
       "      <td>2</td>\n",
       "      <td>1</td>\n",
       "      <td>576</td>\n",
       "    </tr>\n",
       "    <tr>\n",
       "      <th>542</th>\n",
       "      <td>12.270220</td>\n",
       "      <td>0</td>\n",
       "      <td>1</td>\n",
       "      <td>0</td>\n",
       "      <td>0</td>\n",
       "      <td>0</td>\n",
       "      <td>1</td>\n",
       "      <td>0</td>\n",
       "      <td>0</td>\n",
       "      <td>0</td>\n",
       "      <td>...</td>\n",
       "      <td>1</td>\n",
       "      <td>0</td>\n",
       "      <td>0</td>\n",
       "      <td>78.000000</td>\n",
       "      <td>10140</td>\n",
       "      <td>1998</td>\n",
       "      <td>7.426549</td>\n",
       "      <td>2</td>\n",
       "      <td>1</td>\n",
       "      <td>583</td>\n",
       "    </tr>\n",
       "    <tr>\n",
       "      <th>673</th>\n",
       "      <td>12.458775</td>\n",
       "      <td>1</td>\n",
       "      <td>0</td>\n",
       "      <td>0</td>\n",
       "      <td>1</td>\n",
       "      <td>0</td>\n",
       "      <td>0</td>\n",
       "      <td>0</td>\n",
       "      <td>0</td>\n",
       "      <td>0</td>\n",
       "      <td>...</td>\n",
       "      <td>1</td>\n",
       "      <td>0</td>\n",
       "      <td>0</td>\n",
       "      <td>110.000000</td>\n",
       "      <td>14442</td>\n",
       "      <td>1957</td>\n",
       "      <td>7.516977</td>\n",
       "      <td>2</td>\n",
       "      <td>2</td>\n",
       "      <td>416</td>\n",
       "    </tr>\n",
       "  </tbody>\n",
       "</table>\n",
       "<p>5 rows × 33 columns</p>\n",
       "</div>"
      ],
      "text/plain": [
       "      SalePrice  ExterQual_3  ExterQual_4  ExterQual_5  BsmtQual_3  \\\n",
       "1148  11.669074            1            0            0           1   \n",
       "430   11.355101            1            0            0           1   \n",
       "45    12.675764            0            0            1           0   \n",
       "542   12.270220            0            1            0           0   \n",
       "673   12.458775            1            0            0           1   \n",
       "\n",
       "      BsmtQual_4  BsmtQual_5  HeatingQC_2  HeatingQC_3  HeatingQC_4  ...  \\\n",
       "1148           0           0            0            1            0  ...   \n",
       "430            0           0            0            1            0  ...   \n",
       "45             0           1            0            0            0  ...   \n",
       "542            0           1            0            0            0  ...   \n",
       "673            0           0            0            0            0  ...   \n",
       "\n",
       "      FireplaceQu_3  FireplaceQu_4  FireplaceQu_5  LotFrontage  LotArea  \\\n",
       "1148              0              1              0    69.384154     5700   \n",
       "430               0              0              0    21.000000     1680   \n",
       "45                0              1              0    61.000000     7658   \n",
       "542               1              0              0    78.000000    10140   \n",
       "673               1              0              0   110.000000    14442   \n",
       "\n",
       "      YearBuilt  GrLivArea  FullBath  Fireplaces  GarageArea  \n",
       "1148       1926   7.013016         1           1         288  \n",
       "430        1971   6.894670         1           0         264  \n",
       "45         2005   7.468513         2           1         576  \n",
       "542        1998   7.426549         2           1         583  \n",
       "673        1957   7.516977         2           2         416  \n",
       "\n",
       "[5 rows x 33 columns]"
      ]
     },
     "execution_count": 87,
     "metadata": {},
     "output_type": "execute_result"
    }
   ],
   "source": [
    "Data_train=pd.concat([y_train,X_train],axis=1)\n",
    "\n",
    "Data_train.head()"
   ]
  },
  {
   "cell_type": "code",
   "execution_count": 88,
   "metadata": {},
   "outputs": [
    {
     "data": {
      "text/plain": [
       "Text(0, 0.5, 'adjusted $R^{2}$')"
      ]
     },
     "execution_count": 88,
     "metadata": {},
     "output_type": "execute_result"
    },
    {
     "data": {
      "image/png": "[encoded data removed]",
      "text/plain": [
       "<Figure size 432x288 with 1 Axes>"
      ]
     },
     "metadata": {
      "needs_background": "light"
     },
     "output_type": "display_data"
    }
   ],
   "source": [
    "Output_Forward = forward_selected(Data_train, 'SalePrice')\n",
    "Output_Forward = pd.DataFrame.from_records(Output_Forward)\n",
    "\n",
    "\n",
    "plt.plot(np.arange(1,len(Output_Forward.iloc[:,1])+1),Output_Forward.iloc[:,0])\n",
    "plt.xlabel('Numer of Predictors')\n",
    "plt.ylabel('adjusted $R^{2}$')\n",
    "# ab 20 bis 24 kein Erhöhung von adjusted-R^2 -> ab 20 Predictos kann ich Modell Komplexität sparen"
   ]
  },
  {
   "cell_type": "markdown",
   "metadata": {},
   "source": [
    "### Forward Selection fange ich ab dem null Modell an -> Null Modell hat die Konstante (1) und dann probiere ich alle anderen Variable aus, und ich suche nach Variable, die am besten dazu passen (die R^2 erhöht)-> ich fange jetzt mit der neuen Variable und Konstante an, ich probiere alle anderen verfügbaren Variable aus. ich suche nach Variable, die R^2 am besten erhöht und so weiter....\n",
    "\n"
   ]
  },
  {
   "cell_type": "code",
   "execution_count": 89,
   "metadata": {},
   "outputs": [
    {
     "data": {
      "text/html": [
       "<div>\n",
       "<style scoped>\n",
       "    .dataframe tbody tr th:only-of-type {\n",
       "        vertical-align: middle;\n",
       "    }\n",
       "\n",
       "    .dataframe tbody tr th {\n",
       "        vertical-align: top;\n",
       "    }\n",
       "\n",
       "    .dataframe thead th {\n",
       "        text-align: right;\n",
       "    }\n",
       "</style>\n",
       "<table border=\"1\" class=\"dataframe\">\n",
       "  <thead>\n",
       "    <tr style=\"text-align: right;\">\n",
       "      <th></th>\n",
       "      <th>0</th>\n",
       "      <th>1</th>\n",
       "      <th>2</th>\n",
       "    </tr>\n",
       "  </thead>\n",
       "  <tbody>\n",
       "    <tr>\n",
       "      <th>0</th>\n",
       "      <td>0.520270</td>\n",
       "      <td>GrLivArea</td>\n",
       "      <td>SalePrice ~ GrLivArea + 1</td>\n",
       "    </tr>\n",
       "    <tr>\n",
       "      <th>1</th>\n",
       "      <td>0.717910</td>\n",
       "      <td>YearBuilt</td>\n",
       "      <td>SalePrice ~ GrLivArea + YearBuilt + 1</td>\n",
       "    </tr>\n",
       "    <tr>\n",
       "      <th>2</th>\n",
       "      <td>0.752808</td>\n",
       "      <td>GarageArea</td>\n",
       "      <td>SalePrice ~ GrLivArea + YearBuilt + GarageArea...</td>\n",
       "    </tr>\n",
       "    <tr>\n",
       "      <th>3</th>\n",
       "      <td>0.776339</td>\n",
       "      <td>Fireplaces</td>\n",
       "      <td>SalePrice ~ GrLivArea + YearBuilt + GarageArea...</td>\n",
       "    </tr>\n",
       "    <tr>\n",
       "      <th>4</th>\n",
       "      <td>0.792244</td>\n",
       "      <td>BsmtQual_5</td>\n",
       "      <td>SalePrice ~ GrLivArea + YearBuilt + GarageArea...</td>\n",
       "    </tr>\n",
       "    <tr>\n",
       "      <th>5</th>\n",
       "      <td>0.803804</td>\n",
       "      <td>Functional_7</td>\n",
       "      <td>SalePrice ~ GrLivArea + YearBuilt + GarageArea...</td>\n",
       "    </tr>\n",
       "    <tr>\n",
       "      <th>6</th>\n",
       "      <td>0.811865</td>\n",
       "      <td>BsmtFinType1_6</td>\n",
       "      <td>SalePrice ~ GrLivArea + YearBuilt + GarageArea...</td>\n",
       "    </tr>\n",
       "    <tr>\n",
       "      <th>7</th>\n",
       "      <td>0.819694</td>\n",
       "      <td>LotArea</td>\n",
       "      <td>SalePrice ~ GrLivArea + YearBuilt + GarageArea...</td>\n",
       "    </tr>\n",
       "    <tr>\n",
       "      <th>8</th>\n",
       "      <td>0.826133</td>\n",
       "      <td>HeatingQC_5</td>\n",
       "      <td>SalePrice ~ GrLivArea + YearBuilt + GarageArea...</td>\n",
       "    </tr>\n",
       "    <tr>\n",
       "      <th>9</th>\n",
       "      <td>0.829419</td>\n",
       "      <td>BsmtFinType1_5</td>\n",
       "      <td>SalePrice ~ GrLivArea + YearBuilt + GarageArea...</td>\n",
       "    </tr>\n",
       "    <tr>\n",
       "      <th>10</th>\n",
       "      <td>0.832539</td>\n",
       "      <td>HeatingQC_4</td>\n",
       "      <td>SalePrice ~ GrLivArea + YearBuilt + GarageArea...</td>\n",
       "    </tr>\n",
       "    <tr>\n",
       "      <th>11</th>\n",
       "      <td>0.835557</td>\n",
       "      <td>LotFrontage</td>\n",
       "      <td>SalePrice ~ GrLivArea + YearBuilt + GarageArea...</td>\n",
       "    </tr>\n",
       "    <tr>\n",
       "      <th>12</th>\n",
       "      <td>0.838203</td>\n",
       "      <td>ExterQual_5</td>\n",
       "      <td>SalePrice ~ GrLivArea + YearBuilt + GarageArea...</td>\n",
       "    </tr>\n",
       "    <tr>\n",
       "      <th>13</th>\n",
       "      <td>0.842067</td>\n",
       "      <td>ExterQual_4</td>\n",
       "      <td>SalePrice ~ GrLivArea + YearBuilt + GarageArea...</td>\n",
       "    </tr>\n",
       "    <tr>\n",
       "      <th>14</th>\n",
       "      <td>0.845392</td>\n",
       "      <td>ExterQual_3</td>\n",
       "      <td>SalePrice ~ GrLivArea + YearBuilt + GarageArea...</td>\n",
       "    </tr>\n",
       "    <tr>\n",
       "      <th>15</th>\n",
       "      <td>0.847256</td>\n",
       "      <td>BsmtFinType1_4</td>\n",
       "      <td>SalePrice ~ GrLivArea + YearBuilt + GarageArea...</td>\n",
       "    </tr>\n",
       "    <tr>\n",
       "      <th>16</th>\n",
       "      <td>0.848988</td>\n",
       "      <td>BsmtFinType1_2</td>\n",
       "      <td>SalePrice ~ GrLivArea + YearBuilt + GarageArea...</td>\n",
       "    </tr>\n",
       "    <tr>\n",
       "      <th>17</th>\n",
       "      <td>0.850167</td>\n",
       "      <td>BsmtFinType1_3</td>\n",
       "      <td>SalePrice ~ GrLivArea + YearBuilt + GarageArea...</td>\n",
       "    </tr>\n",
       "    <tr>\n",
       "      <th>18</th>\n",
       "      <td>0.851245</td>\n",
       "      <td>FireplaceQu_4</td>\n",
       "      <td>SalePrice ~ GrLivArea + YearBuilt + GarageArea...</td>\n",
       "    </tr>\n",
       "    <tr>\n",
       "      <th>19</th>\n",
       "      <td>0.852000</td>\n",
       "      <td>BsmtQual_4</td>\n",
       "      <td>SalePrice ~ GrLivArea + YearBuilt + GarageArea...</td>\n",
       "    </tr>\n",
       "    <tr>\n",
       "      <th>20</th>\n",
       "      <td>0.852875</td>\n",
       "      <td>BsmtQual_3</td>\n",
       "      <td>SalePrice ~ GrLivArea + YearBuilt + GarageArea...</td>\n",
       "    </tr>\n",
       "    <tr>\n",
       "      <th>21</th>\n",
       "      <td>0.853301</td>\n",
       "      <td>FireplaceQu_5</td>\n",
       "      <td>SalePrice ~ GrLivArea + YearBuilt + GarageArea...</td>\n",
       "    </tr>\n",
       "    <tr>\n",
       "      <th>22</th>\n",
       "      <td>0.853618</td>\n",
       "      <td>Functional_6</td>\n",
       "      <td>SalePrice ~ GrLivArea + YearBuilt + GarageArea...</td>\n",
       "    </tr>\n",
       "    <tr>\n",
       "      <th>23</th>\n",
       "      <td>0.854261</td>\n",
       "      <td>Functional_5</td>\n",
       "      <td>SalePrice ~ GrLivArea + YearBuilt + GarageArea...</td>\n",
       "    </tr>\n",
       "    <tr>\n",
       "      <th>24</th>\n",
       "      <td>0.854341</td>\n",
       "      <td>HeatingQC_3</td>\n",
       "      <td>SalePrice ~ GrLivArea + YearBuilt + GarageArea...</td>\n",
       "    </tr>\n",
       "  </tbody>\n",
       "</table>\n",
       "</div>"
      ],
      "text/plain": [
       "           0               1  \\\n",
       "0   0.520270       GrLivArea   \n",
       "1   0.717910       YearBuilt   \n",
       "2   0.752808      GarageArea   \n",
       "3   0.776339      Fireplaces   \n",
       "4   0.792244      BsmtQual_5   \n",
       "5   0.803804    Functional_7   \n",
       "6   0.811865  BsmtFinType1_6   \n",
       "7   0.819694         LotArea   \n",
       "8   0.826133     HeatingQC_5   \n",
       "9   0.829419  BsmtFinType1_5   \n",
       "10  0.832539     HeatingQC_4   \n",
       "11  0.835557     LotFrontage   \n",
       "12  0.838203     ExterQual_5   \n",
       "13  0.842067     ExterQual_4   \n",
       "14  0.845392     ExterQual_3   \n",
       "15  0.847256  BsmtFinType1_4   \n",
       "16  0.848988  BsmtFinType1_2   \n",
       "17  0.850167  BsmtFinType1_3   \n",
       "18  0.851245   FireplaceQu_4   \n",
       "19  0.852000      BsmtQual_4   \n",
       "20  0.852875      BsmtQual_3   \n",
       "21  0.853301   FireplaceQu_5   \n",
       "22  0.853618    Functional_6   \n",
       "23  0.854261    Functional_5   \n",
       "24  0.854341     HeatingQC_3   \n",
       "\n",
       "                                                    2  \n",
       "0                           SalePrice ~ GrLivArea + 1  \n",
       "1               SalePrice ~ GrLivArea + YearBuilt + 1  \n",
       "2   SalePrice ~ GrLivArea + YearBuilt + GarageArea...  \n",
       "3   SalePrice ~ GrLivArea + YearBuilt + GarageArea...  \n",
       "4   SalePrice ~ GrLivArea + YearBuilt + GarageArea...  \n",
       "5   SalePrice ~ GrLivArea + YearBuilt + GarageArea...  \n",
       "6   SalePrice ~ GrLivArea + YearBuilt + GarageArea...  \n",
       "7   SalePrice ~ GrLivArea + YearBuilt + GarageArea...  \n",
       "8   SalePrice ~ GrLivArea + YearBuilt + GarageArea...  \n",
       "9   SalePrice ~ GrLivArea + YearBuilt + GarageArea...  \n",
       "10  SalePrice ~ GrLivArea + YearBuilt + GarageArea...  \n",
       "11  SalePrice ~ GrLivArea + YearBuilt + GarageArea...  \n",
       "12  SalePrice ~ GrLivArea + YearBuilt + GarageArea...  \n",
       "13  SalePrice ~ GrLivArea + YearBuilt + GarageArea...  \n",
       "14  SalePrice ~ GrLivArea + YearBuilt + GarageArea...  \n",
       "15  SalePrice ~ GrLivArea + YearBuilt + GarageArea...  \n",
       "16  SalePrice ~ GrLivArea + YearBuilt + GarageArea...  \n",
       "17  SalePrice ~ GrLivArea + YearBuilt + GarageArea...  \n",
       "18  SalePrice ~ GrLivArea + YearBuilt + GarageArea...  \n",
       "19  SalePrice ~ GrLivArea + YearBuilt + GarageArea...  \n",
       "20  SalePrice ~ GrLivArea + YearBuilt + GarageArea...  \n",
       "21  SalePrice ~ GrLivArea + YearBuilt + GarageArea...  \n",
       "22  SalePrice ~ GrLivArea + YearBuilt + GarageArea...  \n",
       "23  SalePrice ~ GrLivArea + YearBuilt + GarageArea...  \n",
       "24  SalePrice ~ GrLivArea + YearBuilt + GarageArea...  "
      ]
     },
     "execution_count": 89,
     "metadata": {},
     "output_type": "execute_result"
    }
   ],
   "source": [
    "Output_Forward\n",
    "#ab 13 Predictor ist Zugewinn des In-Sample-Fit  relativ klein , adjusted-R^2=0.842 dann 0.845"
   ]
  },
  {
   "cell_type": "markdown",
   "metadata": {},
   "source": [
    "# **Note**: We take the same number of coefficients as in  `LassoCV` "
   ]
  },
  {
   "cell_type": "markdown",
   "metadata": {},
   "source": [
    "**Evaluation**"
   ]
  },
  {
   "cell_type": "code",
   "execution_count": 90,
   "metadata": {},
   "outputs": [
    {
     "name": "stdout",
     "output_type": "stream",
     "text": [
      "                            OLS Regression Results                            \n",
      "==============================================================================\n",
      "Dep. Variable:              SalePrice   R-squared:                       0.837\n",
      "Model:                            OLS   Adj. R-squared:                  0.836\n",
      "Method:                 Least Squares   F-statistic:                     432.0\n",
      "Date:                Thu, 26 Dec 2019   Prob (F-statistic):               0.00\n",
      "Time:                        18:47:29   Log-Likelihood:                 446.47\n",
      "No. Observations:                1019   AIC:                            -866.9\n",
      "Df Residuals:                    1006   BIC:                            -802.9\n",
      "Df Model:                          12                                         \n",
      "Covariance Type:            nonrobust                                         \n",
      "==================================================================================\n",
      "                     coef    std err          t      P>|t|      [0.025      0.975]\n",
      "----------------------------------------------------------------------------------\n",
      "Intercept          1.8503      0.447      4.139      0.000       0.973       2.727\n",
      "GrLivArea          0.5219      0.019     27.436      0.000       0.485       0.559\n",
      "YearBuilt          0.0029      0.000     13.604      0.000       0.003       0.003\n",
      "GarageArea         0.0003   2.98e-05     10.241      0.000       0.000       0.000\n",
      "Fireplaces         0.0837      0.009      9.213      0.000       0.066       0.101\n",
      "BsmtQual_5         0.1644      0.020      8.156      0.000       0.125       0.204\n",
      "Functional_7       0.1501      0.020      7.629      0.000       0.111       0.189\n",
      "BsmtFinType1_6     0.1027      0.013      7.810      0.000       0.077       0.129\n",
      "LotArea         3.343e-06   5.53e-07      6.050      0.000    2.26e-06    4.43e-06\n",
      "HeatingQC_5        0.1008      0.013      7.897      0.000       0.076       0.126\n",
      "BsmtFinType1_5     0.0717      0.015      4.872      0.000       0.043       0.101\n",
      "HeatingQC_4        0.0689      0.015      4.618      0.000       0.040       0.098\n",
      "LotFrontage        0.0012      0.000      4.413      0.000       0.001       0.002\n",
      "==============================================================================\n",
      "Omnibus:                      174.271   Durbin-Watson:                   2.026\n",
      "Prob(Omnibus):                  0.000   Jarque-Bera (JB):              633.265\n",
      "Skew:                          -0.790   Prob(JB):                    3.08e-138\n",
      "Kurtosis:                       6.524   Cond. No.                     1.29e+06\n",
      "==============================================================================\n",
      "\n",
      "Warnings:\n",
      "[1] Standard Errors assume that the covariance matrix of the errors is correctly specified.\n",
      "[2] The condition number is large, 1.29e+06. This might indicate that there are\n",
      "strong multicollinearity or other numerical problems.\n"
     ]
    }
   ],
   "source": [
    "Forward=smf.ols(Output_Forward.iloc[11,2], Data_train).fit()\n",
    "print(Forward.summary())"
   ]
  },
  {
   "cell_type": "code",
   "execution_count": 91,
   "metadata": {},
   "outputs": [
    {
     "name": "stdout",
     "output_type": "stream",
     "text": [
      "Mean absolute error: 0.11600804534412497\n",
      "Mean squared error: 0.024375799558260695\n",
      "Root mean squared error: 0.15612751057472446\n"
     ]
    }
   ],
   "source": [
    "Forward_pred_is = Forward.predict(X_train)\n",
    "Forward_pred_os = Forward.predict(X_test)\n",
    "\n",
    "print('Mean absolute error: ' + str(mean_absolute_error(y_train,Forward_pred_is)))\n",
    "print('Mean squared error: ' + str(mean_squared_error(y_train,Forward_pred_is)))\n",
    "print('Root mean squared error: ' + str(np.sqrt(mean_squared_error(y_train,Forward_pred_is))))\n",
    "\n"
   ]
  },
  {
   "cell_type": "code",
   "execution_count": 92,
   "metadata": {},
   "outputs": [
    {
     "name": "stdout",
     "output_type": "stream",
     "text": [
      "Mean absolute error: 0.1262006373855597\n",
      "Mean squared error: 0.02930686266711159\n",
      "Root mean squared error: 0.17119247257724737\n"
     ]
    }
   ],
   "source": [
    "print('Mean absolute error: ' + str(mean_absolute_error(y_test,Forward_pred_os)))\n",
    "print('Mean squared error: ' + str(mean_squared_error(y_test,Forward_pred_os)))\n",
    "print('Root mean squared error: ' + str(np.sqrt(mean_squared_error(y_test,Forward_pred_os))))\n",
    "# aus forward selection kann ich nicht 100% garantieren dass ich die beste Schätzung Out-Of-Sample habe"
   ]
  },
  {
   "cell_type": "markdown",
   "metadata": {},
   "source": [
    "### `RFE Method` Recursive Feature Elimination (relative ähnlich zu Backward Selection)\n",
    "\n",
    "Es wird hier kein R^2 gerechnet sondern sie sagen einfach \"das wer höchsten Coefficients hat, hat die höchsten Einfluss\" -> das macht Sinn, wenn ich nur metreische Variable habe, die standardisiert habe -> ich darf nur standardisierte x hernehmen \n",
    "\n",
    "(standardisierte x's bedeutet, dass ich x's interpretieren kann. bspw. ich habe 2 verschiedene x Variable und ich habe die beiden standardisiert und die erste Variable-Coefficient=0.5 und die zweit Variable-Coefficients=1.5 -> die zweite Variable hat höhere Einfluss)\n",
    "\n",
    "Sklearn Description:\n",
    "\n",
    "Given an external estimator that assigns weights to features (e.g., the coefficients of a linear model), the goal of recursive feature elimination (RFE) is to select features by recursively considering smaller and smaller sets of features. \n",
    "\n",
    "First, the estimator is trained on the initial set of features and the importance of each feature is obtained either through a coef_ attribute or through a feature_importances_ attribute. \n",
    "\n",
    "Then, the least important features are pruned from current set of features. That procedure is recursively repeated on the pruned set until the desired number of features to select is eventually reached."
   ]
  },
  {
   "cell_type": "code",
   "execution_count": 93,
   "metadata": {},
   "outputs": [
    {
     "name": "stdout",
     "output_type": "stream",
     "text": [
      "Mean absolute error: 0.14746922010648178\n",
      "Mean squared error: 0.037380250198655755\n",
      "Root mean squared error: 0.1933397274195238\n"
     ]
    }
   ],
   "source": [
    "from sklearn.feature_selection import RFE\n",
    "from sklearn.feature_selection import chi2\n",
    "from sklearn.linear_model import LinearRegression\n",
    "\n",
    "model = LinearRegression()\n",
    "rfe = RFE(model, 12)# ich will optimales Modell durch diese RFE wo am Ende 12 Variablen drinn sind (also 12 Features number)\n",
    "rfe = rfe.fit(X_train, y_train)\n",
    "X_train.iloc[:,rfe.support_].columns\n",
    "\n",
    "rfe_pred_is = rfe.predict(X_train)\n",
    "rfe_pred_os = rfe.predict(X_test)\n",
    "\n",
    "print('Mean absolute error: ' + str(mean_absolute_error(y_train,rfe_pred_is)))\n",
    "print('Mean squared error: ' + str(mean_squared_error(y_train,rfe_pred_is)))\n",
    "print('Root mean squared error: ' + str(np.sqrt(mean_squared_error(y_train,rfe_pred_is))))\n",
    "\n",
    "\n"
   ]
  },
  {
   "cell_type": "code",
   "execution_count": 94,
   "metadata": {},
   "outputs": [
    {
     "name": "stdout",
     "output_type": "stream",
     "text": [
      "Mean absolute error: 0.1439206133650596\n",
      "Mean squared error: 0.03759612294524489\n",
      "Root mean squared error: 0.19389719684731105\n"
     ]
    }
   ],
   "source": [
    "print('Mean absolute error: ' + str(mean_absolute_error(y_test,rfe_pred_os)))\n",
    "print('Mean squared error: ' + str(mean_squared_error(y_test,rfe_pred_os)))\n",
    "print('Root mean squared error: ' + str(np.sqrt(mean_squared_error(y_test,rfe_pred_os))))"
   ]
  },
  {
   "cell_type": "code",
   "execution_count": 95,
   "metadata": {},
   "outputs": [
    {
     "data": {
      "text/html": [
       "<div>\n",
       "<style scoped>\n",
       "    .dataframe tbody tr th:only-of-type {\n",
       "        vertical-align: middle;\n",
       "    }\n",
       "\n",
       "    .dataframe tbody tr th {\n",
       "        vertical-align: top;\n",
       "    }\n",
       "\n",
       "    .dataframe thead th {\n",
       "        text-align: right;\n",
       "    }\n",
       "</style>\n",
       "<table border=\"1\" class=\"dataframe\">\n",
       "  <thead>\n",
       "    <tr style=\"text-align: right;\">\n",
       "      <th></th>\n",
       "      <th>RFE</th>\n",
       "      <th>Forward</th>\n",
       "    </tr>\n",
       "  </thead>\n",
       "  <tbody>\n",
       "    <tr>\n",
       "      <th>0</th>\n",
       "      <td>BsmtQual_4</td>\n",
       "      <td>BsmtFinType1_5</td>\n",
       "    </tr>\n",
       "    <tr>\n",
       "      <th>1</th>\n",
       "      <td>BsmtQual_5</td>\n",
       "      <td>BsmtFinType1_6</td>\n",
       "    </tr>\n",
       "    <tr>\n",
       "      <th>2</th>\n",
       "      <td>ExterQual_3</td>\n",
       "      <td>BsmtQual_5</td>\n",
       "    </tr>\n",
       "    <tr>\n",
       "      <th>3</th>\n",
       "      <td>ExterQual_4</td>\n",
       "      <td>Fireplaces</td>\n",
       "    </tr>\n",
       "    <tr>\n",
       "      <th>4</th>\n",
       "      <td>ExterQual_5</td>\n",
       "      <td>Functional_7</td>\n",
       "    </tr>\n",
       "    <tr>\n",
       "      <th>5</th>\n",
       "      <td>Functional_2</td>\n",
       "      <td>GarageArea</td>\n",
       "    </tr>\n",
       "    <tr>\n",
       "      <th>6</th>\n",
       "      <td>Functional_3</td>\n",
       "      <td>GrLivArea</td>\n",
       "    </tr>\n",
       "    <tr>\n",
       "      <th>7</th>\n",
       "      <td>Functional_4</td>\n",
       "      <td>HeatingQC_4</td>\n",
       "    </tr>\n",
       "    <tr>\n",
       "      <th>8</th>\n",
       "      <td>Functional_5</td>\n",
       "      <td>HeatingQC_5</td>\n",
       "    </tr>\n",
       "    <tr>\n",
       "      <th>9</th>\n",
       "      <td>Functional_6</td>\n",
       "      <td>LotArea</td>\n",
       "    </tr>\n",
       "    <tr>\n",
       "      <th>10</th>\n",
       "      <td>Functional_7</td>\n",
       "      <td>LotFrontage</td>\n",
       "    </tr>\n",
       "    <tr>\n",
       "      <th>11</th>\n",
       "      <td>GrLivArea</td>\n",
       "      <td>YearBuilt</td>\n",
       "    </tr>\n",
       "  </tbody>\n",
       "</table>\n",
       "</div>"
      ],
      "text/plain": [
       "             RFE         Forward\n",
       "0     BsmtQual_4  BsmtFinType1_5\n",
       "1     BsmtQual_5  BsmtFinType1_6\n",
       "2    ExterQual_3      BsmtQual_5\n",
       "3    ExterQual_4      Fireplaces\n",
       "4    ExterQual_5    Functional_7\n",
       "5   Functional_2      GarageArea\n",
       "6   Functional_3       GrLivArea\n",
       "7   Functional_4     HeatingQC_4\n",
       "8   Functional_5     HeatingQC_5\n",
       "9   Functional_6         LotArea\n",
       "10  Functional_7     LotFrontage\n",
       "11     GrLivArea       YearBuilt"
      ]
     },
     "execution_count": 95,
     "metadata": {},
     "output_type": "execute_result"
    }
   ],
   "source": [
    "Comp=pd.concat([pd.DataFrame(X_train.iloc[:,rfe.support_].columns.values).sort_values(by=0).reset_index(),\n",
    "                pd.DataFrame(Output_Forward.iloc[0:12,1].values).sort_values(by=0).reset_index()],axis=1,ignore_index=True).iloc[:,[1,3]]\n",
    "Comp.columns=\"RFE Forward\".split()\n",
    "Comp\n",
    "\n",
    "# wichtig ist dass die Variable aus Forward Selection müssen nicht mit Backward Selection oder Recursive Elimintation Methode übereinstimmen"
   ]
  },
  {
   "cell_type": "code",
   "execution_count": null,
   "metadata": {},
   "outputs": [],
   "source": []
  }
 ],
 "metadata": {
  "kernelspec": {
   "display_name": "Python 3",
   "language": "python",
   "name": "python3"
  },
  "language_info": {
   "codemirror_mode": {
    "name": "ipython",
    "version": 3
   },
   "file_extension": ".py",
   "mimetype": "text/x-python",
   "name": "python",
   "nbconvert_exporter": "python",
   "pygments_lexer": "ipython3",
   "version": "3.7.3"
  },
  "toc": {
   "base_numbering": 1,
   "nav_menu": {},
   "number_sections": false,
   "sideBar": true,
   "skip_h1_title": false,
   "title_cell": "Table of Contents",
   "title_sidebar": "Contents",
   "toc_cell": false,
   "toc_position": {},
   "toc_section_display": true,
   "toc_window_display": false
  },
  "varInspector": {
   "cols": {
    "lenName": 16,
    "lenType": 16,
    "lenVar": 40
   },
   "kernels_config": {
    "python": {
     "delete_cmd_postfix": "",
     "delete_cmd_prefix": "del ",
     "library": "var_list.py",
     "varRefreshCmd": "print(var_dic_list())"
    },
    "r": {
     "delete_cmd_postfix": ") ",
     "delete_cmd_prefix": "rm(",
     "library": "var_list.r",
     "varRefreshCmd": "cat(var_dic_list()) "
    }
   },
   "oldHeight": 325.86,
   "position": {
    "height": "347.86px",
    "left": "auto",
    "right": "20px",
    "top": "120px",
    "width": "350px"
   },
   "types_to_exclude": [
    "module",
    "function",
    "builtin_function_or_method",
    "instance",
    "_Feature"
   ],
   "varInspector_section_display": "block",
   "window_display": false
  }
 },
 "nbformat": 4,
 "nbformat_minor": 2
}
