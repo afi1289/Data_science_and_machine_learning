{
 "cells": [
  {
   "cell_type": "code",
   "execution_count": 1,
   "metadata": {},
   "outputs": [],
   "source": [
    "import statsmodels.api as sm\n",
    "import numpy as np\n",
    "import pandas as pd\n",
    "import mord # für ordinal logit model\n",
    "\n",
    "#conda install -c ericdill mord\n",
    "\n",
    "import matplotlib.pyplot as plt\n",
    "import seaborn as sns\n",
    "\n",
    "from sklearn.preprocessing import StandardScaler\n",
    "from sklearn.model_selection import train_test_split\n",
    "from sklearn.metrics import *\n",
    "from sklearn.model_selection import GridSearchCV\n",
    "from sklearn import preprocessing\n",
    "from sklearn.linear_model import LogisticRegression\n",
    "\n",
    "\n",
    "import warnings\n",
    "warnings.filterwarnings(\"ignore\")"
   ]
  },
  {
   "cell_type": "markdown",
   "metadata": {},
   "source": [
    "## Overview Rating Grades"
   ]
  },
  {
   "cell_type": "markdown",
   "metadata": {},
   "source": [
    "https://www.lendingclub.com/foliofn/rateDetail.action"
   ]
  },
  {
   "cell_type": "markdown",
   "metadata": {},
   "source": [
    "### Read in the data"
   ]
  },
  {
   "cell_type": "code",
   "execution_count": 3,
   "metadata": {},
   "outputs": [
    {
     "name": "stdout",
     "output_type": "stream",
     "text": [
      "(50000, 41)\n"
     ]
    },
    {
     "data": {
      "text/html": [
       "<div>\n",
       "<style scoped>\n",
       "    .dataframe tbody tr th:only-of-type {\n",
       "        vertical-align: middle;\n",
       "    }\n",
       "\n",
       "    .dataframe tbody tr th {\n",
       "        vertical-align: top;\n",
       "    }\n",
       "\n",
       "    .dataframe thead th {\n",
       "        text-align: right;\n",
       "    }\n",
       "</style>\n",
       "<table border=\"1\" class=\"dataframe\">\n",
       "  <thead>\n",
       "    <tr style=\"text-align: right;\">\n",
       "      <th></th>\n",
       "      <th>Unnamed: 0</th>\n",
       "      <th>member_id</th>\n",
       "      <th>loan_amnt</th>\n",
       "      <th>funded_amnt</th>\n",
       "      <th>funded_amnt_inv</th>\n",
       "      <th>int_rate</th>\n",
       "      <th>installment</th>\n",
       "      <th>grade</th>\n",
       "      <th>emp_title</th>\n",
       "      <th>emp_length</th>\n",
       "      <th>...</th>\n",
       "      <th>total_pymnt</th>\n",
       "      <th>total_pymnt_inv</th>\n",
       "      <th>total_rec_prncp</th>\n",
       "      <th>total_rec_int</th>\n",
       "      <th>total_rec_late_fee</th>\n",
       "      <th>recoveries</th>\n",
       "      <th>collection_recovery_fee</th>\n",
       "      <th>last_pymnt_amnt</th>\n",
       "      <th>collections_12_mths_ex_med</th>\n",
       "      <th>mths_since_last_major_derog</th>\n",
       "    </tr>\n",
       "  </thead>\n",
       "  <tbody>\n",
       "    <tr>\n",
       "      <th>0</th>\n",
       "      <td>1600208</td>\n",
       "      <td>NaN</td>\n",
       "      <td>14000</td>\n",
       "      <td>14000</td>\n",
       "      <td>14000.0</td>\n",
       "      <td>16.02</td>\n",
       "      <td>492.34</td>\n",
       "      <td>C</td>\n",
       "      <td>Bookkeeper</td>\n",
       "      <td>&lt; 1 year</td>\n",
       "      <td>...</td>\n",
       "      <td>9366.620000</td>\n",
       "      <td>9366.62</td>\n",
       "      <td>6441.55</td>\n",
       "      <td>2900.45</td>\n",
       "      <td>24.62</td>\n",
       "      <td>0.0</td>\n",
       "      <td>0.0</td>\n",
       "      <td>1009.30</td>\n",
       "      <td>0.0</td>\n",
       "      <td>NaN</td>\n",
       "    </tr>\n",
       "    <tr>\n",
       "      <th>1</th>\n",
       "      <td>1121981</td>\n",
       "      <td>NaN</td>\n",
       "      <td>28000</td>\n",
       "      <td>28000</td>\n",
       "      <td>28000.0</td>\n",
       "      <td>21.99</td>\n",
       "      <td>773.18</td>\n",
       "      <td>F</td>\n",
       "      <td>physician</td>\n",
       "      <td>10+ years</td>\n",
       "      <td>...</td>\n",
       "      <td>39373.212331</td>\n",
       "      <td>39373.21</td>\n",
       "      <td>28000.00</td>\n",
       "      <td>11373.21</td>\n",
       "      <td>0.00</td>\n",
       "      <td>0.0</td>\n",
       "      <td>0.0</td>\n",
       "      <td>20885.30</td>\n",
       "      <td>0.0</td>\n",
       "      <td>NaN</td>\n",
       "    </tr>\n",
       "    <tr>\n",
       "      <th>2</th>\n",
       "      <td>1923218</td>\n",
       "      <td>NaN</td>\n",
       "      <td>24000</td>\n",
       "      <td>24000</td>\n",
       "      <td>24000.0</td>\n",
       "      <td>10.99</td>\n",
       "      <td>521.70</td>\n",
       "      <td>B</td>\n",
       "      <td>Director of Business Strategy</td>\n",
       "      <td>1 year</td>\n",
       "      <td>...</td>\n",
       "      <td>29329.558978</td>\n",
       "      <td>29329.56</td>\n",
       "      <td>24000.00</td>\n",
       "      <td>5329.56</td>\n",
       "      <td>0.00</td>\n",
       "      <td>0.0</td>\n",
       "      <td>0.0</td>\n",
       "      <td>14214.91</td>\n",
       "      <td>0.0</td>\n",
       "      <td>NaN</td>\n",
       "    </tr>\n",
       "    <tr>\n",
       "      <th>3</th>\n",
       "      <td>526168</td>\n",
       "      <td>NaN</td>\n",
       "      <td>3000</td>\n",
       "      <td>3000</td>\n",
       "      <td>3000.0</td>\n",
       "      <td>13.99</td>\n",
       "      <td>102.52</td>\n",
       "      <td>C</td>\n",
       "      <td>Customer Loyalty Representative III</td>\n",
       "      <td>3 years</td>\n",
       "      <td>...</td>\n",
       "      <td>3432.207786</td>\n",
       "      <td>3432.21</td>\n",
       "      <td>3000.00</td>\n",
       "      <td>432.21</td>\n",
       "      <td>0.00</td>\n",
       "      <td>0.0</td>\n",
       "      <td>0.0</td>\n",
       "      <td>2101.78</td>\n",
       "      <td>0.0</td>\n",
       "      <td>NaN</td>\n",
       "    </tr>\n",
       "    <tr>\n",
       "      <th>4</th>\n",
       "      <td>1809377</td>\n",
       "      <td>NaN</td>\n",
       "      <td>10000</td>\n",
       "      <td>10000</td>\n",
       "      <td>10000.0</td>\n",
       "      <td>15.80</td>\n",
       "      <td>350.59</td>\n",
       "      <td>C</td>\n",
       "      <td>mendocino coast district hospital</td>\n",
       "      <td>9 years</td>\n",
       "      <td>...</td>\n",
       "      <td>12620.953324</td>\n",
       "      <td>12620.95</td>\n",
       "      <td>10000.00</td>\n",
       "      <td>2620.95</td>\n",
       "      <td>0.00</td>\n",
       "      <td>0.0</td>\n",
       "      <td>0.0</td>\n",
       "      <td>350.30</td>\n",
       "      <td>0.0</td>\n",
       "      <td>76.0</td>\n",
       "    </tr>\n",
       "  </tbody>\n",
       "</table>\n",
       "<p>5 rows × 41 columns</p>\n",
       "</div>"
      ],
      "text/plain": [
       "   Unnamed: 0  member_id  loan_amnt  funded_amnt  funded_amnt_inv  int_rate  \\\n",
       "0     1600208        NaN      14000        14000          14000.0     16.02   \n",
       "1     1121981        NaN      28000        28000          28000.0     21.99   \n",
       "2     1923218        NaN      24000        24000          24000.0     10.99   \n",
       "3      526168        NaN       3000         3000           3000.0     13.99   \n",
       "4     1809377        NaN      10000        10000          10000.0     15.80   \n",
       "\n",
       "   installment grade                            emp_title emp_length  ...  \\\n",
       "0       492.34     C                          Bookkeeper    < 1 year  ...   \n",
       "1       773.18     F                            physician  10+ years  ...   \n",
       "2       521.70     B        Director of Business Strategy     1 year  ...   \n",
       "3       102.52     C  Customer Loyalty Representative III    3 years  ...   \n",
       "4       350.59     C    mendocino coast district hospital    9 years  ...   \n",
       "\n",
       "    total_pymnt  total_pymnt_inv total_rec_prncp total_rec_int  \\\n",
       "0   9366.620000          9366.62         6441.55       2900.45   \n",
       "1  39373.212331         39373.21        28000.00      11373.21   \n",
       "2  29329.558978         29329.56        24000.00       5329.56   \n",
       "3   3432.207786          3432.21         3000.00        432.21   \n",
       "4  12620.953324         12620.95        10000.00       2620.95   \n",
       "\n",
       "  total_rec_late_fee  recoveries collection_recovery_fee last_pymnt_amnt  \\\n",
       "0              24.62         0.0                     0.0         1009.30   \n",
       "1               0.00         0.0                     0.0        20885.30   \n",
       "2               0.00         0.0                     0.0        14214.91   \n",
       "3               0.00         0.0                     0.0         2101.78   \n",
       "4               0.00         0.0                     0.0          350.30   \n",
       "\n",
       "   collections_12_mths_ex_med  mths_since_last_major_derog  \n",
       "0                         0.0                          NaN  \n",
       "1                         0.0                          NaN  \n",
       "2                         0.0                          NaN  \n",
       "3                         0.0                          NaN  \n",
       "4                         0.0                         76.0  \n",
       "\n",
       "[5 rows x 41 columns]"
      ]
     },
     "execution_count": 3,
     "metadata": {},
     "output_type": "execute_result"
    }
   ],
   "source": [
    "df_orig = pd.read_csv('LendingClub_short.csv', low_memory=False)\n",
    "df=df_orig.copy()\n",
    "print(df.shape)\n",
    "df.head()\n",
    "\n",
    "# ich habe 50000 Zeile und 41 Spalte\n",
    "\n",
    "# member_id muss gelöscht werden (Daten sind anonymisiert)\n",
    "# loan_amnt was ich haben wollte , funded_amnt was ich bekomme\n",
    "# int_rate ist Zinse\n",
    "# installment wie viel zahle ich mönatlich zurück\n",
    "# emp_title ist Beruf der Kreditnehmer"
   ]
  },
  {
   "cell_type": "markdown",
   "metadata": {},
   "source": [
    "### Find NaNs"
   ]
  },
  {
   "cell_type": "code",
   "execution_count": 4,
   "metadata": {},
   "outputs": [
    {
     "name": "stdout",
     "output_type": "stream",
     "text": [
      "Dataframe has 41 columns.\n",
      "There are 16 columns that have missing values.\n"
     ]
    },
    {
     "data": {
      "text/html": [
       "<div>\n",
       "<style scoped>\n",
       "    .dataframe tbody tr th:only-of-type {\n",
       "        vertical-align: middle;\n",
       "    }\n",
       "\n",
       "    .dataframe tbody tr th {\n",
       "        vertical-align: top;\n",
       "    }\n",
       "\n",
       "    .dataframe thead th {\n",
       "        text-align: right;\n",
       "    }\n",
       "</style>\n",
       "<table border=\"1\" class=\"dataframe\">\n",
       "  <thead>\n",
       "    <tr style=\"text-align: right;\">\n",
       "      <th></th>\n",
       "      <th>Missing Values</th>\n",
       "      <th>% of Total Values</th>\n",
       "    </tr>\n",
       "  </thead>\n",
       "  <tbody>\n",
       "    <tr>\n",
       "      <th>member_id</th>\n",
       "      <td>50000</td>\n",
       "      <td>100.0</td>\n",
       "    </tr>\n",
       "    <tr>\n",
       "      <th>url</th>\n",
       "      <td>50000</td>\n",
       "      <td>100.0</td>\n",
       "    </tr>\n",
       "    <tr>\n",
       "      <th>mths_since_last_record</th>\n",
       "      <td>42113</td>\n",
       "      <td>84.2</td>\n",
       "    </tr>\n",
       "    <tr>\n",
       "      <th>mths_since_last_major_derog</th>\n",
       "      <td>37168</td>\n",
       "      <td>74.3</td>\n",
       "    </tr>\n",
       "    <tr>\n",
       "      <th>mths_since_last_delinq</th>\n",
       "      <td>25561</td>\n",
       "      <td>51.1</td>\n",
       "    </tr>\n",
       "    <tr>\n",
       "      <th>emp_title</th>\n",
       "      <td>3710</td>\n",
       "      <td>7.4</td>\n",
       "    </tr>\n",
       "    <tr>\n",
       "      <th>emp_length</th>\n",
       "      <td>3254</td>\n",
       "      <td>6.5</td>\n",
       "    </tr>\n",
       "    <tr>\n",
       "      <th>title</th>\n",
       "      <td>531</td>\n",
       "      <td>1.1</td>\n",
       "    </tr>\n",
       "    <tr>\n",
       "      <th>dti</th>\n",
       "      <td>45</td>\n",
       "      <td>0.1</td>\n",
       "    </tr>\n",
       "    <tr>\n",
       "      <th>revol_util</th>\n",
       "      <td>37</td>\n",
       "      <td>0.1</td>\n",
       "    </tr>\n",
       "    <tr>\n",
       "      <th>collections_12_mths_ex_med</th>\n",
       "      <td>3</td>\n",
       "      <td>0.0</td>\n",
       "    </tr>\n",
       "    <tr>\n",
       "      <th>delinq_2yrs</th>\n",
       "      <td>1</td>\n",
       "      <td>0.0</td>\n",
       "    </tr>\n",
       "    <tr>\n",
       "      <th>inq_last_6mths</th>\n",
       "      <td>1</td>\n",
       "      <td>0.0</td>\n",
       "    </tr>\n",
       "    <tr>\n",
       "      <th>open_acc</th>\n",
       "      <td>1</td>\n",
       "      <td>0.0</td>\n",
       "    </tr>\n",
       "    <tr>\n",
       "      <th>pub_rec</th>\n",
       "      <td>1</td>\n",
       "      <td>0.0</td>\n",
       "    </tr>\n",
       "    <tr>\n",
       "      <th>total_acc</th>\n",
       "      <td>1</td>\n",
       "      <td>0.0</td>\n",
       "    </tr>\n",
       "  </tbody>\n",
       "</table>\n",
       "</div>"
      ],
      "text/plain": [
       "                             Missing Values  % of Total Values\n",
       "member_id                             50000              100.0\n",
       "url                                   50000              100.0\n",
       "mths_since_last_record                42113               84.2\n",
       "mths_since_last_major_derog           37168               74.3\n",
       "mths_since_last_delinq                25561               51.1\n",
       "emp_title                              3710                7.4\n",
       "emp_length                             3254                6.5\n",
       "title                                   531                1.1\n",
       "dti                                      45                0.1\n",
       "revol_util                               37                0.1\n",
       "collections_12_mths_ex_med                3                0.0\n",
       "delinq_2yrs                               1                0.0\n",
       "inq_last_6mths                            1                0.0\n",
       "open_acc                                  1                0.0\n",
       "pub_rec                                   1                0.0\n",
       "total_acc                                 1                0.0"
      ]
     },
     "execution_count": 4,
     "metadata": {},
     "output_type": "execute_result"
    }
   ],
   "source": [
    "# Nicht gefüllte Spalten müssen entwernt werden! oder wechseln\n",
    "\n",
    "def null_values(df):\n",
    "        mis_val = df.isnull().sum()\n",
    "        mis_val_percent = 100 * df.isnull().sum() / len(df)\n",
    "        mis_val_table = pd.concat([mis_val, mis_val_percent], axis=1)\n",
    "        mis_val_table_ren_columns = mis_val_table.rename(\n",
    "        columns = {0 : 'Missing Values', 1 : '% of Total Values'})\n",
    "        mis_val_table_ren_columns = mis_val_table_ren_columns[\n",
    "            mis_val_table_ren_columns.iloc[:,1] != 0].sort_values(\n",
    "        '% of Total Values', ascending=False).round(1)\n",
    "        print (\"Dataframe has \" + str(df.shape[1]) + \" columns.\\n\"      \n",
    "            \"There are \" + str(mis_val_table_ren_columns.shape[0]) +\n",
    "              \" columns that have missing values.\")\n",
    "        return mis_val_table_ren_columns\n",
    "    \n",
    "miss_values = null_values(df)\n",
    "miss_values.head(25)\n",
    "\n",
    "# dti bedeutet: Rate im Vergeich zu Loan- je höher dieser Wert ist, desto länger braucht man zurückzuzahlen"
   ]
  },
  {
   "cell_type": "markdown",
   "metadata": {},
   "source": [
    "### Drop unimportant or missing features"
   ]
  },
  {
   "cell_type": "code",
   "execution_count": 5,
   "metadata": {},
   "outputs": [],
   "source": [
    "# Für Datenauswertung müssen wir ein paar Sachen rausscheißen\n",
    "df.drop(['member_id','url','mths_since_last_record', 'mths_since_last_major_derog',\n",
    "         'mths_since_last_delinq' ,'emp_title', 'loan_status','pymnt_plan','title','revol_bal',\n",
    "         'out_prncp_inv','total_pymnt_inv','total_rec_late_fee','recoveries','collection_recovery_fee',\n",
    "         'collections_12_mths_ex_med','Unnamed: 0','funded_amnt_inv','total_rec_prncp','total_rec_int',\n",
    "         'last_pymnt_amnt','initial_list_status','loan_amnt','funded_amnt'],axis=1,inplace=True)\n",
    "df.dropna(inplace=True)\n",
    "\n"
   ]
  },
  {
   "cell_type": "code",
   "execution_count": 6,
   "metadata": {},
   "outputs": [
    {
     "data": {
      "text/html": [
       "<div>\n",
       "<style scoped>\n",
       "    .dataframe tbody tr th:only-of-type {\n",
       "        vertical-align: middle;\n",
       "    }\n",
       "\n",
       "    .dataframe tbody tr th {\n",
       "        vertical-align: top;\n",
       "    }\n",
       "\n",
       "    .dataframe thead th {\n",
       "        text-align: right;\n",
       "    }\n",
       "</style>\n",
       "<table border=\"1\" class=\"dataframe\">\n",
       "  <thead>\n",
       "    <tr style=\"text-align: right;\">\n",
       "      <th></th>\n",
       "      <th>int_rate</th>\n",
       "      <th>installment</th>\n",
       "      <th>grade</th>\n",
       "      <th>emp_length</th>\n",
       "      <th>home_ownership</th>\n",
       "      <th>annual_inc</th>\n",
       "      <th>verification_status</th>\n",
       "      <th>purpose</th>\n",
       "      <th>dti</th>\n",
       "      <th>delinq_2yrs</th>\n",
       "      <th>inq_last_6mths</th>\n",
       "      <th>open_acc</th>\n",
       "      <th>pub_rec</th>\n",
       "      <th>revol_util</th>\n",
       "      <th>total_acc</th>\n",
       "      <th>out_prncp</th>\n",
       "      <th>total_pymnt</th>\n",
       "    </tr>\n",
       "  </thead>\n",
       "  <tbody>\n",
       "    <tr>\n",
       "      <th>0</th>\n",
       "      <td>16.02</td>\n",
       "      <td>492.34</td>\n",
       "      <td>C</td>\n",
       "      <td>&lt; 1 year</td>\n",
       "      <td>RENT</td>\n",
       "      <td>55000.0</td>\n",
       "      <td>Source Verified</td>\n",
       "      <td>credit_card</td>\n",
       "      <td>15.80</td>\n",
       "      <td>0.0</td>\n",
       "      <td>0.0</td>\n",
       "      <td>18.0</td>\n",
       "      <td>0.0</td>\n",
       "      <td>79.6</td>\n",
       "      <td>25.0</td>\n",
       "      <td>7558.45</td>\n",
       "      <td>9366.620000</td>\n",
       "    </tr>\n",
       "    <tr>\n",
       "      <th>1</th>\n",
       "      <td>21.99</td>\n",
       "      <td>773.18</td>\n",
       "      <td>F</td>\n",
       "      <td>10+ years</td>\n",
       "      <td>MORTGAGE</td>\n",
       "      <td>500000.0</td>\n",
       "      <td>Verified</td>\n",
       "      <td>debt_consolidation</td>\n",
       "      <td>7.31</td>\n",
       "      <td>0.0</td>\n",
       "      <td>0.0</td>\n",
       "      <td>20.0</td>\n",
       "      <td>2.0</td>\n",
       "      <td>84.0</td>\n",
       "      <td>33.0</td>\n",
       "      <td>0.00</td>\n",
       "      <td>39373.212331</td>\n",
       "    </tr>\n",
       "    <tr>\n",
       "      <th>2</th>\n",
       "      <td>10.99</td>\n",
       "      <td>521.70</td>\n",
       "      <td>B</td>\n",
       "      <td>1 year</td>\n",
       "      <td>MORTGAGE</td>\n",
       "      <td>165000.0</td>\n",
       "      <td>Source Verified</td>\n",
       "      <td>debt_consolidation</td>\n",
       "      <td>8.03</td>\n",
       "      <td>1.0</td>\n",
       "      <td>0.0</td>\n",
       "      <td>10.0</td>\n",
       "      <td>0.0</td>\n",
       "      <td>14.8</td>\n",
       "      <td>19.0</td>\n",
       "      <td>0.00</td>\n",
       "      <td>29329.558978</td>\n",
       "    </tr>\n",
       "    <tr>\n",
       "      <th>3</th>\n",
       "      <td>13.99</td>\n",
       "      <td>102.52</td>\n",
       "      <td>C</td>\n",
       "      <td>3 years</td>\n",
       "      <td>RENT</td>\n",
       "      <td>40000.0</td>\n",
       "      <td>Verified</td>\n",
       "      <td>debt_consolidation</td>\n",
       "      <td>29.28</td>\n",
       "      <td>0.0</td>\n",
       "      <td>0.0</td>\n",
       "      <td>8.0</td>\n",
       "      <td>0.0</td>\n",
       "      <td>64.4</td>\n",
       "      <td>10.0</td>\n",
       "      <td>0.00</td>\n",
       "      <td>3432.207786</td>\n",
       "    </tr>\n",
       "    <tr>\n",
       "      <th>4</th>\n",
       "      <td>15.80</td>\n",
       "      <td>350.59</td>\n",
       "      <td>C</td>\n",
       "      <td>9 years</td>\n",
       "      <td>OWN</td>\n",
       "      <td>50000.0</td>\n",
       "      <td>Not Verified</td>\n",
       "      <td>credit_card</td>\n",
       "      <td>18.91</td>\n",
       "      <td>0.0</td>\n",
       "      <td>1.0</td>\n",
       "      <td>10.0</td>\n",
       "      <td>0.0</td>\n",
       "      <td>39.6</td>\n",
       "      <td>13.0</td>\n",
       "      <td>0.00</td>\n",
       "      <td>12620.953324</td>\n",
       "    </tr>\n",
       "  </tbody>\n",
       "</table>\n",
       "</div>"
      ],
      "text/plain": [
       "   int_rate  installment grade emp_length home_ownership  annual_inc  \\\n",
       "0     16.02       492.34     C   < 1 year           RENT     55000.0   \n",
       "1     21.99       773.18     F  10+ years       MORTGAGE    500000.0   \n",
       "2     10.99       521.70     B     1 year       MORTGAGE    165000.0   \n",
       "3     13.99       102.52     C    3 years           RENT     40000.0   \n",
       "4     15.80       350.59     C    9 years            OWN     50000.0   \n",
       "\n",
       "  verification_status             purpose    dti  delinq_2yrs  inq_last_6mths  \\\n",
       "0     Source Verified         credit_card  15.80          0.0             0.0   \n",
       "1            Verified  debt_consolidation   7.31          0.0             0.0   \n",
       "2     Source Verified  debt_consolidation   8.03          1.0             0.0   \n",
       "3            Verified  debt_consolidation  29.28          0.0             0.0   \n",
       "4        Not Verified         credit_card  18.91          0.0             1.0   \n",
       "\n",
       "   open_acc  pub_rec  revol_util  total_acc  out_prncp   total_pymnt  \n",
       "0      18.0      0.0        79.6       25.0    7558.45   9366.620000  \n",
       "1      20.0      2.0        84.0       33.0       0.00  39373.212331  \n",
       "2      10.0      0.0        14.8       19.0       0.00  29329.558978  \n",
       "3       8.0      0.0        64.4       10.0       0.00   3432.207786  \n",
       "4      10.0      0.0        39.6       13.0       0.00  12620.953324  "
      ]
     },
     "execution_count": 6,
     "metadata": {},
     "output_type": "execute_result"
    }
   ],
   "source": [
    "df.head() # mit dieser Data Frame beschäftigen wir uns!"
   ]
  },
  {
   "cell_type": "markdown",
   "metadata": {},
   "source": [
    "### Feature Analysis"
   ]
  },
  {
   "cell_type": "code",
   "execution_count": 7,
   "metadata": {
    "scrolled": false
   },
   "outputs": [
    {
     "data": {
      "text/plain": [
       "<matplotlib.axes._subplots.AxesSubplot at 0x10973b2b0>"
      ]
     },
     "execution_count": 7,
     "metadata": {},
     "output_type": "execute_result"
    },
    {
     "data": {
      "image/png": "[encoded data removed]",
      "text/plain": [
       "<Figure size 432x288 with 1 Axes>"
      ]
     },
     "metadata": {
      "needs_background": "light"
     },
     "output_type": "display_data"
    }
   ],
   "source": [
    "# Anzahl die Beobachtungen je Rating Klasse\n",
    "\n",
    "sns.countplot(df[\"grade\"], order=\"A B C D E F\".split())"
   ]
  },
  {
   "cell_type": "markdown",
   "metadata": {},
   "source": [
    "#### Metric Features"
   ]
  },
  {
   "cell_type": "code",
   "execution_count": 8,
   "metadata": {},
   "outputs": [
    {
     "data": {
      "text/plain": [
       "<matplotlib.axes._subplots.AxesSubplot at 0x1c20a82ef0>"
      ]
     },
     "execution_count": 8,
     "metadata": {},
     "output_type": "execute_result"
    },
    {
     "data": {
      "image/png": "[encoded data removed]",
      "text/plain": [
       "<Figure size 432x288 with 1 Axes>"
      ]
     },
     "metadata": {
      "needs_background": "light"
     },
     "output_type": "display_data"
    }
   ],
   "source": [
    "# dti bedeutet: Rate im Vergeich zu Loan- je höher dieser Wert ist, desto länger braucht man zurückzuzahlen\n",
    "# je höher Grade ist, desto höher ist Risiko -> weil Zins ist eine Approximation von Risiko (Zins ist Bepresien der Risiko)\n",
    "\n",
    "sns.boxplot(df['grade'],df['int_rate'],order=\"A B C D E F\".split())"
   ]
  },
  {
   "cell_type": "code",
   "execution_count": 9,
   "metadata": {},
   "outputs": [
    {
     "data": {
      "text/plain": [
       "<matplotlib.axes._subplots.AxesSubplot at 0x1c20a56c50>"
      ]
     },
     "execution_count": 9,
     "metadata": {},
     "output_type": "execute_result"
    },
    {
     "data": {
      "image/png": "[encoded data removed]",
      "text/plain": [
       "<Figure size 432x288 with 1 Axes>"
      ]
     },
     "metadata": {
      "needs_background": "light"
     },
     "output_type": "display_data"
    }
   ],
   "source": [
    "sns.boxplot(df['grade'],df['installment'],order=\"A B C D E F\".split())\n",
    "# je länger die Laufzeit, desto kleiner ist die Rate Risiko oder je kleiner mein Kredit ist, desto kleiner meine Rate auch"
   ]
  },
  {
   "cell_type": "markdown",
   "metadata": {},
   "source": [
    "#### Categorical Features"
   ]
  },
  {
   "cell_type": "code",
   "execution_count": 10,
   "metadata": {},
   "outputs": [
    {
     "data": {
      "text/plain": [
       "10+ years    16584\n",
       "2 years       4503\n",
       "< 1 year      4088\n",
       "3 years       4023\n",
       "1 year        3283\n",
       "5 years       3163\n",
       "4 years       3014\n",
       "6 years       2242\n",
       "7 years       2038\n",
       "8 years       1980\n",
       "9 years       1788\n",
       "Name: emp_length, dtype: int64"
      ]
     },
     "execution_count": 10,
     "metadata": {},
     "output_type": "execute_result"
    }
   ],
   "source": [
    "# Length of Employment\n",
    "df['emp_length'].value_counts()"
   ]
  },
  {
   "cell_type": "code",
   "execution_count": 11,
   "metadata": {},
   "outputs": [
    {
     "data": {
      "text/plain": [
       "MORTGAGE    23261\n",
       "RENT        18500\n",
       "OWN          4921\n",
       "ANY            20\n",
       "NONE            2\n",
       "OTHER           2\n",
       "Name: home_ownership, dtype: int64"
      ]
     },
     "execution_count": 11,
     "metadata": {},
     "output_type": "execute_result"
    }
   ],
   "source": [
    "# Living Situation -> die Wohnung der Kreditnehmer\n",
    "df['home_ownership'].value_counts()\n",
    "# Mortage er ist Haus finanziert! auf Deutsch bedeutet: Hypothek\n",
    "# Rent= Miete\n",
    "# Own Kreditnehmer hat eigene Wohnung\n",
    "# Any , Other, None werden wir rausschmeißen"
   ]
  },
  {
   "cell_type": "code",
   "execution_count": 12,
   "metadata": {},
   "outputs": [
    {
     "data": {
      "text/plain": [
       "Source Verified    18890\n",
       "Not Verified       15598\n",
       "Verified           12218\n",
       "Name: verification_status, dtype: int64"
      ]
     },
     "execution_count": 12,
     "metadata": {},
     "output_type": "execute_result"
    }
   ],
   "source": [
    "#Verification status of account - es geht um Gehalt! ist es Einkommen gesichert?\n",
    "df['verification_status'].value_counts()"
   ]
  },
  {
   "cell_type": "code",
   "execution_count": 13,
   "metadata": {},
   "outputs": [
    {
     "data": {
      "text/plain": [
       "debt_consolidation    26352\n",
       "credit_card           10808\n",
       "home_improvement       3025\n",
       "other                  2834\n",
       "major_purchase         1094\n",
       "small_business          553\n",
       "car                     526\n",
       "medical                 496\n",
       "moving                  324\n",
       "vacation                313\n",
       "house                   284\n",
       "wedding                  56\n",
       "renewable_energy         32\n",
       "educational               9\n",
       "Name: purpose, dtype: int64"
      ]
     },
     "execution_count": 13,
     "metadata": {},
     "output_type": "execute_result"
    }
   ],
   "source": [
    "#Purpose of credit -> warum nehmen Leute Kredite auf?\n",
    "df['purpose'].value_counts()\n"
   ]
  },
  {
   "cell_type": "markdown",
   "metadata": {},
   "source": [
    "## Data Preprocessing\n",
    "### man wandelt diese Strings der qualitativen Merkmale zum ersten Schritt meine Zahlen um -> und dann in Dummies (alles was ich definiert habe, werden  wir später Dummy kodieren -> d.h wir werden für jedes Eintrag außer der Referenzkategorie eine Spalte definieren, die entweder 0 oder 1 ist!\n"
   ]
  },
  {
   "cell_type": "code",
   "execution_count": 15,
   "metadata": {},
   "outputs": [],
   "source": [
    "# Redifine employment length\n",
    "# wir müssen ein Referenzkategorie wählen -> ich nehme immer die schlechteste/untenteste -> Referenzkategorie ist immer 0 !\n",
    "\n",
    "df['emp_length'][df['emp_length']=='< 1 year']=0 # ist Referenz Kategorie\n",
    "\n",
    "\n",
    "df['emp_length'][df['emp_length']=='1 year']=1\n",
    "df['emp_length'][df['emp_length']=='2 years']=2\n",
    "df['emp_length'][df['emp_length']=='3 years']=3\n",
    "df['emp_length'][df['emp_length']=='4 years']=4\n",
    "df['emp_length'][df['emp_length']=='5 years']=5\n",
    "df['emp_length'][df['emp_length']=='6 years']=6\n",
    "df['emp_length'][df['emp_length']=='7 years']=7\n",
    "df['emp_length'][df['emp_length']=='8 years']=8\n",
    "df['emp_length'][df['emp_length']=='9 years']=9\n",
    "df['emp_length'][df['emp_length']=='10+ years']=10\n",
    "\n",
    "# wir werden später Dummy kodieren -> d.h wir werden für jedes Eintrag außer der Referenzkategorie eine Spalte definieren, die entweder 0 oder 1 ist!"
   ]
  },
  {
   "cell_type": "code",
   "execution_count": 16,
   "metadata": {},
   "outputs": [],
   "source": [
    "#Redefine living situation and delete minor categories\n",
    "\n",
    "df['home_ownership'][df['home_ownership']=='MORTGAGE']=0 # Referenz Kategorie ist Mortagage(=Hypothek)\n",
    "df['home_ownership'][df['home_ownership']=='RENT']=1\n",
    "df['home_ownership'][df['home_ownership']=='OWN']=2\n",
    "\n",
    "# letzte 3 Zeile scheißen wir rauß!\n",
    "df=df[df['home_ownership']!='ANY']   \n",
    "df=df[df['home_ownership']!='OTHER']\n",
    "df=df[df['home_ownership']!='NONE']"
   ]
  },
  {
   "cell_type": "code",
   "execution_count": 17,
   "metadata": {},
   "outputs": [],
   "source": [
    "# Redefine verification status\n",
    "df['verification_status'][df['verification_status']=='Source Verified']=0 # Referenz Kategorie\n",
    "df['verification_status'][df['verification_status']=='Not Verified']=1\n",
    "df['verification_status'][df['verification_status']=='Verified']=2"
   ]
  },
  {
   "cell_type": "code",
   "execution_count": 18,
   "metadata": {},
   "outputs": [],
   "source": [
    "# Redefine purpose of credit\n",
    "\n",
    "df['purpose'][df['purpose']=='debt_consolidation']=0 # Referenz Kategorie\n",
    "df['purpose'][df['purpose']=='credit_card']=1\n",
    "df['purpose'][df['purpose']=='home_improvement']=2\n",
    "df['purpose'][df['purpose']=='major_purchase']=3\n",
    "df['purpose'][df['purpose']=='small_business']=4\n",
    "df['purpose'][df['purpose']=='car']=5\n",
    "df['purpose'][df['purpose']=='medical']=6\n",
    "df['purpose'][df['purpose']=='moving']=7\n",
    "df['purpose'][df['purpose']=='vacation']=8\n",
    "df['purpose'][df['purpose']=='house']=9\n",
    "df['purpose'][df['purpose']=='wedding']=10\n",
    "df['purpose'][df['purpose']=='renewable_energy']=11\n",
    "df['purpose'][df['purpose']=='educational']=12\n",
    "df['purpose'][df['purpose']=='other']=13"
   ]
  },
  {
   "cell_type": "markdown",
   "metadata": {},
   "source": [
    "### Encode Categorical Features"
   ]
  },
  {
   "cell_type": "code",
   "execution_count": 19,
   "metadata": {},
   "outputs": [],
   "source": [
    "# wir werden später Dummy kodieren -> d.h wir werden für jedes Eintrag außer der Referenzkategorie eine Spalte definieren, die entweder 0 oder 1 ist!\n",
    "# drop_first: schmeißt erste Spalte raus (die als 0 definiert, weil ich nur k-1 kategoriale Variable in meinem Modell reinnehmen)\n",
    "\n",
    "df_dummies=pd.get_dummies(df[['emp_length','home_ownership','verification_status','purpose']],drop_first=True)\n",
    "Dummy_names=['1year 2years 3years 4years 5years 6years 7years 8years 9years +10years Rent Own NotVerified Verified'.split()+\n",
    "                    'credit_card home_improvement major_purchase small_business car medical moving vacation house wedding renewable_energy educational other'.split()][0]\n",
    "df_dummies.columns=Dummy_names"
   ]
  },
  {
   "cell_type": "code",
   "execution_count": 20,
   "metadata": {},
   "outputs": [
    {
     "data": {
      "text/html": [
       "<div>\n",
       "<style scoped>\n",
       "    .dataframe tbody tr th:only-of-type {\n",
       "        vertical-align: middle;\n",
       "    }\n",
       "\n",
       "    .dataframe tbody tr th {\n",
       "        vertical-align: top;\n",
       "    }\n",
       "\n",
       "    .dataframe thead th {\n",
       "        text-align: right;\n",
       "    }\n",
       "</style>\n",
       "<table border=\"1\" class=\"dataframe\">\n",
       "  <thead>\n",
       "    <tr style=\"text-align: right;\">\n",
       "      <th></th>\n",
       "      <th>1year</th>\n",
       "      <th>2years</th>\n",
       "      <th>3years</th>\n",
       "      <th>4years</th>\n",
       "      <th>5years</th>\n",
       "      <th>6years</th>\n",
       "      <th>7years</th>\n",
       "      <th>8years</th>\n",
       "      <th>9years</th>\n",
       "      <th>+10years</th>\n",
       "      <th>...</th>\n",
       "      <th>small_business</th>\n",
       "      <th>car</th>\n",
       "      <th>medical</th>\n",
       "      <th>moving</th>\n",
       "      <th>vacation</th>\n",
       "      <th>house</th>\n",
       "      <th>wedding</th>\n",
       "      <th>renewable_energy</th>\n",
       "      <th>educational</th>\n",
       "      <th>other</th>\n",
       "    </tr>\n",
       "  </thead>\n",
       "  <tbody>\n",
       "    <tr>\n",
       "      <th>0</th>\n",
       "      <td>0</td>\n",
       "      <td>0</td>\n",
       "      <td>0</td>\n",
       "      <td>0</td>\n",
       "      <td>0</td>\n",
       "      <td>0</td>\n",
       "      <td>0</td>\n",
       "      <td>0</td>\n",
       "      <td>0</td>\n",
       "      <td>0</td>\n",
       "      <td>...</td>\n",
       "      <td>0</td>\n",
       "      <td>0</td>\n",
       "      <td>0</td>\n",
       "      <td>0</td>\n",
       "      <td>0</td>\n",
       "      <td>0</td>\n",
       "      <td>0</td>\n",
       "      <td>0</td>\n",
       "      <td>0</td>\n",
       "      <td>0</td>\n",
       "    </tr>\n",
       "    <tr>\n",
       "      <th>1</th>\n",
       "      <td>0</td>\n",
       "      <td>0</td>\n",
       "      <td>0</td>\n",
       "      <td>0</td>\n",
       "      <td>0</td>\n",
       "      <td>0</td>\n",
       "      <td>0</td>\n",
       "      <td>0</td>\n",
       "      <td>0</td>\n",
       "      <td>1</td>\n",
       "      <td>...</td>\n",
       "      <td>0</td>\n",
       "      <td>0</td>\n",
       "      <td>0</td>\n",
       "      <td>0</td>\n",
       "      <td>0</td>\n",
       "      <td>0</td>\n",
       "      <td>0</td>\n",
       "      <td>0</td>\n",
       "      <td>0</td>\n",
       "      <td>0</td>\n",
       "    </tr>\n",
       "    <tr>\n",
       "      <th>2</th>\n",
       "      <td>1</td>\n",
       "      <td>0</td>\n",
       "      <td>0</td>\n",
       "      <td>0</td>\n",
       "      <td>0</td>\n",
       "      <td>0</td>\n",
       "      <td>0</td>\n",
       "      <td>0</td>\n",
       "      <td>0</td>\n",
       "      <td>0</td>\n",
       "      <td>...</td>\n",
       "      <td>0</td>\n",
       "      <td>0</td>\n",
       "      <td>0</td>\n",
       "      <td>0</td>\n",
       "      <td>0</td>\n",
       "      <td>0</td>\n",
       "      <td>0</td>\n",
       "      <td>0</td>\n",
       "      <td>0</td>\n",
       "      <td>0</td>\n",
       "    </tr>\n",
       "    <tr>\n",
       "      <th>3</th>\n",
       "      <td>0</td>\n",
       "      <td>0</td>\n",
       "      <td>1</td>\n",
       "      <td>0</td>\n",
       "      <td>0</td>\n",
       "      <td>0</td>\n",
       "      <td>0</td>\n",
       "      <td>0</td>\n",
       "      <td>0</td>\n",
       "      <td>0</td>\n",
       "      <td>...</td>\n",
       "      <td>0</td>\n",
       "      <td>0</td>\n",
       "      <td>0</td>\n",
       "      <td>0</td>\n",
       "      <td>0</td>\n",
       "      <td>0</td>\n",
       "      <td>0</td>\n",
       "      <td>0</td>\n",
       "      <td>0</td>\n",
       "      <td>0</td>\n",
       "    </tr>\n",
       "    <tr>\n",
       "      <th>4</th>\n",
       "      <td>0</td>\n",
       "      <td>0</td>\n",
       "      <td>0</td>\n",
       "      <td>0</td>\n",
       "      <td>0</td>\n",
       "      <td>0</td>\n",
       "      <td>0</td>\n",
       "      <td>0</td>\n",
       "      <td>1</td>\n",
       "      <td>0</td>\n",
       "      <td>...</td>\n",
       "      <td>0</td>\n",
       "      <td>0</td>\n",
       "      <td>0</td>\n",
       "      <td>0</td>\n",
       "      <td>0</td>\n",
       "      <td>0</td>\n",
       "      <td>0</td>\n",
       "      <td>0</td>\n",
       "      <td>0</td>\n",
       "      <td>0</td>\n",
       "    </tr>\n",
       "  </tbody>\n",
       "</table>\n",
       "<p>5 rows × 27 columns</p>\n",
       "</div>"
      ],
      "text/plain": [
       "   1year  2years  3years  4years  5years  6years  7years  8years  9years  \\\n",
       "0      0       0       0       0       0       0       0       0       0   \n",
       "1      0       0       0       0       0       0       0       0       0   \n",
       "2      1       0       0       0       0       0       0       0       0   \n",
       "3      0       0       1       0       0       0       0       0       0   \n",
       "4      0       0       0       0       0       0       0       0       1   \n",
       "\n",
       "   +10years  ...  small_business  car  medical  moving  vacation  house  \\\n",
       "0         0  ...               0    0        0       0         0      0   \n",
       "1         1  ...               0    0        0       0         0      0   \n",
       "2         0  ...               0    0        0       0         0      0   \n",
       "3         0  ...               0    0        0       0         0      0   \n",
       "4         0  ...               0    0        0       0         0      0   \n",
       "\n",
       "   wedding  renewable_energy  educational  other  \n",
       "0        0                 0            0      0  \n",
       "1        0                 0            0      0  \n",
       "2        0                 0            0      0  \n",
       "3        0                 0            0      0  \n",
       "4        0                 0            0      0  \n",
       "\n",
       "[5 rows x 27 columns]"
      ]
     },
     "execution_count": 20,
     "metadata": {},
     "output_type": "execute_result"
    }
   ],
   "source": [
    "df_dummies.head()\n",
    "\n",
    "# ich habe für jede kategoriale Variable ein Dummy definiert\n",
    "# sieht unsere Dummy Matrix genau so aus-> \n",
    "# z.B erste Teil ist employment_length: ich habe für jede Zeitscheibe eine Spalte definiert 1year,2year,3year,+10year -> diese Spalte enthalt entweder 1 oder 0\n",
    "# "
   ]
  },
  {
   "cell_type": "markdown",
   "metadata": {},
   "source": [
    "### Get Final Dataframe"
   ]
  },
  {
   "cell_type": "code",
   "execution_count": 21,
   "metadata": {},
   "outputs": [],
   "source": [
    "# merge out data\n",
    "# wir sollen nicht nur katgeoriale Variable hernehmen sonder die metrischen Variable auch\n",
    "# merge unsere Datensatz wieder zusammen\n",
    "\n",
    "Final_Data=pd.concat([df.drop(['emp_length','home_ownership','verification_status','purpose'],axis=1),df_dummies],axis=1)"
   ]
  },
  {
   "cell_type": "code",
   "execution_count": 22,
   "metadata": {},
   "outputs": [
    {
     "data": {
      "text/html": [
       "<div>\n",
       "<style scoped>\n",
       "    .dataframe tbody tr th:only-of-type {\n",
       "        vertical-align: middle;\n",
       "    }\n",
       "\n",
       "    .dataframe tbody tr th {\n",
       "        vertical-align: top;\n",
       "    }\n",
       "\n",
       "    .dataframe thead th {\n",
       "        text-align: right;\n",
       "    }\n",
       "</style>\n",
       "<table border=\"1\" class=\"dataframe\">\n",
       "  <thead>\n",
       "    <tr style=\"text-align: right;\">\n",
       "      <th></th>\n",
       "      <th>int_rate</th>\n",
       "      <th>installment</th>\n",
       "      <th>grade</th>\n",
       "      <th>annual_inc</th>\n",
       "      <th>dti</th>\n",
       "      <th>delinq_2yrs</th>\n",
       "      <th>inq_last_6mths</th>\n",
       "      <th>open_acc</th>\n",
       "      <th>pub_rec</th>\n",
       "      <th>revol_util</th>\n",
       "      <th>...</th>\n",
       "      <th>small_business</th>\n",
       "      <th>car</th>\n",
       "      <th>medical</th>\n",
       "      <th>moving</th>\n",
       "      <th>vacation</th>\n",
       "      <th>house</th>\n",
       "      <th>wedding</th>\n",
       "      <th>renewable_energy</th>\n",
       "      <th>educational</th>\n",
       "      <th>other</th>\n",
       "    </tr>\n",
       "  </thead>\n",
       "  <tbody>\n",
       "    <tr>\n",
       "      <th>0</th>\n",
       "      <td>16.02</td>\n",
       "      <td>492.34</td>\n",
       "      <td>C</td>\n",
       "      <td>55000.0</td>\n",
       "      <td>15.80</td>\n",
       "      <td>0.0</td>\n",
       "      <td>0.0</td>\n",
       "      <td>18.0</td>\n",
       "      <td>0.0</td>\n",
       "      <td>79.6</td>\n",
       "      <td>...</td>\n",
       "      <td>0</td>\n",
       "      <td>0</td>\n",
       "      <td>0</td>\n",
       "      <td>0</td>\n",
       "      <td>0</td>\n",
       "      <td>0</td>\n",
       "      <td>0</td>\n",
       "      <td>0</td>\n",
       "      <td>0</td>\n",
       "      <td>0</td>\n",
       "    </tr>\n",
       "    <tr>\n",
       "      <th>1</th>\n",
       "      <td>21.99</td>\n",
       "      <td>773.18</td>\n",
       "      <td>F</td>\n",
       "      <td>500000.0</td>\n",
       "      <td>7.31</td>\n",
       "      <td>0.0</td>\n",
       "      <td>0.0</td>\n",
       "      <td>20.0</td>\n",
       "      <td>2.0</td>\n",
       "      <td>84.0</td>\n",
       "      <td>...</td>\n",
       "      <td>0</td>\n",
       "      <td>0</td>\n",
       "      <td>0</td>\n",
       "      <td>0</td>\n",
       "      <td>0</td>\n",
       "      <td>0</td>\n",
       "      <td>0</td>\n",
       "      <td>0</td>\n",
       "      <td>0</td>\n",
       "      <td>0</td>\n",
       "    </tr>\n",
       "    <tr>\n",
       "      <th>2</th>\n",
       "      <td>10.99</td>\n",
       "      <td>521.70</td>\n",
       "      <td>B</td>\n",
       "      <td>165000.0</td>\n",
       "      <td>8.03</td>\n",
       "      <td>1.0</td>\n",
       "      <td>0.0</td>\n",
       "      <td>10.0</td>\n",
       "      <td>0.0</td>\n",
       "      <td>14.8</td>\n",
       "      <td>...</td>\n",
       "      <td>0</td>\n",
       "      <td>0</td>\n",
       "      <td>0</td>\n",
       "      <td>0</td>\n",
       "      <td>0</td>\n",
       "      <td>0</td>\n",
       "      <td>0</td>\n",
       "      <td>0</td>\n",
       "      <td>0</td>\n",
       "      <td>0</td>\n",
       "    </tr>\n",
       "    <tr>\n",
       "      <th>3</th>\n",
       "      <td>13.99</td>\n",
       "      <td>102.52</td>\n",
       "      <td>C</td>\n",
       "      <td>40000.0</td>\n",
       "      <td>29.28</td>\n",
       "      <td>0.0</td>\n",
       "      <td>0.0</td>\n",
       "      <td>8.0</td>\n",
       "      <td>0.0</td>\n",
       "      <td>64.4</td>\n",
       "      <td>...</td>\n",
       "      <td>0</td>\n",
       "      <td>0</td>\n",
       "      <td>0</td>\n",
       "      <td>0</td>\n",
       "      <td>0</td>\n",
       "      <td>0</td>\n",
       "      <td>0</td>\n",
       "      <td>0</td>\n",
       "      <td>0</td>\n",
       "      <td>0</td>\n",
       "    </tr>\n",
       "    <tr>\n",
       "      <th>4</th>\n",
       "      <td>15.80</td>\n",
       "      <td>350.59</td>\n",
       "      <td>C</td>\n",
       "      <td>50000.0</td>\n",
       "      <td>18.91</td>\n",
       "      <td>0.0</td>\n",
       "      <td>1.0</td>\n",
       "      <td>10.0</td>\n",
       "      <td>0.0</td>\n",
       "      <td>39.6</td>\n",
       "      <td>...</td>\n",
       "      <td>0</td>\n",
       "      <td>0</td>\n",
       "      <td>0</td>\n",
       "      <td>0</td>\n",
       "      <td>0</td>\n",
       "      <td>0</td>\n",
       "      <td>0</td>\n",
       "      <td>0</td>\n",
       "      <td>0</td>\n",
       "      <td>0</td>\n",
       "    </tr>\n",
       "  </tbody>\n",
       "</table>\n",
       "<p>5 rows × 40 columns</p>\n",
       "</div>"
      ],
      "text/plain": [
       "   int_rate  installment grade  annual_inc    dti  delinq_2yrs  \\\n",
       "0     16.02       492.34     C     55000.0  15.80          0.0   \n",
       "1     21.99       773.18     F    500000.0   7.31          0.0   \n",
       "2     10.99       521.70     B    165000.0   8.03          1.0   \n",
       "3     13.99       102.52     C     40000.0  29.28          0.0   \n",
       "4     15.80       350.59     C     50000.0  18.91          0.0   \n",
       "\n",
       "   inq_last_6mths  open_acc  pub_rec  revol_util  ...  small_business  car  \\\n",
       "0             0.0      18.0      0.0        79.6  ...               0    0   \n",
       "1             0.0      20.0      2.0        84.0  ...               0    0   \n",
       "2             0.0      10.0      0.0        14.8  ...               0    0   \n",
       "3             0.0       8.0      0.0        64.4  ...               0    0   \n",
       "4             1.0      10.0      0.0        39.6  ...               0    0   \n",
       "\n",
       "   medical  moving  vacation  house  wedding  renewable_energy  educational  \\\n",
       "0        0       0         0      0        0                 0            0   \n",
       "1        0       0         0      0        0                 0            0   \n",
       "2        0       0         0      0        0                 0            0   \n",
       "3        0       0         0      0        0                 0            0   \n",
       "4        0       0         0      0        0                 0            0   \n",
       "\n",
       "   other  \n",
       "0      0  \n",
       "1      0  \n",
       "2      0  \n",
       "3      0  \n",
       "4      0  \n",
       "\n",
       "[5 rows x 40 columns]"
      ]
     },
     "execution_count": 22,
     "metadata": {},
     "output_type": "execute_result"
    }
   ],
   "source": [
    "Final_Data.head()\n",
    "\n",
    "# ich habe 40 Spalten -> 40 Variable, die ich für meine Modelle verwenden kann -> relativ viel Anzahl an Variable! -> Regularizierung könnte dabei helfen, diese Variable weniger zu machen, damit Modell besser laufen!"
   ]
  },
  {
   "cell_type": "markdown",
   "metadata": {},
   "source": [
    "### Train-Test-Split"
   ]
  },
  {
   "cell_type": "code",
   "execution_count": 23,
   "metadata": {},
   "outputs": [],
   "source": [
    "# Was wir machen müssen, um Bias-Variance Trade-Off gerecht werden ist Splitten Train und Test Daten\n",
    "\n",
    "X_train, X_test, y_train, y_test = train_test_split(Final_Data.drop('grade',axis=1),Final_Data['grade'],test_size=0.35,random_state=245)"
   ]
  },
  {
   "cell_type": "markdown",
   "metadata": {},
   "source": [
    "### Scale Metric Variables"
   ]
  },
  {
   "cell_type": "code",
   "execution_count": 24,
   "metadata": {},
   "outputs": [],
   "source": [
    "# Use the same standardization for train and test sample!!! \n",
    "# wir haben unterschiedlich Dimensionen bspw. delinq_2yrs und annual_inc haben unterschiedliche Range\n",
    "# wenn man Regularizierung (L1 oder L2) anwenden möchte, müsste man unbedingt diese Variable standardisiert\n",
    "# -> d.h: alle metrische Variable, die ich habe, auf gleiche Dimension bekommen (= standardisieren)\n",
    "\n",
    "sc = StandardScaler().fit(X_train.drop(Dummy_names,axis=1))\n",
    "\n",
    "# man muss aufpassen! \n",
    "# wir skalieren train-Variable und test-Variable nicht separat!\n",
    "X_train_scaled=pd.DataFrame(sc.transform(X_train.drop(Dummy_names,axis=1)),columns=X_train.drop(Dummy_names,axis=1).columns.values)\n",
    "X_test_scaled=pd.DataFrame(sc.transform(X_test.drop(Dummy_names,axis=1)),columns=X_test.drop(Dummy_names,axis=1).columns.values)\n",
    "\n",
    "X_train=pd.concat([X_train_scaled.reset_index(), pd.DataFrame(X_train[Dummy_names]).reset_index()],axis=1).drop('index',axis=1)\n",
    "X_test=pd.concat([X_test_scaled.reset_index(), pd.DataFrame(X_test[Dummy_names]).reset_index()],axis=1).drop('index',axis=1)\n",
    "\n",
    "y_train=y_train.reset_index().drop('index',axis=1)\n",
    "y_test=y_test.reset_index().drop('index',axis=1)"
   ]
  },
  {
   "cell_type": "code",
   "execution_count": 26,
   "metadata": {},
   "outputs": [
    {
     "data": {
      "text/html": [
       "<div>\n",
       "<style scoped>\n",
       "    .dataframe tbody tr th:only-of-type {\n",
       "        vertical-align: middle;\n",
       "    }\n",
       "\n",
       "    .dataframe tbody tr th {\n",
       "        vertical-align: top;\n",
       "    }\n",
       "\n",
       "    .dataframe thead th {\n",
       "        text-align: right;\n",
       "    }\n",
       "</style>\n",
       "<table border=\"1\" class=\"dataframe\">\n",
       "  <thead>\n",
       "    <tr style=\"text-align: right;\">\n",
       "      <th></th>\n",
       "      <th>int_rate</th>\n",
       "      <th>installment</th>\n",
       "      <th>annual_inc</th>\n",
       "      <th>dti</th>\n",
       "      <th>delinq_2yrs</th>\n",
       "      <th>inq_last_6mths</th>\n",
       "      <th>open_acc</th>\n",
       "      <th>pub_rec</th>\n",
       "      <th>revol_util</th>\n",
       "      <th>total_acc</th>\n",
       "      <th>...</th>\n",
       "      <th>small_business</th>\n",
       "      <th>car</th>\n",
       "      <th>medical</th>\n",
       "      <th>moving</th>\n",
       "      <th>vacation</th>\n",
       "      <th>house</th>\n",
       "      <th>wedding</th>\n",
       "      <th>renewable_energy</th>\n",
       "      <th>educational</th>\n",
       "      <th>other</th>\n",
       "    </tr>\n",
       "  </thead>\n",
       "  <tbody>\n",
       "    <tr>\n",
       "      <th>0</th>\n",
       "      <td>-1.058012</td>\n",
       "      <td>-0.281167</td>\n",
       "      <td>-0.258061</td>\n",
       "      <td>-0.072286</td>\n",
       "      <td>-0.359263</td>\n",
       "      <td>-0.659359</td>\n",
       "      <td>0.405478</td>\n",
       "      <td>-0.351727</td>\n",
       "      <td>-1.333213</td>\n",
       "      <td>-0.189716</td>\n",
       "      <td>...</td>\n",
       "      <td>0</td>\n",
       "      <td>0</td>\n",
       "      <td>0</td>\n",
       "      <td>0</td>\n",
       "      <td>0</td>\n",
       "      <td>0</td>\n",
       "      <td>0</td>\n",
       "      <td>0</td>\n",
       "      <td>0</td>\n",
       "      <td>0</td>\n",
       "    </tr>\n",
       "    <tr>\n",
       "      <th>1</th>\n",
       "      <td>0.293969</td>\n",
       "      <td>0.240928</td>\n",
       "      <td>-0.421656</td>\n",
       "      <td>-0.466269</td>\n",
       "      <td>3.045560</td>\n",
       "      <td>-0.659359</td>\n",
       "      <td>-0.304308</td>\n",
       "      <td>-0.351727</td>\n",
       "      <td>0.071874</td>\n",
       "      <td>-0.937999</td>\n",
       "      <td>...</td>\n",
       "      <td>0</td>\n",
       "      <td>0</td>\n",
       "      <td>0</td>\n",
       "      <td>0</td>\n",
       "      <td>0</td>\n",
       "      <td>0</td>\n",
       "      <td>0</td>\n",
       "      <td>0</td>\n",
       "      <td>0</td>\n",
       "      <td>0</td>\n",
       "    </tr>\n",
       "    <tr>\n",
       "      <th>2</th>\n",
       "      <td>-1.324249</td>\n",
       "      <td>-0.536297</td>\n",
       "      <td>-0.560734</td>\n",
       "      <td>-0.701375</td>\n",
       "      <td>-0.359263</td>\n",
       "      <td>-0.659359</td>\n",
       "      <td>-1.014093</td>\n",
       "      <td>-0.351727</td>\n",
       "      <td>0.476798</td>\n",
       "      <td>-1.187427</td>\n",
       "      <td>...</td>\n",
       "      <td>0</td>\n",
       "      <td>0</td>\n",
       "      <td>0</td>\n",
       "      <td>0</td>\n",
       "      <td>0</td>\n",
       "      <td>0</td>\n",
       "      <td>0</td>\n",
       "      <td>0</td>\n",
       "      <td>0</td>\n",
       "      <td>0</td>\n",
       "    </tr>\n",
       "    <tr>\n",
       "      <th>3</th>\n",
       "      <td>-0.080425</td>\n",
       "      <td>0.842458</td>\n",
       "      <td>0.750849</td>\n",
       "      <td>-0.008093</td>\n",
       "      <td>-0.359263</td>\n",
       "      <td>-0.659359</td>\n",
       "      <td>2.179943</td>\n",
       "      <td>-0.351727</td>\n",
       "      <td>1.343335</td>\n",
       "      <td>2.055135</td>\n",
       "      <td>...</td>\n",
       "      <td>0</td>\n",
       "      <td>0</td>\n",
       "      <td>0</td>\n",
       "      <td>0</td>\n",
       "      <td>0</td>\n",
       "      <td>0</td>\n",
       "      <td>0</td>\n",
       "      <td>0</td>\n",
       "      <td>0</td>\n",
       "      <td>0</td>\n",
       "    </tr>\n",
       "    <tr>\n",
       "      <th>4</th>\n",
       "      <td>0.397968</td>\n",
       "      <td>0.975345</td>\n",
       "      <td>0.561679</td>\n",
       "      <td>-0.537683</td>\n",
       "      <td>-0.359263</td>\n",
       "      <td>-0.659359</td>\n",
       "      <td>-0.836647</td>\n",
       "      <td>-0.351727</td>\n",
       "      <td>2.084346</td>\n",
       "      <td>-0.605429</td>\n",
       "      <td>...</td>\n",
       "      <td>0</td>\n",
       "      <td>0</td>\n",
       "      <td>0</td>\n",
       "      <td>0</td>\n",
       "      <td>0</td>\n",
       "      <td>0</td>\n",
       "      <td>0</td>\n",
       "      <td>0</td>\n",
       "      <td>0</td>\n",
       "      <td>0</td>\n",
       "    </tr>\n",
       "  </tbody>\n",
       "</table>\n",
       "<p>5 rows × 39 columns</p>\n",
       "</div>"
      ],
      "text/plain": [
       "   int_rate  installment  annual_inc       dti  delinq_2yrs  inq_last_6mths  \\\n",
       "0 -1.058012    -0.281167   -0.258061 -0.072286    -0.359263       -0.659359   \n",
       "1  0.293969     0.240928   -0.421656 -0.466269     3.045560       -0.659359   \n",
       "2 -1.324249    -0.536297   -0.560734 -0.701375    -0.359263       -0.659359   \n",
       "3 -0.080425     0.842458    0.750849 -0.008093    -0.359263       -0.659359   \n",
       "4  0.397968     0.975345    0.561679 -0.537683    -0.359263       -0.659359   \n",
       "\n",
       "   open_acc   pub_rec  revol_util  total_acc  ...  small_business  car  \\\n",
       "0  0.405478 -0.351727   -1.333213  -0.189716  ...               0    0   \n",
       "1 -0.304308 -0.351727    0.071874  -0.937999  ...               0    0   \n",
       "2 -1.014093 -0.351727    0.476798  -1.187427  ...               0    0   \n",
       "3  2.179943 -0.351727    1.343335   2.055135  ...               0    0   \n",
       "4 -0.836647 -0.351727    2.084346  -0.605429  ...               0    0   \n",
       "\n",
       "   medical  moving  vacation  house  wedding  renewable_energy  educational  \\\n",
       "0        0       0         0      0        0                 0            0   \n",
       "1        0       0         0      0        0                 0            0   \n",
       "2        0       0         0      0        0                 0            0   \n",
       "3        0       0         0      0        0                 0            0   \n",
       "4        0       0         0      0        0                 0            0   \n",
       "\n",
       "   other  \n",
       "0      0  \n",
       "1      0  \n",
       "2      0  \n",
       "3      0  \n",
       "4      0  \n",
       "\n",
       "[5 rows x 39 columns]"
      ]
     },
     "execution_count": 26,
     "metadata": {},
     "output_type": "execute_result"
    }
   ],
   "source": [
    "# Nach Standardisierung, sieht unsere DatenFrame so aus -> Werte sind jetzt standard-normal verteilt (Mittelwert über die Spalte sollte 0 sein + Standardabweichung innerhalb von der Spalte sollte ungefähr 1 sein)\n",
    "X_train.head()\n"
   ]
  },
  {
   "cell_type": "code",
   "execution_count": 27,
   "metadata": {},
   "outputs": [
    {
     "data": {
      "text/html": [
       "<div>\n",
       "<style scoped>\n",
       "    .dataframe tbody tr th:only-of-type {\n",
       "        vertical-align: middle;\n",
       "    }\n",
       "\n",
       "    .dataframe tbody tr th {\n",
       "        vertical-align: top;\n",
       "    }\n",
       "\n",
       "    .dataframe thead th {\n",
       "        text-align: right;\n",
       "    }\n",
       "</style>\n",
       "<table border=\"1\" class=\"dataframe\">\n",
       "  <thead>\n",
       "    <tr style=\"text-align: right;\">\n",
       "      <th></th>\n",
       "      <th>grade</th>\n",
       "    </tr>\n",
       "  </thead>\n",
       "  <tbody>\n",
       "    <tr>\n",
       "      <th>0</th>\n",
       "      <td>A</td>\n",
       "    </tr>\n",
       "    <tr>\n",
       "      <th>1</th>\n",
       "      <td>C</td>\n",
       "    </tr>\n",
       "    <tr>\n",
       "      <th>2</th>\n",
       "      <td>A</td>\n",
       "    </tr>\n",
       "    <tr>\n",
       "      <th>3</th>\n",
       "      <td>C</td>\n",
       "    </tr>\n",
       "    <tr>\n",
       "      <th>4</th>\n",
       "      <td>C</td>\n",
       "    </tr>\n",
       "  </tbody>\n",
       "</table>\n",
       "</div>"
      ],
      "text/plain": [
       "  grade\n",
       "0     A\n",
       "1     C\n",
       "2     A\n",
       "3     C\n",
       "4     C"
      ]
     },
     "execution_count": 27,
     "metadata": {},
     "output_type": "execute_result"
    }
   ],
   "source": [
    "# y_train ist im Endeffekt unser Rating -> wir versuchen aus dem ganzen X hier oben in der DatenFrame haben irgenwie die y gut vorhersagen!\n",
    "\n",
    "y_train.head() "
   ]
  },
  {
   "cell_type": "markdown",
   "metadata": {},
   "source": [
    "## Wir fangen mit Multinomial Logit Model an\n",
    "### ist im Endeffekt nicht anders als sequenzielles Logit hinterher!\n",
    "\n",
    "## Estimate the Multinomial Logit Model"
   ]
  },
  {
   "cell_type": "code",
   "execution_count": 28,
   "metadata": {
    "scrolled": true
   },
   "outputs": [
    {
     "name": "stdout",
     "output_type": "stream",
     "text": [
      "                          MNLogit Regression Results                          \n",
      "==============================================================================\n",
      "Dep. Variable:                  grade   No. Observations:                30343\n",
      "Model:                        MNLogit   Df Residuals:                    30109\n",
      "Method:                           MLE   Df Model:                          228\n",
      "Date:                Wed, 05 Feb 2020   Pseudo R-squ.:                  0.6635\n",
      "Time:                        21:49:19   Log-Likelihood:                -16156.\n",
      "converged:                       True   LL-Null:                       -48005.\n",
      "Covariance Type:            nonrobust   LLR p-value:                     0.000\n",
      "====================================================================================\n",
      "         grade=B       coef    std err          z      P>|z|      [0.025      0.975]\n",
      "------------------------------------------------------------------------------------\n",
      "int_rate             6.6020      0.111     59.599      0.000       6.385       6.819\n",
      "installment         -0.6407      0.070     -9.137      0.000      -0.778      -0.503\n",
      "annual_inc           0.0148      0.031      0.482      0.630      -0.045       0.075\n",
      "dti                  0.0674      0.023      2.891      0.004       0.022       0.113\n",
      "delinq_2yrs          0.1654      0.031      5.342      0.000       0.105       0.226\n",
      "inq_last_6mths       0.0125      0.033      0.378      0.705      -0.052       0.078\n",
      "open_acc             0.0203      0.041      0.500      0.617      -0.059       0.100\n",
      "pub_rec              0.1324      0.031      4.266      0.000       0.072       0.193\n",
      "revol_util           0.2013      0.031      6.535      0.000       0.141       0.262\n",
      "total_acc            0.0710      0.041      1.727      0.084      -0.010       0.152\n",
      "out_prncp            0.3842      0.054      7.097      0.000       0.278       0.490\n",
      "total_pymnt          0.7769      0.073     10.604      0.000       0.633       0.920\n",
      "1year                4.6211      0.131     35.335      0.000       4.365       4.877\n",
      "2years               4.5276      0.120     37.583      0.000       4.291       4.764\n",
      "3years               4.6270      0.125     37.113      0.000       4.383       4.871\n",
      "4years               4.6785      0.137     34.039      0.000       4.409       4.948\n",
      "5years               4.6194      0.134     34.570      0.000       4.358       4.881\n",
      "6years               4.6696      0.150     31.138      0.000       4.376       4.964\n",
      "7years               4.7351      0.155     30.463      0.000       4.430       5.040\n",
      "8years               4.8311      0.164     29.406      0.000       4.509       5.153\n",
      "9years               4.6984      0.166     28.388      0.000       4.374       5.023\n",
      "+10years             4.9222      0.099     49.562      0.000       4.728       5.117\n",
      "Rent                 1.5225      0.062     24.387      0.000       1.400       1.645\n",
      "Own                  1.0507      0.092     11.387      0.000       0.870       1.232\n",
      "NotVerified          0.8475      0.061     13.857      0.000       0.728       0.967\n",
      "Verified             1.0230      0.079     12.989      0.000       0.869       1.177\n",
      "credit_card          0.6760      0.064     10.639      0.000       0.551       0.801\n",
      "home_improvement     0.9992      0.111      9.005      0.000       0.782       1.217\n",
      "major_purchase       0.6455      0.175      3.695      0.000       0.303       0.988\n",
      "small_business       0.4495      0.322      1.398      0.162      -0.181       1.080\n",
      "car                  0.7898      0.248      3.186      0.001       0.304       1.276\n",
      "medical              0.8518      0.284      3.002      0.003       0.296       1.408\n",
      "moving               1.0760      0.417      2.582      0.010       0.259       1.893\n",
      "vacation             0.9873      0.385      2.561      0.010       0.232       1.743\n",
      "house                1.2906      0.428      3.017      0.003       0.452       2.129\n",
      "wedding             -0.1019      0.880     -0.116      0.908      -1.828       1.624\n",
      "renewable_energy     0.5092      1.528      0.333      0.739      -2.486       3.504\n",
      "educational         -1.8000      2.015     -0.893      0.372      -5.750       2.150\n",
      "other                1.0640      0.132      8.084      0.000       0.806       1.322\n",
      "------------------------------------------------------------------------------------\n",
      "         grade=C       coef    std err          z      P>|z|      [0.025      0.975]\n",
      "------------------------------------------------------------------------------------\n",
      "int_rate            18.9889      0.253     75.061      0.000      18.493      19.485\n",
      "installment         -1.0460      0.097    -10.754      0.000      -1.237      -0.855\n",
      "annual_inc          -0.0042      0.060     -0.070      0.945      -0.123       0.114\n",
      "dti                  0.1543      0.030      5.178      0.000       0.096       0.213\n",
      "delinq_2yrs          0.2324      0.046      5.076      0.000       0.143       0.322\n",
      "inq_last_6mths      -0.0300      0.047     -0.638      0.524      -0.122       0.062\n",
      "open_acc             0.1172      0.063      1.869      0.062      -0.006       0.240\n",
      "pub_rec              0.3067      0.043      7.186      0.000       0.223       0.390\n",
      "revol_util           0.3230      0.047      6.919      0.000       0.232       0.415\n",
      "total_acc            0.0101      0.064      0.158      0.875      -0.115       0.136\n",
      "out_prncp            0.5530      0.073      7.567      0.000       0.410       0.696\n",
      "total_pymnt          1.2895      0.099     13.085      0.000       1.096       1.483\n",
      "1year                5.9337      0.187     31.666      0.000       5.566       6.301\n",
      "2years               5.9559      0.168     35.435      0.000       5.626       6.285\n",
      "3years               6.0959      0.175     34.807      0.000       5.753       6.439\n",
      "4years               6.3113      0.197     32.064      0.000       5.926       6.697\n",
      "5years               5.8066      0.189     30.642      0.000       5.435       6.178\n",
      "6years               5.7894      0.212     27.259      0.000       5.373       6.206\n",
      "7years               6.1406      0.219     27.985      0.000       5.711       6.571\n",
      "8years               6.1811      0.228     27.145      0.000       5.735       6.627\n",
      "9years               5.8413      0.236     24.762      0.000       5.379       6.304\n",
      "+10years             6.3204      0.127     49.891      0.000       6.072       6.569\n",
      "Rent                 1.9449      0.093     20.883      0.000       1.762       2.127\n",
      "Own                  1.5311      0.140     10.946      0.000       1.257       1.805\n",
      "NotVerified          0.8489      0.095      8.923      0.000       0.662       1.035\n",
      "Verified             1.0501      0.111      9.465      0.000       0.833       1.268\n",
      "credit_card          0.7181      0.100      7.191      0.000       0.522       0.914\n",
      "home_improvement     1.3257      0.175      7.573      0.000       0.983       1.669\n",
      "major_purchase       0.7749      0.273      2.842      0.004       0.240       1.309\n",
      "small_business       1.8262      0.483      3.779      0.000       0.879       2.774\n",
      "car                  0.5875      0.392      1.497      0.134      -0.182       1.357\n",
      "medical              1.6048      0.436      3.684      0.000       0.751       2.459\n",
      "moving               1.4575      0.576      2.531      0.011       0.329       2.586\n",
      "vacation             1.5548      0.516      3.014      0.003       0.544       2.566\n",
      "house                1.5299      0.593      2.579      0.010       0.367       2.693\n",
      "wedding             -1.0536      1.236     -0.852      0.394      -3.477       1.370\n",
      "renewable_energy    -0.1394      2.102     -0.066      0.947      -4.259       3.980\n",
      "educational         -0.4353      2.755     -0.158      0.874      -5.836       4.965\n",
      "other                1.7400      0.193      9.024      0.000       1.362       2.118\n",
      "------------------------------------------------------------------------------------\n",
      "         grade=D       coef    std err          z      P>|z|      [0.025      0.975]\n",
      "------------------------------------------------------------------------------------\n",
      "int_rate            26.2242      0.289     90.881      0.000      25.659      26.790\n",
      "installment         -1.0375      0.112     -9.294      0.000      -1.256      -0.819\n",
      "annual_inc          -0.0342      0.068     -0.505      0.613      -0.167       0.098\n",
      "dti                  0.2572      0.036      7.152      0.000       0.187       0.328\n",
      "delinq_2yrs          0.2393      0.054      4.418      0.000       0.133       0.345\n",
      "inq_last_6mths       0.0294      0.055      0.532      0.595      -0.079       0.137\n",
      "open_acc             0.1019      0.077      1.320      0.187      -0.049       0.253\n",
      "pub_rec              0.3801      0.052      7.324      0.000       0.278       0.482\n",
      "revol_util           0.3598      0.058      6.173      0.000       0.246       0.474\n",
      "total_acc           -0.0113      0.079     -0.144      0.885      -0.165       0.143\n",
      "out_prncp            0.0326      0.086      0.378      0.706      -0.136       0.202\n",
      "total_pymnt          1.4239      0.110     12.890      0.000       1.207       1.640\n",
      "1year                2.0864      0.238      8.782      0.000       1.621       2.552\n",
      "2years               2.1225      0.211     10.072      0.000       1.709       2.535\n",
      "3years               2.5249      0.219     11.544      0.000       2.096       2.954\n",
      "4years               2.5403      0.245     10.356      0.000       2.059       3.021\n",
      "5years               2.1552      0.237      9.104      0.000       1.691       2.619\n",
      "6years               1.9400      0.270      7.177      0.000       1.410       2.470\n",
      "7years               2.1808      0.280      7.787      0.000       1.632       2.730\n",
      "8years               2.4181      0.283      8.536      0.000       1.863       2.973\n",
      "9years               1.8481      0.298      6.199      0.000       1.264       2.432\n",
      "+10years             2.4468      0.158     15.444      0.000       2.136       2.757\n",
      "Rent                 0.9964      0.115      8.692      0.000       0.772       1.221\n",
      "Own                  0.6793      0.176      3.853      0.000       0.334       1.025\n",
      "NotVerified         -0.1339      0.123     -1.084      0.278      -0.376       0.108\n",
      "Verified             0.0371      0.134      0.277      0.781      -0.225       0.299\n",
      "credit_card         -0.3064      0.132     -2.322      0.020      -0.565      -0.048\n",
      "home_improvement     0.3686      0.224      1.644      0.100      -0.071       0.808\n",
      "major_purchase       0.2932      0.344      0.853      0.394      -0.381       0.967\n",
      "small_business       1.6016      0.547      2.926      0.003       0.529       2.675\n",
      "car                  0.6493      0.509      1.277      0.202      -0.348       1.646\n",
      "medical              1.2519      0.526      2.381      0.017       0.221       2.283\n",
      "moving               1.6098      0.674      2.387      0.017       0.288       2.932\n",
      "vacation             1.1413      0.642      1.777      0.076      -0.118       2.400\n",
      "house                1.2344      0.706      1.748      0.081      -0.150       2.619\n",
      "wedding             -0.8670      1.466     -0.591      0.554      -3.741       2.007\n",
      "renewable_energy    -1.6241      2.675     -0.607      0.544      -6.867       3.619\n",
      "educational         -2.0810      7.575     -0.275      0.784     -16.928      12.766\n",
      "other                1.2356      0.231      5.340      0.000       0.782       1.689\n",
      "------------------------------------------------------------------------------------\n",
      "         grade=E       coef    std err          z      P>|z|      [0.025      0.975]\n",
      "------------------------------------------------------------------------------------\n",
      "int_rate            28.6632      0.297     96.575      0.000      28.081      29.245\n",
      "installment         -1.1532      0.121     -9.560      0.000      -1.390      -0.917\n",
      "annual_inc          -0.1792      0.094     -1.914      0.056      -0.363       0.004\n",
      "dti                  0.1188      0.060      1.993      0.046       0.002       0.236\n",
      "delinq_2yrs          0.1581      0.061      2.589      0.010       0.038       0.278\n",
      "inq_last_6mths       0.0410      0.061      0.670      0.503      -0.079       0.161\n",
      "open_acc             0.0044      0.088      0.050      0.960      -0.169       0.177\n",
      "pub_rec              0.3591      0.059      6.049      0.000       0.243       0.475\n",
      "revol_util           0.4007      0.067      6.000      0.000       0.270       0.532\n",
      "total_acc            0.1285      0.089      1.448      0.148      -0.045       0.303\n",
      "out_prncp           -0.4215      0.096     -4.387      0.000      -0.610      -0.233\n",
      "total_pymnt          1.6928      0.117     14.493      0.000       1.464       1.922\n",
      "1year               -0.7687      0.274     -2.806      0.005      -1.306      -0.232\n",
      "2years              -0.8424      0.245     -3.434      0.001      -1.323      -0.362\n",
      "3years              -0.4258      0.254     -1.680      0.093      -0.923       0.071\n",
      "4years              -0.5230      0.286     -1.826      0.068      -1.085       0.038\n",
      "5years              -1.0463      0.278     -3.757      0.000      -1.592      -0.500\n",
      "6years              -1.2126      0.317     -3.831      0.000      -1.833      -0.592\n",
      "7years              -0.7664      0.321     -2.386      0.017      -1.396      -0.137\n",
      "8years              -0.4898      0.325     -1.508      0.132      -1.126       0.147\n",
      "9years              -1.3002      0.346     -3.757      0.000      -1.978      -0.622\n",
      "+10years            -0.7323      0.185     -3.959      0.000      -1.095      -0.370\n",
      "Rent                -0.1660      0.132     -1.255      0.209      -0.425       0.093\n",
      "Own                 -0.2349      0.205     -1.148      0.251      -0.636       0.166\n",
      "NotVerified         -1.3341      0.150     -8.873      0.000      -1.629      -1.039\n",
      "Verified            -0.7736      0.149     -5.191      0.000      -1.066      -0.482\n",
      "credit_card         -1.1173      0.161     -6.935      0.000      -1.433      -0.802\n",
      "home_improvement    -0.6221      0.262     -2.372      0.018      -1.136      -0.108\n",
      "major_purchase      -0.6027      0.415     -1.452      0.146      -1.416       0.211\n",
      "small_business       1.2407      0.588      2.109      0.035       0.088       2.394\n",
      "car                 -1.0395      0.687     -1.514      0.130      -2.385       0.306\n",
      "medical              0.9653      0.588      1.641      0.101      -0.188       2.118\n",
      "moving               0.8564      0.749      1.144      0.253      -0.611       2.324\n",
      "vacation             0.0081      0.737      0.011      0.991      -1.437       1.453\n",
      "house                0.6307      0.809      0.779      0.436      -0.955       2.217\n",
      "wedding             -0.7746      1.660     -0.467      0.641      -4.028       2.478\n",
      "renewable_energy    -0.0770      2.789     -0.028      0.978      -5.544       5.390\n",
      "educational          3.3988      4.062      0.837      0.403      -4.562      11.360\n",
      "other                0.7122      0.258      2.757      0.006       0.206       1.219\n",
      "------------------------------------------------------------------------------------\n",
      "         grade=F       coef    std err          z      P>|z|      [0.025      0.975]\n",
      "------------------------------------------------------------------------------------\n",
      "int_rate            29.5051      0.302     97.716      0.000      28.913      30.097\n",
      "installment         -1.1096      0.131     -8.450      0.000      -1.367      -0.852\n",
      "annual_inc          -0.2465      0.117     -2.114      0.034      -0.475      -0.018\n",
      "dti                  0.1260      0.077      1.639      0.101      -0.025       0.277\n",
      "delinq_2yrs          0.1649      0.069      2.383      0.017       0.029       0.301\n",
      "inq_last_6mths       0.1270      0.068      1.861      0.063      -0.007       0.261\n",
      "open_acc            -0.0261      0.103     -0.253      0.800      -0.228       0.176\n",
      "pub_rec              0.3510      0.070      5.035      0.000       0.214       0.488\n",
      "revol_util           0.2350      0.078      3.024      0.002       0.083       0.387\n",
      "total_acc            0.1108      0.103      1.072      0.284      -0.092       0.313\n",
      "out_prncp           -0.5617      0.107     -5.246      0.000      -0.772      -0.352\n",
      "total_pymnt          1.7637      0.124     14.167      0.000       1.520       2.008\n",
      "1year               -2.8292      0.332     -8.519      0.000      -3.480      -2.178\n",
      "2years              -2.5283      0.287     -8.819      0.000      -3.090      -1.966\n",
      "3years              -2.4233      0.304     -7.961      0.000      -3.020      -1.827\n",
      "4years              -2.4732      0.343     -7.216      0.000      -3.145      -1.801\n",
      "5years              -3.1003      0.336     -9.217      0.000      -3.760      -2.441\n",
      "6years              -3.2891      0.384     -8.556      0.000      -4.043      -2.536\n",
      "7years              -2.8693      0.392     -7.327      0.000      -3.637      -2.102\n",
      "8years              -2.3458      0.382     -6.134      0.000      -3.095      -1.596\n",
      "9years              -3.3548      0.425     -7.889      0.000      -4.188      -2.521\n",
      "+10years            -2.9422      0.221    -13.329      0.000      -3.375      -2.510\n",
      "Rent                -1.2046      0.158     -7.605      0.000      -1.515      -0.894\n",
      "Own                 -0.9401      0.247     -3.800      0.000      -1.425      -0.455\n",
      "NotVerified         -3.1099      0.228    -13.653      0.000      -3.556      -2.663\n",
      "Verified            -1.1819      0.168     -7.048      0.000      -1.511      -0.853\n",
      "credit_card         -2.0184      0.221     -9.134      0.000      -2.452      -1.585\n",
      "home_improvement    -1.4872      0.324     -4.588      0.000      -2.123      -0.852\n",
      "major_purchase      -0.6694      0.479     -1.398      0.162      -1.608       0.269\n",
      "small_business       1.0892      0.631      1.726      0.084      -0.148       2.326\n",
      "car                 -0.5635      0.759     -0.742      0.458      -2.052       0.925\n",
      "medical              0.3348      0.728      0.460      0.646      -1.092       1.761\n",
      "moving               0.6949      0.830      0.838      0.402      -0.931       2.321\n",
      "vacation            -0.7333      0.929     -0.789      0.430      -2.554       1.088\n",
      "house                0.6379      0.886      0.720      0.472      -1.099       2.375\n",
      "wedding             -3.9840      5.191     -0.768      0.443     -14.158       6.190\n",
      "renewable_energy    -0.8237      2.997     -0.275      0.783      -6.698       5.051\n",
      "educational         -1.0799     11.830     -0.091      0.927     -24.266      22.106\n",
      "other                0.2879      0.299      0.964      0.335      -0.297       0.873\n",
      "------------------------------------------------------------------------------------\n",
      "         grade=G       coef    std err          z      P>|z|      [0.025      0.975]\n",
      "------------------------------------------------------------------------------------\n",
      "int_rate            29.6027      0.308     95.966      0.000      28.998      30.207\n",
      "installment         -0.9430      0.147     -6.399      0.000      -1.232      -0.654\n",
      "annual_inc          -0.1340      0.131     -1.024      0.306      -0.391       0.123\n",
      "dti                  0.0438      0.099      0.444      0.657      -0.150       0.237\n",
      "delinq_2yrs          0.1410      0.087      1.627      0.104      -0.029       0.311\n",
      "inq_last_6mths       0.1318      0.081      1.624      0.104      -0.027       0.291\n",
      "open_acc             0.0758      0.125      0.604      0.546      -0.170       0.322\n",
      "pub_rec              0.2639      0.092      2.882      0.004       0.084       0.443\n",
      "revol_util           0.2681      0.096      2.805      0.005       0.081       0.455\n",
      "total_acc            0.0744      0.129      0.578      0.564      -0.178       0.327\n",
      "out_prncp           -0.5817      0.122     -4.765      0.000      -0.821      -0.342\n",
      "total_pymnt          1.5984      0.139     11.476      0.000       1.325       1.871\n",
      "1year               -3.3609      0.395     -8.499      0.000      -4.136      -2.586\n",
      "2years              -3.8420      0.393     -9.768      0.000      -4.613      -3.071\n",
      "3years              -3.4151      0.396     -8.626      0.000      -4.191      -2.639\n",
      "4years              -4.1623      0.554     -7.517      0.000      -5.248      -3.077\n",
      "5years              -3.6428      0.404     -9.018      0.000      -4.434      -2.851\n",
      "6years              -3.6214      0.445     -8.131      0.000      -4.494      -2.748\n",
      "7years              -3.9140      0.543     -7.206      0.000      -4.979      -2.850\n",
      "8years              -3.6394      0.544     -6.688      0.000      -4.706      -2.573\n",
      "9years              -5.9436      1.040     -5.716      0.000      -7.982      -3.906\n",
      "+10years            -4.0410      0.274    -14.741      0.000      -4.578      -3.504\n",
      "Rent                -2.0330      0.206     -9.866      0.000      -2.437      -1.629\n",
      "Own                 -2.2730      0.408     -5.567      0.000      -3.073      -1.473\n",
      "NotVerified         -3.6710      0.321    -11.442      0.000      -4.300      -3.042\n",
      "Verified            -1.6087      0.204     -7.889      0.000      -2.008      -1.209\n",
      "credit_card         -2.8606      0.368     -7.778      0.000      -3.581      -2.140\n",
      "home_improvement    -1.9807      0.439     -4.515      0.000      -2.841      -1.121\n",
      "major_purchase      -1.3972      0.723     -1.933      0.053      -2.814       0.019\n",
      "small_business       1.5721      0.672      2.340      0.019       0.255       2.889\n",
      "car                 -1.4111      1.218     -1.158      0.247      -3.799       0.977\n",
      "medical             -0.5958      1.205     -0.494      0.621      -2.958       1.766\n",
      "moving               1.0826      0.928      1.167      0.243      -0.736       2.901\n",
      "vacation            -4.6840      6.964     -0.673      0.501     -18.333       8.965\n",
      "house                0.2882      1.105      0.261      0.794      -1.877       2.454\n",
      "wedding             -2.5830      4.776     -0.541      0.589     -11.943       6.777\n",
      "renewable_energy    -3.1218      5.773     -0.541      0.589     -14.436       8.193\n",
      "educational         -0.8333     12.489     -0.067      0.947     -25.311      23.644\n",
      "other                0.7768      0.335      2.315      0.021       0.119       1.434\n",
      "====================================================================================\n"
     ]
    }
   ],
   "source": [
    "# nicht anders als sequenzeille Logit Modell\n",
    "# Problem weil ich 40 Variable und 7 Ratingstufen(= 6 Kategorien, die ich schätzen muss!) haben -> das bedeutet ich muss 6*40 = 240 Parameter, die Multinomiale Logit schätzen sollte\n",
    "\n",
    "MultinomialLogit = sm.MNLogit(y_train, X_train).fit(method='lbfgs',maxiter=1000)\n",
    "\n",
    "#In and out of sample prediction\n",
    "Prediction_MNLogit_InSample=MultinomialLogit.predict(X_train).idxmax(axis=1).map({0:\"A\",1:\"B\",2:\"C\",3:\"D\",4:\"E\",5:\"F\",6:\"G\"})\n",
    "Prediction_MNLogit_OutSample=MultinomialLogit.predict(X_test).idxmax(axis=1).map({0:\"A\",1:\"B\",2:\"C\",3:\"D\",4:\"E\",5:\"F\",6:\"G\"})\n",
    "\n",
    "print(MultinomialLogit.summary())\n",
    "\n",
    "# A ist die Referenz Kategorie\n",
    "# grade=B: man sieht hier die Koeffizienten die B Ratingklasse geschätzt haben\n",
    "# ich sehe für jede Kategorie die Schätzwerte von unseren Koeffizienten \n",
    "# Inerpetation ist einbisschen schwierig, weil ich 40 Variable interpretieren \n",
    "# p-Values sind vielen davon nahe 0 "
   ]
  },
  {
   "cell_type": "markdown",
   "metadata": {},
   "source": [
    "### Jetzt schauen wir den Fit an (wichtiger für uns)\n",
    "### In Sample Fit"
   ]
  },
  {
   "cell_type": "code",
   "execution_count": 29,
   "metadata": {},
   "outputs": [
    {
     "name": "stdout",
     "output_type": "stream",
     "text": [
      "Accuracy MNLogit In Sample: \n",
      " 0.7909237715453317 \n",
      "\n",
      "\n",
      "Classification Report MNLogit In Sample: \n",
      "\n",
      "               precision    recall  f1-score   support\n",
      "\n",
      "           A       0.82      0.90      0.86      5855\n",
      "           B       0.85      0.80      0.83      8827\n",
      "           C       0.86      0.84      0.85      8778\n",
      "           D       0.70      0.76      0.73      4384\n",
      "           E       0.49      0.49      0.49      1796\n",
      "           F       0.25      0.17      0.20       541\n",
      "           G       0.05      0.02      0.03       162\n",
      "\n",
      "    accuracy                           0.79     30343\n",
      "   macro avg       0.57      0.57      0.57     30343\n",
      "weighted avg       0.79      0.79      0.79     30343\n",
      " \n",
      "\n",
      "\n",
      "Confusion Matrix MNLogit In Sample: \n",
      "\n",
      " [[5298  557    0    0    0    0    0]\n",
      " [1133 7067  620    6    0    1    0]\n",
      " [  30  669 7335  616   55   46   27]\n",
      " [   1    1  599 3318  366   67   32]\n",
      " [   0    0    8  764  884  125   15]\n",
      " [   1    0    0   35  405   93    7]\n",
      " [   1    0    0    2  110   45    4]]\n"
     ]
    }
   ],
   "source": [
    "print('Accuracy MNLogit In Sample: \\n', accuracy_score(y_train,Prediction_MNLogit_InSample),'\\n\\n')\n",
    "print('Classification Report MNLogit In Sample: \\n\\n',classification_report(y_train ,Prediction_MNLogit_InSample),'\\n\\n')\n",
    "print('Confusion Matrix MNLogit In Sample: \\n\\n',confusion_matrix(y_train, Prediction_MNLogit_InSample))\n",
    "\n",
    "# Accuracy ist die Anzahl richtig vorhergesagten Ratingrate -> unsere Modell ist relativ gut\n",
    "# f1-score: A-Rating kann ich gut vorhersagen\n",
    "# f1-score: G-Rating kann ich leider schlecht vorhersagen (wegen kleiner Support)\n",
    "\n",
    "# Confusion Matrix: wenn alle Werte nur auf Hauptdiagonale sind (von links-oben nach recht-unten) habe ich die Perfekte Zuordnung\n",
    "# Es sieht schon einigermaßen gutes Modell -> erkennt die Ratingsklasse relativ gut "
   ]
  },
  {
   "cell_type": "markdown",
   "metadata": {},
   "source": [
    "### Out of Sample Fit\n",
    "#### sieht relativ gleich-> ich habe gleiche Problem bei der schlechten Ratingklasse \"G\""
   ]
  },
  {
   "cell_type": "code",
   "execution_count": 30,
   "metadata": {},
   "outputs": [
    {
     "name": "stdout",
     "output_type": "stream",
     "text": [
      "Accuracy MNLogit Out of Sample: \n",
      " 0.788481547218312 \n",
      "\n",
      "\n",
      "Classification Report MNLogit Out of Sample: \n",
      "\n",
      "               precision    recall  f1-score   support\n",
      "\n",
      "           A       0.82      0.91      0.87      3231\n",
      "           B       0.85      0.79      0.82      4723\n",
      "           C       0.85      0.84      0.85      4750\n",
      "           D       0.69      0.74      0.71      2297\n",
      "           E       0.46      0.47      0.46       950\n",
      "           F       0.24      0.18      0.21       297\n",
      "           G       0.11      0.07      0.08        91\n",
      "\n",
      "    accuracy                           0.79     16339\n",
      "   macro avg       0.58      0.57      0.57     16339\n",
      "weighted avg       0.79      0.79      0.79     16339\n",
      " \n",
      "\n",
      "\n",
      "Confusion Matrix MNLogit Out of Sample: \n",
      "\n",
      " [[2945  286    0    0    0    0    0]\n",
      " [ 613 3750  358    0    0    2    0]\n",
      " [  13  355 3988  325   33   22   14]\n",
      " [   1    1  318 1698  213   47   19]\n",
      " [   1    0    4  421  443   69   12]\n",
      " [   0    0    1   18  219   53    6]\n",
      " [   0    0    0    4   54   27    6]]\n"
     ]
    }
   ],
   "source": [
    "print('Accuracy MNLogit Out of Sample: \\n', accuracy_score(y_test,Prediction_MNLogit_OutSample),'\\n\\n') \n",
    "print('Classification Report MNLogit Out of Sample: \\n\\n',classification_report(y_test ,Prediction_MNLogit_OutSample),'\\n\\n') \n",
    "print('Confusion Matrix MNLogit Out of Sample: \\n\\n',confusion_matrix(y_test, Prediction_MNLogit_OutSample))  "
   ]
  },
  {
   "cell_type": "markdown",
   "metadata": {},
   "source": [
    "## Estimate the Ordered Logit Model"
   ]
  },
  {
   "cell_type": "code",
   "execution_count": 31,
   "metadata": {},
   "outputs": [
    {
     "name": "stdout",
     "output_type": "stream",
     "text": [
      "                   0         0\n",
      "0           int_rate  8.751106\n",
      "1        installment -0.364282\n",
      "2         annual_inc -0.050906\n",
      "3                dti  0.066931\n",
      "4        delinq_2yrs  0.056775\n",
      "5     inq_last_6mths  0.136507\n",
      "6           open_acc  0.019249\n",
      "7            pub_rec  0.100716\n",
      "8         revol_util  0.193477\n",
      "9          total_acc -0.004336\n",
      "10         out_prncp -0.209528\n",
      "11       total_pymnt  0.626063\n",
      "12             1year -0.009551\n",
      "13            2years -0.027145\n",
      "14            3years  0.091261\n",
      "15            4years -0.057923\n",
      "16            5years -0.170751\n",
      "17            6years -0.148909\n",
      "18            7years -0.076058\n",
      "19            8years  0.111407\n",
      "20            9years -0.224140\n",
      "21          +10years -0.062204\n",
      "22              Rent  0.097901\n",
      "23               Own  0.115060\n",
      "24       NotVerified -0.185166\n",
      "25          Verified -0.140589\n",
      "26       credit_card -0.179775\n",
      "27  home_improvement  0.009970\n",
      "28    major_purchase  0.066285\n",
      "29    small_business  0.904500\n",
      "30               car -0.004803\n",
      "31           medical  0.345900\n",
      "32            moving  0.314791\n",
      "33          vacation  0.104243\n",
      "34             house  0.435800\n",
      "35           wedding -0.345044\n",
      "36  renewable_energy -0.703840\n",
      "37       educational  1.735686\n",
      "38             other  0.227154\n"
     ]
    }
   ],
   "source": [
    "# Rating ist klassische Besipiel, wo ich Ordinales Model hernehmen kann\n",
    "# wir schätzen Orderd Logit Model\n",
    "# als Referenz Kategorie ist A und schlechteste G -> \n",
    "# d.h y* ist nicht die Bonität sondern das Risiko vom Schuld/ umgekehrte Bonität\n",
    "# je höher y* ist ,desto schlechter ist mein Kreditnehmer\n",
    "\n",
    "y_train_OL=pd.DataFrame(y_train['grade'].map({\"A\":0,\"B\":1,\"C\":2,\"D\":3,\"E\":4,\"F\":5,\"G\":6}))\n",
    "y_test_OL=pd.DataFrame(y_test['grade'].map({\"A\":0,\"B\":1,\"C\":2,\"D\":3,\"E\":4,\"F\":5,\"G\":6}))\n",
    "\n",
    "ord_Logit = mord.LogisticAT(alpha =0,verbose=1)\n",
    "ord_Logit.fit(np.asarray(X_train), np.asarray(y_train_OL).reshape(len(y_train_OL),))\n",
    "\n",
    "\n",
    "Prediction_ORLogit_InSample=pd.Series(ord_Logit.predict(np.asarray(X_train))).map({0:\"A\",1:\"B\",2:\"C\",3:\"D\",4:\"E\",5:\"F\",6:\"G\"})\n",
    "Prediction_ORLogit_OutSample=pd.Series(ord_Logit.predict(np.asarray(X_test))).map({0:\"A\",1:\"B\",2:\"C\",3:\"D\",4:\"E\",5:\"F\",6:\"G\"})\n",
    "\n",
    "print(pd.concat([pd.DataFrame(X_train.columns),\n",
    "pd.DataFrame(ord_Logit.coef_) ], axis=1))\n",
    "\n",
    "# je höher int_rate ist, desto höhe die Wahrscheinlichkeit dass schlechteste Rating Klasse einkommt \n",
    "# A und B können Wir interpretieren aber was kommt dazwischen nicht klar \n",
    "# dti je höher ist, desto höher die Wahrscheinlichkeit dass schlechteste Rating Klasse einkommt\n"
   ]
  },
  {
   "cell_type": "markdown",
   "metadata": {},
   "source": [
    "### Plot the Distribution of the latent Variable"
   ]
  },
  {
   "cell_type": "code",
   "execution_count": 30,
   "metadata": {},
   "outputs": [
    {
     "data": {
      "text/plain": [
       "<matplotlib.lines.Line2D at 0x1c26408748>"
      ]
     },
     "execution_count": 30,
     "metadata": {},
     "output_type": "execute_result"
    },
    {
     "data": {
      "image/png": "[encoded data removed]",
      "text/plain": [
       "<Figure size 432x288 with 1 Axes>"
      ]
     },
     "metadata": {
      "needs_background": "light"
     },
     "output_type": "display_data"
    }
   ],
   "source": [
    "# Verteilung von latente Variable -> Verteilung von y*\n",
    "y_star= X_train@ord_Logit.coef_\n",
    "\n",
    "\n",
    "\n",
    "figure = sns.distplot(y_star , hist=False ,color='black')\n",
    "figure.set_xticks((ord_Logit.theta_))\n",
    "figure.set_xticklabels((r'$\\theta_ {1}$', r'$\\theta_2$', r'$\\theta_3$', r'$\\theta_4$'\n",
    "                        , r'$\\theta_5$', r'$\\theta_6$'))\n",
    "figure.set_yticks ([])\n",
    "figure.axvline(ord_Logit.theta_[0], 0, 1, linestyle=\"dotted\",color='grey')\n",
    "figure.axvline(ord_Logit.theta_[1], 0, 1, linestyle=\"dotted\",color='grey')\n",
    "figure.axvline(ord_Logit.theta_[2], 0, 1, linestyle=\"dotted\",color='grey')\n",
    "figure.axvline(ord_Logit.theta_[3], 0, 1, linestyle=\"dotted\",color='grey')\n",
    "figure.axvline(ord_Logit.theta_[4], 0, 1, linestyle=\"dotted\",color='grey')\n",
    "figure.axvline(ord_Logit.theta_[5], 0, 1, linestyle=\"dotted\",color='grey')"
   ]
  },
  {
   "cell_type": "markdown",
   "metadata": {},
   "source": [
    "### In Sample Fit"
   ]
  },
  {
   "cell_type": "code",
   "execution_count": 32,
   "metadata": {},
   "outputs": [
    {
     "name": "stdout",
     "output_type": "stream",
     "text": [
      "Accuracy ORLogit In Sample: \n",
      " 0.8469498731173583 \n",
      "\n",
      "\n",
      "Classification Report ORLogit In Sample: \n",
      "\n",
      "               precision    recall  f1-score   support\n",
      "\n",
      "           A       0.92      0.95      0.93      5855\n",
      "           B       0.89      0.87      0.88      8827\n",
      "           C       0.87      0.89      0.88      8778\n",
      "           D       0.79      0.79      0.79      4384\n",
      "           E       0.58      0.53      0.55      1796\n",
      "           F       0.33      0.32      0.32       541\n",
      "           G       0.43      0.44      0.44       162\n",
      "\n",
      "    accuracy                           0.85     30343\n",
      "   macro avg       0.69      0.68      0.69     30343\n",
      "weighted avg       0.85      0.85      0.85     30343\n",
      " \n",
      "\n",
      "\n",
      "Confusion Matrix ORLogit In Sample: \n",
      "\n",
      " [[5545  310    0    0    0    0    0]\n",
      " [ 487 7697  643    0    0    0    0]\n",
      " [   1  640 7803  334    0    0    0]\n",
      " [   1    0  501 3460  422    0    0]\n",
      " [   0    0    7  560  949  280    0]\n",
      " [   1    0    0    5  268  174   93]\n",
      " [   1    0    0    2    7   81   71]]\n"
     ]
    }
   ],
   "source": [
    "print('Accuracy ORLogit In Sample: \\n', accuracy_score(y_train,Prediction_ORLogit_InSample),'\\n\\n')\n",
    "print('Classification Report ORLogit In Sample: \\n\\n',classification_report(y_train ,Prediction_ORLogit_InSample),'\\n\\n')\n",
    "print('Confusion Matrix ORLogit In Sample: \\n\\n',confusion_matrix(y_train, Prediction_ORLogit_InSample))\n",
    "\n",
    "# Man sieht hier im Vergleich zu Multinomial Logit Model, dass ich 0.846 Accuracy\n",
    "# d.h ordinale Prozss, die ich in meinem Modell unterstellt, triff anscheined die RatingPhilosophie(=wie die Rating zustande kommt) relativ gut/besser als Multinomial Logit!\n",
    "# Die Unterschied kann man sehen durch f1-socre! -> ist höher als Multinomial Logit -> Ordered Logit teifft auch diese schlechten Ratingklasse \"G\" einbisschen besser!\n",
    "# das liegt daran, dass Ordered Logit weniger Parameter schätzen muss \n",
    "\n",
    "# ordinales Przess trifft empirschen Daten besser\n",
    "# bei Confusion Matrix  man kann gut diskriminieren -> also gut unterscheiden zwischen gut und schlecht"
   ]
  },
  {
   "cell_type": "markdown",
   "metadata": {},
   "source": [
    "### Out of Sample Fit"
   ]
  },
  {
   "cell_type": "code",
   "execution_count": 33,
   "metadata": {},
   "outputs": [
    {
     "name": "stdout",
     "output_type": "stream",
     "text": [
      "Accuracy ORLogit Out of Sample: \n",
      " 0.8456453883346594 \n",
      "\n",
      "\n",
      "Classification Report ORLogit Out of Sample: \n",
      "\n",
      "               precision    recall  f1-score   support\n",
      "\n",
      "           A       0.92      0.95      0.93      3231\n",
      "           B       0.89      0.87      0.88      4723\n",
      "           C       0.87      0.89      0.88      4750\n",
      "           D       0.79      0.79      0.79      2297\n",
      "           E       0.56      0.52      0.54       950\n",
      "           F       0.31      0.30      0.30       297\n",
      "           G       0.40      0.34      0.37        91\n",
      "\n",
      "    accuracy                           0.85     16339\n",
      "   macro avg       0.68      0.66      0.67     16339\n",
      "weighted avg       0.84      0.85      0.84     16339\n",
      " \n",
      "\n",
      "\n",
      "Confusion Matrix ORLogit Out of Sample: \n",
      "\n",
      " [[3054  177    0    0    0    0    0]\n",
      " [ 267 4098  358    0    0    0    0]\n",
      " [   1  337 4236  176    0    0    0]\n",
      " [   1    0  255 1817  224    0    0]\n",
      " [   1    0    2  308  492  147    0]\n",
      " [   0    0    1    5  156   89   46]\n",
      " [   0    0    0    1    4   55   31]]\n"
     ]
    }
   ],
   "source": [
    "print('Accuracy ORLogit Out of Sample: \\n', accuracy_score(y_test,Prediction_ORLogit_OutSample),'\\n\\n')\n",
    "print('Classification Report ORLogit Out of Sample: \\n\\n',classification_report(y_test ,Prediction_ORLogit_OutSample),'\\n\\n')\n",
    "print('Confusion Matrix ORLogit Out of Sample: \\n\\n',confusion_matrix(y_test, Prediction_ORLogit_OutSample))"
   ]
  },
  {
   "cell_type": "markdown",
   "metadata": {},
   "source": [
    "## Optimize the ordered Logit with L2 Regularization"
   ]
  },
  {
   "cell_type": "code",
   "execution_count": 43,
   "metadata": {},
   "outputs": [
    {
     "data": {
      "text/plain": [
       "array([0, 1, 2, 3, 4, 5])"
      ]
     },
     "execution_count": 43,
     "metadata": {},
     "output_type": "execute_result"
    }
   ],
   "source": [
    "np.arange(0,6,1)"
   ]
  },
  {
   "cell_type": "code",
   "execution_count": 36,
   "metadata": {},
   "outputs": [
    {
     "name": "stdout",
     "output_type": "stream",
     "text": [
      "Fitting 5 folds for each of 6 candidates, totalling 30 fits\n",
      "[CV] alpha=0 .........................................................\n"
     ]
    },
    {
     "name": "stderr",
     "output_type": "stream",
     "text": [
      "[Parallel(n_jobs=1)]: Using backend SequentialBackend with 1 concurrent workers.\n"
     ]
    },
    {
     "name": "stdout",
     "output_type": "stream",
     "text": [
      "[CV] .......................................... alpha=0, total=   5.5s\n",
      "[CV] alpha=0 .........................................................\n"
     ]
    },
    {
     "name": "stderr",
     "output_type": "stream",
     "text": [
      "[Parallel(n_jobs=1)]: Done   1 out of   1 | elapsed:    5.5s remaining:    0.0s\n"
     ]
    },
    {
     "name": "stdout",
     "output_type": "stream",
     "text": [
      "[CV] .......................................... alpha=0, total=   6.7s\n",
      "[CV] alpha=0 .........................................................\n",
      "[CV] .......................................... alpha=0, total=   5.4s\n",
      "[CV] alpha=0 .........................................................\n",
      "[CV] .......................................... alpha=0, total=   5.1s\n",
      "[CV] alpha=0 .........................................................\n",
      "[CV] .......................................... alpha=0, total=   7.8s\n",
      "[CV] alpha=1 .........................................................\n",
      "[CV] .......................................... alpha=1, total=   3.5s\n",
      "[CV] alpha=1 .........................................................\n",
      "[CV] .......................................... alpha=1, total=   4.5s\n",
      "[CV] alpha=1 .........................................................\n",
      "[CV] .......................................... alpha=1, total=   5.2s\n",
      "[CV] alpha=1 .........................................................\n",
      "[CV] .......................................... alpha=1, total=   4.5s\n",
      "[CV] alpha=1 .........................................................\n",
      "[CV] .......................................... alpha=1, total=   3.8s\n",
      "[CV] alpha=2 .........................................................\n",
      "[CV] .......................................... alpha=2, total=   3.6s\n",
      "[CV] alpha=2 .........................................................\n",
      "[CV] .......................................... alpha=2, total=   3.6s\n",
      "[CV] alpha=2 .........................................................\n",
      "[CV] .......................................... alpha=2, total=   3.9s\n",
      "[CV] alpha=2 .........................................................\n",
      "[CV] .......................................... alpha=2, total=   3.6s\n",
      "[CV] alpha=2 .........................................................\n",
      "[CV] .......................................... alpha=2, total=   4.0s\n",
      "[CV] alpha=3 .........................................................\n",
      "[CV] .......................................... alpha=3, total=   3.1s\n",
      "[CV] alpha=3 .........................................................\n",
      "[CV] .......................................... alpha=3, total=   3.2s\n",
      "[CV] alpha=3 .........................................................\n",
      "[CV] .......................................... alpha=3, total=   3.1s\n",
      "[CV] alpha=3 .........................................................\n",
      "[CV] .......................................... alpha=3, total=   3.5s\n",
      "[CV] alpha=3 .........................................................\n",
      "[CV] .......................................... alpha=3, total=   3.3s\n",
      "[CV] alpha=4 .........................................................\n",
      "[CV] .......................................... alpha=4, total=   2.8s\n",
      "[CV] alpha=4 .........................................................\n",
      "[CV] .......................................... alpha=4, total=   3.0s\n",
      "[CV] alpha=4 .........................................................\n",
      "[CV] .......................................... alpha=4, total=   2.8s\n",
      "[CV] alpha=4 .........................................................\n",
      "[CV] .......................................... alpha=4, total=   3.1s\n",
      "[CV] alpha=4 .........................................................\n",
      "[CV] .......................................... alpha=4, total=   3.0s\n",
      "[CV] alpha=5 .........................................................\n",
      "[CV] .......................................... alpha=5, total=   2.8s\n",
      "[CV] alpha=5 .........................................................\n",
      "[CV] .......................................... alpha=5, total=   2.9s\n",
      "[CV] alpha=5 .........................................................\n",
      "[CV] .......................................... alpha=5, total=   2.9s\n",
      "[CV] alpha=5 .........................................................\n",
      "[CV] .......................................... alpha=5, total=   2.9s\n",
      "[CV] alpha=5 .........................................................\n",
      "[CV] .......................................... alpha=5, total=   2.8s\n"
     ]
    },
    {
     "name": "stderr",
     "output_type": "stream",
     "text": [
      "[Parallel(n_jobs=1)]: Done  30 out of  30 | elapsed:  1.9min finished\n"
     ]
    },
    {
     "name": "stdout",
     "output_type": "stream",
     "text": [
      "Best parameter: {'alpha': 4}\n",
      "Best score: 0.84613\n"
     ]
    },
    {
     "data": {
      "image/png": "[encoded data removed]",
      "text/plain": [
       "<Figure size 432x288 with 1 Axes>"
      ]
     },
     "metadata": {
      "needs_background": "light"
     },
     "output_type": "display_data"
    }
   ],
   "source": [
    "# Regulazierung , L2 mitschätzen kann -> L2 ist Bestrafungsterm in Abhängigkeit von unserem Lambda/alpha und nehme immer Beta^2\n",
    "\n",
    "params={'alpha': np.arange(0,6,1) } # versuchen wir 6 verschiedene Lambdas/Alpha\n",
    "\n",
    "ord_Logit_CV= mord.LogisticAT()\n",
    "\n",
    "gs_ord_Logit = GridSearchCV(ord_Logit_CV, params, verbose=2, n_jobs=1, cv=5, scoring='accuracy') \n",
    "gs_ord_Logit.fit(np.asarray(X_train), np.asarray(y_train_OL).reshape(len(y_train_OL),))\n",
    "\n",
    "\n",
    "\n",
    "plt.figure()\n",
    "plt.plot(list(params.values ())[0],( gs_ord_Logit.cv_results_['mean_test_score']))\n",
    "plt.xlabel('C Parameter')\n",
    "plt.ylabel('5-fold CV Recall')\n",
    "print('Best parameter: {}'.format((gs_ord_Logit.best_params_)))\n",
    "print('Best score: {:.5f}'.format((gs_ord_Logit.best_score_ )))\n",
    "\n",
    "# Klausur relevante Fragen:\n",
    "\n",
    "# Frage: wie vele verschiedene Modelle müssen wir schätzen? wie viele Fits machen wir insgesamt?\n",
    "# Antwort: Trainingsdaten sind in 5 Teile aufgesplittet * 6 Candidates für alpha/lambda = 30 -> ich würde 30 verschidene Modelle dann wähle ich ein Modell, dass höchste Accuracy hat\n",
    "\n",
    "# Frage: Bedeutung von Lambda/Alpha?\n",
    "# Antwort: je höhe dieses Alpha/Lambda ist, desto höhere ist die Regularizierung\n",
    "\n",
    "# Frage: wie viele Lambdas wird geschätzt?\n",
    "# Antwort: np.arange(0,6,1) return an array([0, 1, 2, 3, 4, 5]) of 6 elements -> 6 Lambdas!"
   ]
  },
  {
   "cell_type": "code",
   "execution_count": 34,
   "metadata": {},
   "outputs": [],
   "source": [
    "# Plott für jedes C Parameter ist unsere Lambda \n",
    "# Links ist mittlere Accuracy für Cross-Validierung\n",
    "# wenn der C/alpha/lambda=4 dann mittlere Accuracy(=5-fold-CV Recall) ist am besten\n",
    "\n",
    "# wenn C=Lambda=0 (keine Regularizierung) das ist normales Logit Modell \n",
    "# Die Unterschied zwischen niedrigst und beste mittlere Accuracy = 0.8461 - 0.84575 = 0.00035 -> Regularizierung hat nicht zu viel gebracht\n"
   ]
  },
  {
   "cell_type": "markdown",
   "metadata": {},
   "source": [
    "### Fit the optimized Model"
   ]
  },
  {
   "cell_type": "code",
   "execution_count": 37,
   "metadata": {},
   "outputs": [],
   "source": [
    "Ord_logit_regular=mord.LogisticAT(alpha =gs_ord_Logit.best_params_['alpha'],verbose=1)\n",
    "Ord_logit_regular.fit(np.asarray(X_train), np.asarray(y_train_OL).reshape(len(y_train_OL),))\n",
    "\n",
    "\n",
    "\n",
    "Prediction_ORLogit_Reg_InSample=pd.Series(Ord_logit_regular.predict(np.asarray(X_train))).map({0:\"A\",1:\"B\",2:\"C\",3:\"D\",4:\"E\",5:\"F\",6:\"G\"})\n",
    "Prediction_ORLogit_Reg_OutSample=pd.Series(Ord_logit_regular.predict(np.asarray(X_test))).map({0:\"A\",1:\"B\",2:\"C\",3:\"D\",4:\"E\",5:\"F\",6:\"G\"})"
   ]
  },
  {
   "cell_type": "markdown",
   "metadata": {},
   "source": [
    "### Compare the Fit"
   ]
  },
  {
   "cell_type": "code",
   "execution_count": 38,
   "metadata": {},
   "outputs": [
    {
     "name": "stdout",
     "output_type": "stream",
     "text": [
      "Accuracy ORLogit Out of Sample: \n",
      " 0.8456453883346594 \n",
      "\n",
      "\n",
      "Accuracy ORLogit with L2 Out of Sample: \n",
      " 0.8459514046147255 \n",
      "\n",
      "\n"
     ]
    }
   ],
   "source": [
    "print('Accuracy ORLogit Out of Sample: \\n', accuracy_score(y_test,Prediction_ORLogit_OutSample),'\\n\\n')\n",
    "print('Accuracy ORLogit with L2 Out of Sample: \\n', accuracy_score(y_test,Prediction_ORLogit_Reg_OutSample),'\\n\\n')\n",
    "\n",
    "# ich habe 0.0003 höhere Accuracy -> es lohnt sich nicht zu viel!"
   ]
  },
  {
   "cell_type": "markdown",
   "metadata": {},
   "source": [
    "### Compare the coefficients\n",
    "#### jetzt schauen wir die Veränderung von den Koeffizienten"
   ]
  },
  {
   "cell_type": "code",
   "execution_count": 39,
   "metadata": {},
   "outputs": [
    {
     "data": {
      "text/plain": [
       "<matplotlib.legend.Legend at 0x1c1f715160>"
      ]
     },
     "execution_count": 39,
     "metadata": {},
     "output_type": "execute_result"
    },
    {
     "data": {
      "image/png": "[encoded data removed]",
      "text/plain": [
       "<Figure size 432x288 with 1 Axes>"
      ]
     },
     "metadata": {
      "needs_background": "light"
     },
     "output_type": "display_data"
    }
   ],
   "source": [
    "coef_Regular = pd.DataFrame(ord_Logit.coef_)\n",
    "coef_Regular['CV']=Ord_logit_regular.coef_.reshape (39,1)\n",
    "x=np.arange(0,39)\n",
    "labels=X_train.columns.values\n",
    "plt.plot(x,coef_Regular.iloc[:,0], 'bo',color = 'black')\n",
    "plt.plot(x, coef_Regular.iloc[:,1], 'bo',color = 'dodgerblue')\n",
    "plt.plot([0,36],[0,0],color='gray')\n",
    "plt.xticks(x, labels , rotation='vertical')\n",
    "plt.xlabel('coefficient')\n",
    "plt.ylabel('estimates')\n",
    "plt.legend(('orderd Logit', 'ordered logit with L2'),loc='upper right')\n",
    "\n",
    "# man sieht, dass Schätzwerte der Koeffizienten nicht verändert worden sind -> Regularizierung muss nicht immer besser sein und muss nicht immer Einfluss haben! "
   ]
  },
  {
   "cell_type": "markdown",
   "metadata": {},
   "source": [
    "## Overall comparison"
   ]
  },
  {
   "cell_type": "markdown",
   "metadata": {},
   "source": [
    "### Accuracy"
   ]
  },
  {
   "cell_type": "code",
   "execution_count": 40,
   "metadata": {},
   "outputs": [
    {
     "name": "stdout",
     "output_type": "stream",
     "text": [
      "Accuracy MNLogit Out of Sample     :  0.788481547218312\n",
      "Accuracy ORLogit Out of Sample     :  0.8469498731173583\n",
      "Accuracy ORLogit Out of Sample (L2):  0.8459514046147255\n"
     ]
    }
   ],
   "source": [
    "print('Accuracy MNLogit Out of Sample     : ', accuracy_score(y_test,Prediction_MNLogit_OutSample))\n",
    "print('Accuracy ORLogit Out of Sample     : ', accuracy_score(y_train,Prediction_ORLogit_InSample))\n",
    "print('Accuracy ORLogit Out of Sample (L2): ', accuracy_score(y_test,Prediction_ORLogit_Reg_OutSample))\n",
    "\n"
   ]
  },
  {
   "cell_type": "markdown",
   "metadata": {},
   "source": [
    "### F1 score of lowest rating grade 'G'"
   ]
  },
  {
   "cell_type": "code",
   "execution_count": 41,
   "metadata": {},
   "outputs": [
    {
     "name": "stdout",
     "output_type": "stream",
     "text": [
      "Rating Grade G MNLogit Out of Sample     :  0.08108108108108109\n",
      "Rating Grade G ORLogit Out of Sample     :  0.36904761904761907\n",
      "Rating Grade G ORLogit Out of Sample (L2):  0.36904761904761907\n"
     ]
    }
   ],
   "source": [
    "Report_MNLogit=classification_report(y_test ,Prediction_MNLogit_OutSample,output_dict=True)\n",
    "Report_ORLogit=classification_report(y_test ,Prediction_ORLogit_OutSample,output_dict=True)\n",
    "Report_ORLogit_L2=classification_report(y_test ,Prediction_ORLogit_Reg_OutSample,output_dict=True)\n",
    "\n",
    "print('Rating Grade G MNLogit Out of Sample     : ', Report_MNLogit['G']['f1-score'])\n",
    "print('Rating Grade G ORLogit Out of Sample     : ', Report_ORLogit['G']['f1-score'])\n",
    "print('Rating Grade G ORLogit Out of Sample (L2): ', Report_ORLogit_L2['G']['f1-score'])"
   ]
  },
  {
   "cell_type": "markdown",
   "metadata": {},
   "source": [
    "### F1 score of second lowest rating grade 'F'"
   ]
  },
  {
   "cell_type": "code",
   "execution_count": 42,
   "metadata": {},
   "outputs": [
    {
     "name": "stdout",
     "output_type": "stream",
     "text": [
      "Rating Grade F MNLogit Out of Sample     :  0.20502901353965183\n",
      "Rating Grade F ORLogit Out of Sample     :  0.3027210884353741\n",
      "Rating Grade F ORLogit Out of Sample (L2):  0.29982964224872233\n"
     ]
    }
   ],
   "source": [
    "print('Rating Grade F MNLogit Out of Sample     : ', Report_MNLogit['F']['f1-score'])\n",
    "print('Rating Grade F ORLogit Out of Sample     : ', Report_ORLogit['F']['f1-score'])\n",
    "print('Rating Grade F ORLogit Out of Sample (L2): ', Report_ORLogit_L2['F']['f1-score'])"
   ]
  },
  {
   "cell_type": "code",
   "execution_count": null,
   "metadata": {},
   "outputs": [],
   "source": []
  }
 ],
 "metadata": {
  "kernelspec": {
   "display_name": "Python 3",
   "language": "python",
   "name": "python3"
  },
  "language_info": {
   "codemirror_mode": {
    "name": "ipython",
    "version": 3
   },
   "file_extension": ".py",
   "mimetype": "text/x-python",
   "name": "python",
   "nbconvert_exporter": "python",
   "pygments_lexer": "ipython3",
   "version": "3.7.3"
  },
  "toc": {
   "base_numbering": 1,
   "nav_menu": {},
   "number_sections": false,
   "sideBar": true,
   "skip_h1_title": false,
   "title_cell": "Table of Contents",
   "title_sidebar": "Contents",
   "toc_cell": false,
   "toc_position": {},
   "toc_section_display": true,
   "toc_window_display": false
  },
  "varInspector": {
   "cols": {
    "lenName": 16,
    "lenType": 16,
    "lenVar": 40
   },
   "kernels_config": {
    "python": {
     "delete_cmd_postfix": "",
     "delete_cmd_prefix": "del ",
     "library": "var_list.py",
     "varRefreshCmd": "print(var_dic_list())"
    },
    "r": {
     "delete_cmd_postfix": ") ",
     "delete_cmd_prefix": "rm(",
     "library": "var_list.r",
     "varRefreshCmd": "cat(var_dic_list()) "
    }
   },
   "types_to_exclude": [
    "module",
    "function",
    "builtin_function_or_method",
    "instance",
    "_Feature"
   ],
   "window_display": false
  }
 },
 "nbformat": 4,
 "nbformat_minor": 2
}
