{
 "cells": [
  {
   "cell_type": "code",
   "execution_count": 1,
   "metadata": {},
   "outputs": [],
   "source": [
    "import numpy as np\n",
    "import matplotlib.pyplot as plt\n",
    "import statsmodels.api as sm\n",
    "import scipy\n",
    "%matplotlib inline"
   ]
  },
  {
   "cell_type": "markdown",
   "metadata": {},
   "source": [
    "# The Gamma Regression"
   ]
  },
  {
   "cell_type": "code",
   "execution_count": 2,
   "metadata": {},
   "outputs": [
    {
     "data": {
      "image/png": "[encoded data removed]",
      "text/plain": [
       "<Figure size 432x288 with 1 Axes>"
      ]
     },
     "metadata": {
      "needs_background": "light"
     },
     "output_type": "display_data"
    }
   ],
   "source": [
    "### Simulate the data\n",
    "nobs =2500           # number of observations\n",
    "np.random.seed (245)\n",
    "x = 2 * np.random.uniform(low=0,high=1,size=nobs)\n",
    "mu = 0.5 + 1.5 * x      # hier ist mu\n",
    "shape =1.5              # shape parameter\n",
    "scale=np.exp(mu)        # scale parameter  #Transformation von meinem Erwartungswert e^mu, damit ich y positiv sicherstellen kann\n",
    "\n",
    "y = np.random.gamma(shape=shape , scale=scale , size=nobs) \n",
    "\n",
    "plot=plt.hist(y, 50, density=True)\n",
    "\n",
    "#sieht Gamma Verteilung so aus: viele Werte auf 0 gesetzt, weil bei Versicherung kleine Schaden häufiger sind!"
   ]
  },
  {
   "cell_type": "code",
   "execution_count": 7,
   "metadata": {},
   "outputs": [
    {
     "name": "stdout",
     "output_type": "stream",
     "text": [
      "[9.06853867 1.12530005 1.00300132 0.7620768  9.42521943 8.49352456\n",
      " 9.51836297 1.81182671 9.01289407 3.85884386]\n"
     ]
    }
   ],
   "source": [
    "#nobs1=10\n",
    "#np.random.seed (245)\n",
    "#x1 = 2 * np.random.uniform(low=0,high=5,size=nobs1)\n",
    "#print(x1)\n",
    "\n"
   ]
  },
  {
   "cell_type": "markdown",
   "metadata": {},
   "source": [
    "## Estimation via statsmodels"
   ]
  },
  {
   "cell_type": "code",
   "execution_count": 8,
   "metadata": {},
   "outputs": [
    {
     "name": "stderr",
     "output_type": "stream",
     "text": [
      "/Applications/Anaconda/anaconda3/lib/python3.7/site-packages/ipykernel_launcher.py:3: DeprecationWarning: Calling Family(..) with a link class as argument is deprecated.\n",
      "Use an instance of a link class instead.\n",
      "  This is separate from the ipykernel package so we can avoid doing imports until\n"
     ]
    },
    {
     "name": "stdout",
     "output_type": "stream",
     "text": [
      "                 Generalized Linear Model Regression Results                  \n",
      "==============================================================================\n",
      "Dep. Variable:                      y   No. Observations:                 2500\n",
      "Model:                            GLM   Df Residuals:                     2498\n",
      "Model Family:                   Gamma   Df Model:                            1\n",
      "Link Function:                    log   Scale:                         0.64297\n",
      "Method:                          IRLS   Log-Likelihood:                -8362.3\n",
      "Date:                Mon, 03 Feb 2020   Deviance:                       1842.6\n",
      "Time:                        20:40:08   Pearson chi2:                 1.61e+03\n",
      "No. Iterations:                     7                                         \n",
      "Covariance Type:            nonrobust                                         \n",
      "==============================================================================\n",
      "                 coef    std err          z      P>|z|      [0.025      0.975]\n",
      "------------------------------------------------------------------------------\n",
      "const          0.9222      0.032     28.848      0.000       0.860       0.985\n",
      "x1             1.4710      0.028     53.051      0.000       1.417       1.525\n",
      "==============================================================================\n"
     ]
    }
   ],
   "source": [
    "import statsmodels.api as sm\n",
    "model = sm.GLM(y, sm.add_constant(x),\n",
    "family=sm.families.Gamma(link = sm.genmod.families.links.log)).fit()  # Gamma Verteilung # log link function\n",
    "print(model.summary())"
   ]
  },
  {
   "cell_type": "markdown",
   "metadata": {},
   "source": [
    "## Estimation via gradient descent"
   ]
  },
  {
   "cell_type": "markdown",
   "metadata": {},
   "source": [
    "### The loss function\n",
    "\n",
    "$$\tl(\\mu_i,\\phi ;y_i) = - \\frac{1}{\\phi}\\left( \\frac{y}{\\mu} - ln(\\mu) + ln\\left( \\frac{1}{\\phi}\\right)  -ln(y) +ln\\left(\\Gamma(\\phi)\\right) \\right) $$ \n",
    "with \n",
    "$$\\mu_i =\\exp\\{\\boldsymbol{x}_i \\boldsymbol{\\beta}\\} $$"
   ]
  },
  {
   "cell_type": "markdown",
   "metadata": {},
   "source": [
    "### The Gradient\n",
    "\n",
    "\n",
    "$$\\frac{\\partial J(\\beta)}{\\partial \\boldsymbol{\\beta}}=-\\frac{1}{\\phi}\\left( \\boldsymbol{X}^T\\frac{\\boldsymbol{y}}{\\exp(\\boldsymbol{X\\beta})} - {\\boldsymbol{X}}\\right)$$"
   ]
  },
  {
   "cell_type": "code",
   "execution_count": 9,
   "metadata": {},
   "outputs": [
    {
     "name": "stdout",
     "output_type": "stream",
     "text": [
      "[[0.92220818]\n",
      " [1.47095649]]\n"
     ]
    }
   ],
   "source": [
    "X=np.c_[np.ones((nobs ,1)),x]\n",
    "eta = 0.01\n",
    "epochs = 1000\n",
    "beta_gd = np.array ([[.1] ,[.1]])\n",
    "beta_gd_list = np.array(np.zeros((epochs + 1)*2)). reshape(2,(epochs + 1))\n",
    "beta_gd_list [:,0] = beta_gd.T\n",
    "y=y.reshape(nobs ,1)\n",
    "\n",
    "\n",
    "\n",
    "for e in range(0,epochs):\n",
    "    gradient =1/np.var(y) * -(X.T@(y/np.exp(X @ beta_gd))- np.sum(X,axis=0). reshape (2,1)) #مثل القانون المكتوب فوق \n",
    "    beta_gd = beta_gd - eta * gradient.reshape(2,1)\n",
    "    beta_gd_list[:,e+1] = beta_gd.T\n",
    "print(beta_gd)\n"
   ]
  },
  {
   "cell_type": "code",
   "execution_count": 10,
   "metadata": {},
   "outputs": [
    {
     "data": {
      "image/png": "[encoded data removed]",
      "text/plain": [
       "<Figure size 432x288 with 1 Axes>"
      ]
     },
     "metadata": {
      "needs_background": "light"
     },
     "output_type": "display_data"
    },
    {
     "data": {
      "image/png": "[encoded data removed]",
      "text/plain": [
       "<Figure size 432x288 with 1 Axes>"
      ]
     },
     "metadata": {
      "needs_background": "light"
     },
     "output_type": "display_data"
    }
   ],
   "source": [
    "plt.plot(np.arange (0,1000 + 1),beta_gd_list [0][0:1001] , color = 'blue',\n",
    "label = 'Gradient Descent')\n",
    "plt.legend(loc='lower right')\n",
    "plt.xlabel('epochs')\n",
    "plt.ylabel(r'$\\hat{\\beta}_0$')\n",
    "plt.show()\n",
    "plt.plot(np.arange (0,1000 + 1),beta_gd_list [1][0:1001] , color = 'blue',\n",
    "label = 'Gradient Descent')\n",
    "plt.legend()\n",
    "plt.xlabel('epochs')\n",
    "plt.ylabel(r'$\\hat{\\beta}_1$')\n",
    "plt.show()"
   ]
  },
  {
   "cell_type": "markdown",
   "metadata": {},
   "source": [
    "# The Beta Regression"
   ]
  },
  {
   "cell_type": "markdown",
   "metadata": {},
   "source": [
    "### The log likelihood\n",
    "\n",
    "\n",
    "$$f(y;\\alpha,\\beta) = \\frac{1}{B(\\alpha,\\beta)} y^{\\alpha-1} (1-y)^{\\beta-1}$$\n",
    "with\n",
    "$$\\alpha = \\mu \\phi \\ \\ \\ \\ \\beta=(1-\\mu)\\phi$$\n",
    "\n",
    "gives\n",
    "\n",
    "$$l(\\mu_i,\\phi ;y_i)  = \\log \\left\\{ \\frac{\\Gamma (\\phi)}{\\Gamma (\\mu_i \\phi)\\Gamma ((1-\\mu_i )\\phi)}\\right\\}  \n",
    " + \\, (\\mu_i \\phi - 1)\\log \\{ y_i\\} + \\, ((1-\\mu_i )\\phi  - 1)\\log \\{ 1-y_i\\} $$\n",
    " \n",
    "with\n",
    "\n",
    "$$\\mu =\\frac{1}{1+\\exp\\{-\\boldsymbol{x} \\boldsymbol{\\beta}\\}}$$"
   ]
  },
  {
   "cell_type": "code",
   "execution_count": 11,
   "metadata": {},
   "outputs": [
    {
     "data": {
      "text/plain": [
       "<matplotlib.legend.Legend at 0x1c1ac4d438>"
      ]
     },
     "execution_count": 11,
     "metadata": {},
     "output_type": "execute_result"
    },
    {
     "data": {
      "image/png": "[encoded data removed]",
      "text/plain": [
       "<Figure size 432x288 with 1 Axes>"
      ]
     },
     "metadata": {
      "needs_background": "light"
     },
     "output_type": "display_data"
    }
   ],
   "source": [
    "a1, b1 = 10, 10\n",
    "\n",
    "rv1 = np.random.beta(a1, b1,100000) # a is alfa left shape parameter\n",
    "                                    # b is beta right shape parameter\n",
    "pdf1=scipy.stats.gaussian_kde(rv1)\n",
    "\n",
    "\n",
    "\n",
    "a2, b2 = 3, 3\n",
    "\n",
    "rv2 = np.random.beta(a2, b2,100000)\n",
    "pdf2=scipy.stats.gaussian_kde(rv2)\n",
    "\n",
    "a3, b3 = 1, 1\n",
    "\n",
    "rv3 = np.random.beta(a3, b3,100000)\n",
    "pdf3=scipy.stats.gaussian_kde(rv3)\n",
    "\n",
    "\n",
    "a4, b4 = 0.1, 0.1\n",
    "\n",
    "rv4 = np.random.beta(a4, b4,100000)\n",
    "pdf4=scipy.stats.gaussian_kde(rv4)\n",
    "\n",
    "x = np.linspace(0, 1, 100)\n",
    "\n",
    "plt.plot(x, pdf1(x),label=(r'$ \\alpha= $'+str(a1)+ '$\\quad$'+r'$ \\beta= $'+str(b1)))\n",
    "plt.plot(x, pdf2(x),label=(r'$ \\alpha= $'+str(a2)+ '$\\quad$'+r'$ \\beta= $'+str(b2)))\n",
    "plt.plot(x, pdf3(x),label=(r'$ \\alpha= $'+str(a3)+ '$\\quad$'+r'$ \\beta= $'+str(b3)))\n",
    "plt.plot(x, pdf4(x),label=(r'$ \\alpha= $'+str(a4)+ '$\\quad$'+r'$ \\beta= $'+str(b4)))\n",
    "plt.ylim(0,7)\n",
    "plt.legend()"
   ]
  },
  {
   "cell_type": "code",
   "execution_count": null,
   "metadata": {},
   "outputs": [],
   "source": []
  }
 ],
 "metadata": {
  "kernelspec": {
   "display_name": "Python 3",
   "language": "python",
   "name": "python3"
  },
  "language_info": {
   "codemirror_mode": {
    "name": "ipython",
    "version": 3
   },
   "file_extension": ".py",
   "mimetype": "text/x-python",
   "name": "python",
   "nbconvert_exporter": "python",
   "pygments_lexer": "ipython3",
   "version": "3.7.3"
  },
  "toc": {
   "base_numbering": 1,
   "nav_menu": {},
   "number_sections": false,
   "sideBar": true,
   "skip_h1_title": false,
   "title_cell": "Table of Contents",
   "title_sidebar": "Contents",
   "toc_cell": false,
   "toc_position": {},
   "toc_section_display": true,
   "toc_window_display": false
  },
  "varInspector": {
   "cols": {
    "lenName": 16,
    "lenType": 16,
    "lenVar": 40
   },
   "kernels_config": {
    "python": {
     "delete_cmd_postfix": "",
     "delete_cmd_prefix": "del ",
     "library": "var_list.py",
     "varRefreshCmd": "print(var_dic_list())"
    },
    "r": {
     "delete_cmd_postfix": ") ",
     "delete_cmd_prefix": "rm(",
     "library": "var_list.r",
     "varRefreshCmd": "cat(var_dic_list()) "
    }
   },
   "position": {
    "height": "585.86px",
    "left": "auto",
    "right": "20px",
    "top": "120px",
    "width": "350px"
   },
   "types_to_exclude": [
    "module",
    "function",
    "builtin_function_or_method",
    "instance",
    "_Feature"
   ],
   "window_display": false
  }
 },
 "nbformat": 4,
 "nbformat_minor": 2
}
