{
 "cells": [
  {
   "cell_type": "code",
   "execution_count": 1,
   "metadata": {},
   "outputs": [
    {
     "name": "stderr",
     "output_type": "stream",
     "text": [
      "/Applications/Anaconda/anaconda3/lib/python3.7/importlib/_bootstrap.py:219: RuntimeWarning: numpy.ufunc size changed, may indicate binary incompatibility. Expected 192 from C header, got 216 from PyObject\n",
      "  return f(*args, **kwds)\n",
      "/Applications/Anaconda/anaconda3/lib/python3.7/importlib/_bootstrap.py:219: RuntimeWarning: numpy.ufunc size changed, may indicate binary incompatibility. Expected 192 from C header, got 216 from PyObject\n",
      "  return f(*args, **kwds)\n",
      "/Applications/Anaconda/anaconda3/lib/python3.7/importlib/_bootstrap.py:219: RuntimeWarning: numpy.ufunc size changed, may indicate binary incompatibility. Expected 192 from C header, got 216 from PyObject\n",
      "  return f(*args, **kwds)\n",
      "/Applications/Anaconda/anaconda3/lib/python3.7/importlib/_bootstrap.py:219: RuntimeWarning: numpy.ufunc size changed, may indicate binary incompatibility. Expected 192 from C header, got 216 from PyObject\n",
      "  return f(*args, **kwds)\n",
      "/Applications/Anaconda/anaconda3/lib/python3.7/importlib/_bootstrap.py:219: RuntimeWarning: numpy.ufunc size changed, may indicate binary incompatibility. Expected 192 from C header, got 216 from PyObject\n",
      "  return f(*args, **kwds)\n"
     ]
    }
   ],
   "source": [
    "# ich brauche immer 3 Teile in Keras\n",
    "from keras.models import Sequential # initial sequential NN \n",
    "from keras.layers import Dense      # hidden layer\n",
    "from keras.optimizers import SGD    # optimierer ist stochastic gradient descent\n",
    "import numpy as np\n",
    "import statsmodels.api as sm    # ich brauch das für OLS Schätzung\n",
    "from sklearn.metrics import mean_squared_error,log_loss # zur model Evalutaion nehme ich Mean squared error and log_loss (definiert als likelihood multinomial modell)\n",
    "import matplotlib.pyplot as plt"
   ]
  },
  {
   "cell_type": "code",
   "execution_count": 2,
   "metadata": {},
   "outputs": [],
   "source": [
    "# Simulation of some data\n",
    "np.random.seed (245)\n",
    "nobs =10000\n",
    "x1 = 2 * np.random.rand(nobs , 1)\n",
    "x2 = np.random.uniform(size=nobs).reshape((nobs ,1))\n",
    "y = -0.5 + 2 * x1 - 3*x2 + np.random.normal(loc=0, scale=1, size=nobs).reshape((nobs ,1)) # last one ist fehler term, weil ich OLS schätzen möchte\n",
    "X = np.c_[np.ones((nobs ,1)),x1,x2] #zusammenfassen zu einer Vektor\n",
    "OLS=sm.OLS(y,X).fit()\n",
    "y_pred_OLS=OLS.predict(X)"
   ]
  },
  {
   "cell_type": "code",
   "execution_count": 3,
   "metadata": {},
   "outputs": [
    {
     "data": {
      "text/plain": [
       "array([[1.        , 1.81370773, 0.77579057],\n",
       "       [1.        , 0.22506001, 0.28782192],\n",
       "       [1.        , 0.20060026, 0.4393781 ],\n",
       "       ...,\n",
       "       [1.        , 0.97487135, 0.30835699],\n",
       "       [1.        , 0.03773621, 0.19634294],\n",
       "       [1.        , 0.04727057, 0.42982725]])"
      ]
     },
     "execution_count": 3,
     "metadata": {},
     "output_type": "execute_result"
    }
   ],
   "source": [
    "X[:,0:5] # erste Spalte in X immer 1"
   ]
  },
  {
   "cell_type": "code",
   "execution_count": 4,
   "metadata": {},
   "outputs": [
    {
     "data": {
      "text/plain": [
       "array([[ 1.1677022 ],\n",
       "       [ 0.04029046],\n",
       "       [-1.12111839],\n",
       "       ...,\n",
       "       [ 0.85713025],\n",
       "       [-1.55088467],\n",
       "       [-1.5558517 ]])"
      ]
     },
     "execution_count": 4,
     "metadata": {},
     "output_type": "execute_result"
    }
   ],
   "source": [
    "y[:,0:5]"
   ]
  },
  {
   "cell_type": "markdown",
   "metadata": {},
   "source": [
    "## OLS Regression"
   ]
  },
  {
   "cell_type": "code",
   "execution_count": 5,
   "metadata": {
    "scrolled": false
   },
   "outputs": [
    {
     "name": "stdout",
     "output_type": "stream",
     "text": [
      "                            OLS Regression Results                            \n",
      "==============================================================================\n",
      "Dep. Variable:                      y   R-squared:                       0.673\n",
      "Model:                            OLS   Adj. R-squared:                  0.673\n",
      "Method:                 Least Squares   F-statistic:                 1.029e+04\n",
      "Date:                Thu, 05 Dec 2019   Prob (F-statistic):               0.00\n",
      "Time:                        13:40:45   Log-Likelihood:                -14241.\n",
      "No. Observations:               10000   AIC:                         2.849e+04\n",
      "Df Residuals:                    9997   BIC:                         2.851e+04\n",
      "Df Model:                           2                                         \n",
      "Covariance Type:            nonrobust                                         \n",
      "==============================================================================\n",
      "                 coef    std err          t      P>|t|      [0.025      0.975]\n",
      "------------------------------------------------------------------------------\n",
      "const         -0.5258      0.027    -19.784      0.000      -0.578      -0.474\n",
      "x1             2.0041      0.017    115.428      0.000       1.970       2.038\n",
      "x2            -2.9642      0.035    -84.838      0.000      -3.033      -2.896\n",
      "==============================================================================\n",
      "Omnibus:                        2.625   Durbin-Watson:                   1.987\n",
      "Prob(Omnibus):                  0.269   Jarque-Bera (JB):                2.647\n",
      "Skew:                          -0.020   Prob(JB):                        0.266\n",
      "Kurtosis:                       3.069   Cond. No.                         6.28\n",
      "==============================================================================\n",
      "\n",
      "Warnings:\n",
      "[1] Standard Errors assume that the covariance matrix of the errors is correctly specified.\n"
     ]
    }
   ],
   "source": [
    "print(OLS.summary())"
   ]
  },
  {
   "cell_type": "markdown",
   "metadata": {},
   "source": [
    "## The Neural Network"
   ]
  },
  {
   "cell_type": "markdown",
   "metadata": {},
   "source": [
    "### Hyper parameters, die ich brauch für mein NN"
   ]
  },
  {
   "cell_type": "code",
   "execution_count": 6,
   "metadata": {},
   "outputs": [],
   "source": [
    "#Learningrate ist der zentralen Hyperparameter wichtige \n",
    "LR=0.05\n",
    "\n",
    "\n",
    "# Number of neurons-> hier gemient Output Neuron\n",
    "Neuron=1\n",
    "\n",
    "\n",
    "#The Activation function von output layer-> ich habe direkte Zusammenhang zwischen x und y -> hier habe keine Transofrmation (keine Sigmoid oder tanh-> a=z=W*x+b)\n",
    "Activate='linear'\n",
    "\n",
    "\n",
    "#The Optimizer stochastic gradient descent -> und gebe ich ihm der Learning rate\n",
    "Optimizer= SGD(lr=LR)\n",
    "\n",
    "\n",
    "# The loss function - Verlustfunktion ist schon definiert in keras\n",
    "loss='mean_squared_error'"
   ]
  },
  {
   "cell_type": "markdown",
   "metadata": {},
   "source": [
    "### Construct the Neural Network"
   ]
  },
  {
   "cell_type": "code",
   "execution_count": 7,
   "metadata": {},
   "outputs": [
    {
     "name": "stdout",
     "output_type": "stream",
     "text": [
      "WARNING:tensorflow:From /Applications/Anaconda/anaconda3/lib/python3.7/site-packages/keras/backend/tensorflow_backend.py:74: The name tf.get_default_graph is deprecated. Please use tf.compat.v1.get_default_graph instead.\n",
      "\n",
      "WARNING:tensorflow:From /Applications/Anaconda/anaconda3/lib/python3.7/site-packages/keras/backend/tensorflow_backend.py:517: The name tf.placeholder is deprecated. Please use tf.compat.v1.placeholder instead.\n",
      "\n",
      "WARNING:tensorflow:From /Applications/Anaconda/anaconda3/lib/python3.7/site-packages/keras/backend/tensorflow_backend.py:4138: The name tf.random_uniform is deprecated. Please use tf.random.uniform instead.\n",
      "\n",
      "_________________________________________________________________\n",
      "Layer (type)                 Output Shape              Param #   \n",
      "=================================================================\n",
      "dense_1 (Dense)              (None, 1)                 3         \n",
      "=================================================================\n",
      "Total params: 3\n",
      "Trainable params: 3\n",
      "Non-trainable params: 0\n",
      "_________________________________________________________________\n"
     ]
    }
   ],
   "source": [
    "## Neural Network\n",
    "from tensorflow import set_random_seed\n",
    "set_random_seed (245) # wichtig weil Anfang Gewichte in jedes mal gleich sein wird - NN hängt stark an Start von Zufalssgenertor -> welche Anfang Gewichte wird gewählt\n",
    "\n",
    "#Initialize the ANN - wichtig durch model_ANN zu initialisieren\n",
    "model_ANN= Sequential() # wir definieren unser NN - ich kann hier auch Layers direkt und Name übergeben! - implizit nur input Layer\n",
    "\n",
    "#Output Layer definieren zusätzliche Layer\n",
    "model_ANN.add(Dense(Neuron, activation=Activate, input_shape=(3,),use_bias=False)) # ein neuron, Aktivierungsfunktion='linear' look above! ,input_shape wie mein matrix X definiert ist, use_bias kein bias neuron\n",
    "model_ANN.summary()"
   ]
  },
  {
   "cell_type": "code",
   "execution_count": 9,
   "metadata": {},
   "outputs": [],
   "source": [
    "# ich habe ein layer dense_1\n",
    "# ich habe shape\n",
    "# ich habe number of Parameter -> sind die Gewichte, die ich durch NN optimieren will!"
   ]
  },
  {
   "cell_type": "markdown",
   "metadata": {},
   "source": [
    "### Compile the Neural Network"
   ]
  },
  {
   "cell_type": "code",
   "execution_count": 10,
   "metadata": {},
   "outputs": [],
   "source": [
    "model_ANN.compile(optimizer=Optimizer , loss=loss) # jetzt müssen wir NN kompilieren -> also in TensorFlow zu übersetze\n",
    "# optimierer ist stochastic gradient descent, and loss ist mean squared error"
   ]
  },
  {
   "cell_type": "markdown",
   "metadata": {},
   "source": [
    "### Fit the Neural Network"
   ]
  },
  {
   "cell_type": "code",
   "execution_count": 11,
   "metadata": {
    "scrolled": true
   },
   "outputs": [
    {
     "name": "stdout",
     "output_type": "stream",
     "text": [
      "WARNING:tensorflow:From /Applications/Anaconda/anaconda3/lib/python3.7/site-packages/keras/backend/tensorflow_backend.py:986: The name tf.assign_add is deprecated. Please use tf.compat.v1.assign_add instead.\n",
      "\n",
      "WARNING:tensorflow:From /Applications/Anaconda/anaconda3/lib/python3.7/site-packages/keras/backend/tensorflow_backend.py:973: The name tf.assign is deprecated. Please use tf.compat.v1.assign instead.\n",
      "\n",
      "Epoch 1/50\n",
      "10000/10000 [==============================] - 2s 191us/step - loss: 1.2417\n",
      "Epoch 2/50\n",
      "10000/10000 [==============================] - 0s 47us/step - loss: 1.0163\n",
      "Epoch 3/50\n",
      "10000/10000 [==============================] - 0s 47us/step - loss: 1.0159\n",
      "Epoch 4/50\n",
      "10000/10000 [==============================] - 0s 47us/step - loss: 1.0144\n",
      "Epoch 5/50\n",
      "10000/10000 [==============================] - 0s 47us/step - loss: 1.0157\n",
      "Epoch 6/50\n",
      "10000/10000 [==============================] - 0s 47us/step - loss: 1.0165\n",
      "Epoch 7/50\n",
      "10000/10000 [==============================] - 0s 48us/step - loss: 1.0163\n",
      "Epoch 8/50\n",
      "10000/10000 [==============================] - 0s 48us/step - loss: 1.0138\n",
      "Epoch 9/50\n",
      "10000/10000 [==============================] - 1s 51us/step - loss: 1.0149\n",
      "Epoch 10/50\n",
      "10000/10000 [==============================] - 1s 59us/step - loss: 1.0159\n",
      "Epoch 11/50\n",
      "10000/10000 [==============================] - 1s 54us/step - loss: 1.0166\n",
      "Epoch 12/50\n",
      "10000/10000 [==============================] - 1s 55us/step - loss: 1.0148\n",
      "Epoch 13/50\n",
      "10000/10000 [==============================] - 0s 50us/step - loss: 1.0167\n",
      "Epoch 14/50\n",
      "10000/10000 [==============================] - 1s 58us/step - loss: 1.0154\n",
      "Epoch 15/50\n",
      "10000/10000 [==============================] - 1s 62us/step - loss: 1.0142\n",
      "Epoch 16/50\n",
      "10000/10000 [==============================] - 1s 50us/step - loss: 1.0160\n",
      "Epoch 17/50\n",
      "10000/10000 [==============================] - 1s 64us/step - loss: 1.0160\n",
      "Epoch 18/50\n",
      "10000/10000 [==============================] - 1s 51us/step - loss: 1.0161\n",
      "Epoch 19/50\n",
      "10000/10000 [==============================] - 1s 54us/step - loss: 1.0156\n",
      "Epoch 20/50\n",
      "10000/10000 [==============================] - 1s 54us/step - loss: 1.0151\n",
      "Epoch 21/50\n",
      "10000/10000 [==============================] - 1s 57us/step - loss: 1.0166\n",
      "Epoch 22/50\n",
      "10000/10000 [==============================] - 1s 50us/step - loss: 1.0147\n",
      "Epoch 23/50\n",
      "10000/10000 [==============================] - 1s 52us/step - loss: 1.0149\n",
      "Epoch 24/50\n",
      "10000/10000 [==============================] - 0s 48us/step - loss: 1.0151\n",
      "Epoch 25/50\n",
      "10000/10000 [==============================] - 0s 48us/step - loss: 1.0144\n",
      "Epoch 26/50\n",
      "10000/10000 [==============================] - 0s 47us/step - loss: 1.0149\n",
      "Epoch 27/50\n",
      "10000/10000 [==============================] - 1s 53us/step - loss: 1.0151\n",
      "Epoch 28/50\n",
      "10000/10000 [==============================] - 1s 65us/step - loss: 1.0158\n",
      "Epoch 29/50\n",
      "10000/10000 [==============================] - 1s 60us/step - loss: 1.0135\n",
      "Epoch 30/50\n",
      "10000/10000 [==============================] - 1s 54us/step - loss: 1.0147\n",
      "Epoch 31/50\n",
      "10000/10000 [==============================] - 1s 59us/step - loss: 1.0142\n",
      "Epoch 32/50\n",
      "10000/10000 [==============================] - 0s 47us/step - loss: 1.0162\n",
      "Epoch 33/50\n",
      "10000/10000 [==============================] - 1s 55us/step - loss: 1.0152\n",
      "Epoch 34/50\n",
      "10000/10000 [==============================] - 1s 60us/step - loss: 1.0147\n",
      "Epoch 35/50\n",
      "10000/10000 [==============================] - 0s 49us/step - loss: 1.0148\n",
      "Epoch 36/50\n",
      "10000/10000 [==============================] - 1s 55us/step - loss: 1.0151\n",
      "Epoch 37/50\n",
      "10000/10000 [==============================] - 1s 55us/step - loss: 1.0156\n",
      "Epoch 38/50\n",
      "10000/10000 [==============================] - 0s 48us/step - loss: 1.0150\n",
      "Epoch 39/50\n",
      "10000/10000 [==============================] - 1s 59us/step - loss: 1.0155\n",
      "Epoch 40/50\n",
      "10000/10000 [==============================] - 1s 53us/step - loss: 1.0150\n",
      "Epoch 41/50\n",
      "10000/10000 [==============================] - 0s 49us/step - loss: 1.0156\n",
      "Epoch 42/50\n",
      "10000/10000 [==============================] - 0s 48us/step - loss: 1.0159\n",
      "Epoch 43/50\n",
      "10000/10000 [==============================] - 0s 48us/step - loss: 1.0147\n",
      "Epoch 44/50\n",
      "10000/10000 [==============================] - 0s 47us/step - loss: 1.0162\n",
      "Epoch 45/50\n",
      "10000/10000 [==============================] - 0s 47us/step - loss: 1.0144\n",
      "Epoch 46/50\n",
      "10000/10000 [==============================] - 0s 47us/step - loss: 1.0162\n",
      "Epoch 47/50\n",
      "10000/10000 [==============================] - 1s 57us/step - loss: 1.0164\n",
      "Epoch 48/50\n",
      "10000/10000 [==============================] - 0s 49us/step - loss: 1.0164\n",
      "Epoch 49/50\n",
      "10000/10000 [==============================] - 1s 56us/step - loss: 1.0151\n",
      "Epoch 50/50\n",
      "10000/10000 [==============================] - 1s 57us/step - loss: 1.0159\n"
     ]
    }
   ],
   "source": [
    "#Fit the model - unsere NN traninieren -> \n",
    "history_ANN=model_ANN.fit(\n",
    "X, # training data\n",
    "y, # training targets\n",
    "epochs=50,verbose=1) # sage ich wie viele epochen (kann auch als Hyperparameter) -> \n",
    "# für jedes Gewicht machen wir 50 Update-Steps!, damit mein NN fertig trainiert bzw. auf Daten gelernt/angepasst)\n",
    "# -> dann schauen wir dass relativ nah an OLS (weil Aktivierungsfunktion Linear!)\n"
   ]
  },
  {
   "cell_type": "code",
   "execution_count": 12,
   "metadata": {
    "scrolled": true
   },
   "outputs": [
    {
     "data": {
      "image/png": "[encoded data removed]",
      "text/plain": [
       "<Figure size 432x288 with 1 Axes>"
      ]
     },
     "metadata": {
      "needs_background": "light"
     },
     "output_type": "display_data"
    }
   ],
   "source": [
    "# model loss die ich versuche zu minimieren \n",
    "plt.plot(history_ANN.history['loss'])\n",
    "#plt.plot(history_ANN.history['val_acc'])\n",
    "plt.title('Model loss')\n",
    "plt.ylabel('Loss')\n",
    "plt.xlabel('Epoch')\n",
    "#plt.legend(['Train', 'Test'], loc='upper left')\n",
    "plt.show()\n",
    "\n",
    "# nach einem Step/Epoch kann mann sehen dass Loss realtiv gut minimiert!"
   ]
  },
  {
   "cell_type": "code",
   "execution_count": 18,
   "metadata": {},
   "outputs": [
    {
     "data": {
      "text/plain": [
       "[array([[-0.52725685],\n",
       "        [ 1.971427  ],\n",
       "        [-2.964658  ]], dtype=float32)]"
      ]
     },
     "execution_count": 18,
     "metadata": {},
     "output_type": "execute_result"
    }
   ],
   "source": [
    "# man kann sich dann Inforamtionen aus gfitten Layer ausgeben lassen\n",
    "model_ANN.layers[0]                # hier bekomme ich die Anzahl der Layers insgesamt    \n",
    "model_ANN.layers[0].get_weights()  # hier bekomme ich Gewichte, die Input-Layer mit Output-Layer verbinden! -> diese Gewicht sind nicht anders als Betas in OLS, weil mein NN wie OLS strukturiert hat!"
   ]
  },
  {
   "cell_type": "code",
   "execution_count": 13,
   "metadata": {},
   "outputs": [
    {
     "name": "stdout",
     "output_type": "stream",
     "text": [
      "const [-0.52725685]\n",
      "Beta1 [1.971427]\n",
      "Beta1 [-2.964658]\n"
     ]
    }
   ],
   "source": [
    "#Estimated Weights \n",
    "print('const',model_ANN.layers[0]. get_weights ()[0][0])\n",
    "print('Beta1',model_ANN.layers[0]. get_weights ()[0][1])\n",
    "print('Beta1',model_ANN.layers[0]. get_weights ()[0][2])"
   ]
  },
  {
   "cell_type": "code",
   "execution_count": 19,
   "metadata": {},
   "outputs": [
    {
     "data": {
      "text/plain": [
       "array([-0.52578554,  2.00410969, -2.96424973])"
      ]
     },
     "execution_count": 19,
     "metadata": {},
     "output_type": "execute_result"
    }
   ],
   "source": [
    "OLS.params # hier bekomme ich OLS Betas -> sind wie NN Gewichte, weil mein NN wie OLS strukturiert!"
   ]
  },
  {
   "cell_type": "code",
   "execution_count": 20,
   "metadata": {},
   "outputs": [
    {
     "name": "stdout",
     "output_type": "stream",
     "text": [
      "MSE ANN: 1.011894178649231\n",
      "MSE OLS: 1.0103468380802312\n"
     ]
    }
   ],
   "source": [
    "#Evaluate the fit\n",
    "y_pred_ANN=model_ANN.predict(X)\n",
    "print(\"MSE ANN:\", mean_squared_error(np.ravel(y), np.ravel(y_pred_ANN )))\n",
    "print(\"MSE OLS:\", mean_squared_error(np.ravel(y), np.ravel(y_pred_OLS )))"
   ]
  },
  {
   "cell_type": "markdown",
   "metadata": {},
   "source": [
    "## Logistic Regression"
   ]
  },
  {
   "cell_type": "code",
   "execution_count": 21,
   "metadata": {},
   "outputs": [],
   "source": [
    "#Simulate some data\n",
    "np.random.seed(245)\n",
    "nobs=10000\n",
    "mean = np.zeros(2)\n",
    "cov = np.eye(2)\n",
    "X=np.random.multivariate_normal(mean,cov,nobs)\n",
    "X=sm.add_constant(X)\n",
    "\n",
    "y_star= X.T[0]+ 5*X.T[1]+ 4*X.T[2] + np.random.logistic(size=nobs) # y*\n",
    "\n",
    "y=np.where(y_star>0,1,0) #wenn y* über Null dann y=1 sonst y=0"
   ]
  },
  {
   "cell_type": "code",
   "execution_count": 22,
   "metadata": {},
   "outputs": [
    {
     "data": {
      "text/plain": [
       "array([ 4.33539705, -2.14916892,  0.1318647 ,  5.88800974,  0.15844443])"
      ]
     },
     "execution_count": 22,
     "metadata": {},
     "output_type": "execute_result"
    }
   ],
   "source": [
    "y_star[0:5]"
   ]
  },
  {
   "cell_type": "code",
   "execution_count": 18,
   "metadata": {},
   "outputs": [
    {
     "data": {
      "text/plain": [
       "array([1, 0, 1, 1, 1])"
      ]
     },
     "execution_count": 18,
     "metadata": {},
     "output_type": "execute_result"
    }
   ],
   "source": [
    "y[0:5] # the first y* is 4.33539075 > 0 -> y = 1\n"
   ]
  },
  {
   "cell_type": "code",
   "execution_count": 23,
   "metadata": {},
   "outputs": [
    {
     "name": "stdout",
     "output_type": "stream",
     "text": [
      "Optimization terminated successfully.\n",
      "         Current function value: 0.191293\n",
      "         Iterations 9\n",
      "                           Logit Regression Results                           \n",
      "==============================================================================\n",
      "Dep. Variable:                      y   No. Observations:                10000\n",
      "Model:                          Logit   Df Residuals:                     9997\n",
      "Method:                           MLE   Df Model:                            2\n",
      "Date:                Thu, 05 Dec 2019   Pseudo R-squ.:                  0.7216\n",
      "Time:                        15:20:01   Log-Likelihood:                -1912.9\n",
      "converged:                       True   LL-Null:                       -6872.2\n",
      "Covariance Type:            nonrobust   LLR p-value:                     0.000\n",
      "==============================================================================\n",
      "                 coef    std err          z      P>|z|      [0.025      0.975]\n",
      "------------------------------------------------------------------------------\n",
      "const          0.9896      0.047     21.074      0.000       0.898       1.082\n",
      "x1             5.1413      0.129     39.769      0.000       4.888       5.395\n",
      "x2             4.2387      0.108     39.316      0.000       4.027       4.450\n",
      "==============================================================================\n",
      "\n",
      "Possibly complete quasi-separation: A fraction 0.17 of observations can be\n",
      "perfectly predicted. This might indicate that there is complete\n",
      "quasi-separation. In this case some parameters will not be identified.\n"
     ]
    }
   ],
   "source": [
    "Logit_fit=sm.Logit(y, X).fit()\n",
    "print(Logit_fit.summary())"
   ]
  },
  {
   "cell_type": "markdown",
   "metadata": {},
   "source": [
    "### Hyper Parameters - jetzt Netz an sich bleibt gleich aber ich brauche andere Aktivierungsfunktion, weil Logit model y=funktion(x*Beta) -> deswegen wird in dem Neuron sigmoid als Aktivierungsfunktion verwendet!"
   ]
  },
  {
   "cell_type": "code",
   "execution_count": 25,
   "metadata": {},
   "outputs": [],
   "source": [
    "#Learningrate\n",
    "LR=0.05\n",
    "\n",
    "\n",
    "# Number of neurons\n",
    "Neuron=1\n",
    "\n",
    "\n",
    "#The Activation function\n",
    "Activate='sigmoid' #aka logistic link -> ich bekomme zuerst Wahrschienlichkeit, diese Wahr. würde durch logistische Funktion(=sigmoid) zu 1 oder 0 transformiert!\n",
    "\n",
    "\n",
    "#The Optimizer\n",
    "Optimizer= SGD(lr=LR)\n",
    "\n",
    "\n",
    "# The loss function\n",
    "loss='binary_crossentropy' # aka binary_crossentropy ist nicht anders als negative log likelihood in the logit model-> wenn ich negative log likelihood minimiere dann maximiere ich im Endeffekt die Likelihood"
   ]
  },
  {
   "cell_type": "markdown",
   "metadata": {},
   "source": [
    "### Construct the Neural Network"
   ]
  },
  {
   "cell_type": "code",
   "execution_count": 26,
   "metadata": {},
   "outputs": [
    {
     "name": "stdout",
     "output_type": "stream",
     "text": [
      "_________________________________________________________________\n",
      "Layer (type)                 Output Shape              Param #   \n",
      "=================================================================\n",
      "dense_2 (Dense)              (None, 1)                 3         \n",
      "=================================================================\n",
      "Total params: 3\n",
      "Trainable params: 3\n",
      "Non-trainable params: 0\n",
      "_________________________________________________________________\n"
     ]
    }
   ],
   "source": [
    "## Neural Network\n",
    "from tensorflow import set_random_seed\n",
    "set_random_seed (245)\n",
    "\n",
    "#Initialize the ANN\n",
    "model_Logit= Sequential()\n",
    "\n",
    "#Output Layer\n",
    "model_Logit.add(Dense(Neuron, activation=Activate, input_shape=(3,),use_bias=False))\n",
    "model_Logit.summary()"
   ]
  },
  {
   "cell_type": "markdown",
   "metadata": {},
   "source": [
    "### Compile the Neural Network"
   ]
  },
  {
   "cell_type": "code",
   "execution_count": 27,
   "metadata": {},
   "outputs": [
    {
     "name": "stdout",
     "output_type": "stream",
     "text": [
      "WARNING:tensorflow:From /Applications/Anaconda/anaconda3/lib/python3.7/site-packages/tensorflow/python/ops/nn_impl.py:180: add_dispatch_support.<locals>.wrapper (from tensorflow.python.ops.array_ops) is deprecated and will be removed in a future version.\n",
      "Instructions for updating:\n",
      "Use tf.where in 2.0, which has the same broadcast rule as np.where\n"
     ]
    }
   ],
   "source": [
    "model_Logit.compile(optimizer=Optimizer , loss=loss)"
   ]
  },
  {
   "cell_type": "markdown",
   "metadata": {},
   "source": [
    "### Fit the Neural Network"
   ]
  },
  {
   "cell_type": "code",
   "execution_count": 28,
   "metadata": {
    "scrolled": true
   },
   "outputs": [
    {
     "name": "stdout",
     "output_type": "stream",
     "text": [
      "Epoch 1/50\n",
      "10000/10000 [==============================] - 2s 221us/step - loss: 0.3692\n",
      "Epoch 2/50\n",
      "10000/10000 [==============================] - 1s 77us/step - loss: 0.2542\n",
      "Epoch 3/50\n",
      "10000/10000 [==============================] - 1s 77us/step - loss: 0.2297\n",
      "Epoch 4/50\n",
      "10000/10000 [==============================] - 1s 78us/step - loss: 0.2179\n",
      "Epoch 5/50\n",
      "10000/10000 [==============================] - 1s 76us/step - loss: 0.2109\n",
      "Epoch 6/50\n",
      "10000/10000 [==============================] - 1s 87us/step - loss: 0.2063\n",
      "Epoch 7/50\n",
      "10000/10000 [==============================] - 1s 86us/step - loss: 0.2031\n",
      "Epoch 8/50\n",
      "10000/10000 [==============================] - 1s 81us/step - loss: 0.2007\n",
      "Epoch 9/50\n",
      "10000/10000 [==============================] - 1s 81us/step - loss: 0.1990\n",
      "Epoch 10/50\n",
      "10000/10000 [==============================] - 1s 78us/step - loss: 0.1976\n",
      "Epoch 11/50\n",
      "10000/10000 [==============================] - 1s 87us/step - loss: 0.1966\n",
      "Epoch 12/50\n",
      "10000/10000 [==============================] - 1s 87us/step - loss: 0.1957\n",
      "Epoch 13/50\n",
      "10000/10000 [==============================] - 1s 82us/step - loss: 0.1950\n",
      "Epoch 14/50\n",
      "10000/10000 [==============================] - 1s 90us/step - loss: 0.1945\n",
      "Epoch 15/50\n",
      "10000/10000 [==============================] - 1s 85us/step - loss: 0.1940\n",
      "Epoch 16/50\n",
      "10000/10000 [==============================] - 1s 81us/step - loss: 0.1936\n",
      "Epoch 17/50\n",
      "10000/10000 [==============================] - 1s 78us/step - loss: 0.1933\n",
      "Epoch 18/50\n",
      "10000/10000 [==============================] - 1s 84us/step - loss: 0.1930\n",
      "Epoch 19/50\n",
      "10000/10000 [==============================] - 1s 90us/step - loss: 0.1928\n",
      "Epoch 20/50\n",
      "10000/10000 [==============================] - 1s 82us/step - loss: 0.1926\n",
      "Epoch 21/50\n",
      "10000/10000 [==============================] - 1s 86us/step - loss: 0.1924\n",
      "Epoch 22/50\n",
      "10000/10000 [==============================] - 1s 85us/step - loss: 0.1923\n",
      "Epoch 23/50\n",
      "10000/10000 [==============================] - 1s 81us/step - loss: 0.1922\n",
      "Epoch 24/50\n",
      "10000/10000 [==============================] - 1s 87us/step - loss: 0.1921\n",
      "Epoch 25/50\n",
      "10000/10000 [==============================] - 1s 82us/step - loss: 0.1920\n",
      "Epoch 26/50\n",
      "10000/10000 [==============================] - 1s 80us/step - loss: 0.1919\n",
      "Epoch 27/50\n",
      "10000/10000 [==============================] - 1s 81us/step - loss: 0.1918\n",
      "Epoch 28/50\n",
      "10000/10000 [==============================] - 1s 79us/step - loss: 0.1918\n",
      "Epoch 29/50\n",
      "10000/10000 [==============================] - 1s 79us/step - loss: 0.1918\n",
      "Epoch 30/50\n",
      "10000/10000 [==============================] - 1s 80us/step - loss: 0.1917\n",
      "Epoch 31/50\n",
      "10000/10000 [==============================] - 1s 80us/step - loss: 0.1917\n",
      "Epoch 32/50\n",
      "10000/10000 [==============================] - 1s 89us/step - loss: 0.1916\n",
      "Epoch 33/50\n",
      "10000/10000 [==============================] - 1s 85us/step - loss: 0.1916\n",
      "Epoch 34/50\n",
      "10000/10000 [==============================] - 1s 94us/step - loss: 0.1916\n",
      "Epoch 35/50\n",
      "10000/10000 [==============================] - 1s 83us/step - loss: 0.1916\n",
      "Epoch 36/50\n",
      "10000/10000 [==============================] - 1s 91us/step - loss: 0.1915\n",
      "Epoch 37/50\n",
      "10000/10000 [==============================] - 1s 87us/step - loss: 0.1915\n",
      "Epoch 38/50\n",
      "10000/10000 [==============================] - 1s 89us/step - loss: 0.1915\n",
      "Epoch 39/50\n",
      "10000/10000 [==============================] - 1s 83us/step - loss: 0.1915\n",
      "Epoch 40/50\n",
      "10000/10000 [==============================] - 1s 88us/step - loss: 0.1915\n",
      "Epoch 41/50\n",
      "10000/10000 [==============================] - 1s 85us/step - loss: 0.1915\n",
      "Epoch 42/50\n",
      "10000/10000 [==============================] - 1s 91us/step - loss: 0.1915\n",
      "Epoch 43/50\n",
      "10000/10000 [==============================] - 1s 93us/step - loss: 0.1914\n",
      "Epoch 44/50\n",
      "10000/10000 [==============================] - 1s 79us/step - loss: 0.1914\n",
      "Epoch 45/50\n",
      "10000/10000 [==============================] - 1s 91us/step - loss: 0.1914\n",
      "Epoch 46/50\n",
      "10000/10000 [==============================] - 1s 87us/step - loss: 0.1914\n",
      "Epoch 47/50\n",
      "10000/10000 [==============================] - 1s 85us/step - loss: 0.1914\n",
      "Epoch 48/50\n",
      "10000/10000 [==============================] - 1s 85us/step - loss: 0.1914\n",
      "Epoch 49/50\n",
      "10000/10000 [==============================] - 1s 82us/step - loss: 0.1914\n",
      "Epoch 50/50\n",
      "10000/10000 [==============================] - 1s 82us/step - loss: 0.1914\n"
     ]
    }
   ],
   "source": [
    "#Fit the model\n",
    "history_Logit=model_Logit.fit(\n",
    "X, # training data\n",
    "y, # training targets\n",
    "epochs=50,verbose=1)"
   ]
  },
  {
   "cell_type": "code",
   "execution_count": 33,
   "metadata": {},
   "outputs": [
    {
     "data": {
      "image/png": "[encoded data removed]",
      "text/plain": [
       "<Figure size 432x288 with 1 Axes>"
      ]
     },
     "metadata": {
      "needs_background": "light"
     },
     "output_type": "display_data"
    }
   ],
   "source": [
    "plt.plot(history_Logit.history['loss'])\n",
    "plt.title('Model loss')\n",
    "plt.ylabel('Loss')\n",
    "plt.xlabel('Epoch')\n",
    "plt.show()"
   ]
  },
  {
   "cell_type": "code",
   "execution_count": 38,
   "metadata": {},
   "outputs": [
    {
     "data": {
      "text/plain": [
       "[array([[0.96776724],\n",
       "        [5.046778  ],\n",
       "        [4.170388  ]], dtype=float32)]"
      ]
     },
     "execution_count": 38,
     "metadata": {},
     "output_type": "execute_result"
    }
   ],
   "source": [
    "# man kann sich dann Inforamtionen aus gfitten Layer ausgeben lassen\n",
    "model_Logit.layers[0]                # hier bekomme ich die Anzahl der Layers insgesamt    \n",
    "model_Logit.layers[0].get_weights()  # hier bekomme ich Gewichte, die Input-Layer mit Output-Layer verbinden! -> diese Gewicht sind nicht anders als Betas in Logit, weil mein NN wie Logit strukturiert hat!"
   ]
  },
  {
   "cell_type": "code",
   "execution_count": 39,
   "metadata": {},
   "outputs": [
    {
     "name": "stdout",
     "output_type": "stream",
     "text": [
      "const [0.96776724]\n",
      "Beta1 [5.046778]\n",
      "Beta1 [4.170388]\n"
     ]
    }
   ],
   "source": [
    "#Estimated Weights\n",
    "print('const',model_Logit.layers[0]. get_weights ()[0][0])\n",
    "print('Beta1',model_Logit.layers[0]. get_weights ()[0][1])\n",
    "print('Beta1',model_Logit.layers[0]. get_weights ()[0][2])"
   ]
  },
  {
   "cell_type": "code",
   "execution_count": 40,
   "metadata": {},
   "outputs": [
    {
     "name": "stdout",
     "output_type": "stream",
     "text": [
      "MSE ANN  : 0.19156017505611525\n",
      "MSE Logit: 0.19129313542069695\n"
     ]
    }
   ],
   "source": [
    "#Evaluate the fit\n",
    "y_pred_ANN_Logit=model_Logit.predict_proba(X)\n",
    "y_pred_Logit=Logit_fit.predict(X)\n",
    "print(\"MSE ANN  :\", log_loss(np.ravel(y), np.ravel(y_pred_ANN_Logit),eps=0.001))\n",
    "print(\"MSE Logit:\", log_loss(np.ravel(y), np.ravel(y_pred_Logit)))"
   ]
  },
  {
   "cell_type": "code",
   "execution_count": null,
   "metadata": {},
   "outputs": [],
   "source": []
  }
 ],
 "metadata": {
  "kernelspec": {
   "display_name": "Python 3",
   "language": "python",
   "name": "python3"
  },
  "language_info": {
   "codemirror_mode": {
    "name": "ipython",
    "version": 3
   },
   "file_extension": ".py",
   "mimetype": "text/x-python",
   "name": "python",
   "nbconvert_exporter": "python",
   "pygments_lexer": "ipython3",
   "version": "3.7.3"
  },
  "toc": {
   "base_numbering": 1,
   "nav_menu": {},
   "number_sections": false,
   "sideBar": true,
   "skip_h1_title": false,
   "title_cell": "Table of Contents",
   "title_sidebar": "Contents",
   "toc_cell": false,
   "toc_position": {},
   "toc_section_display": true,
   "toc_window_display": false
  },
  "varInspector": {
   "cols": {
    "lenName": 16,
    "lenType": 16,
    "lenVar": 40
   },
   "kernels_config": {
    "python": {
     "delete_cmd_postfix": "",
     "delete_cmd_prefix": "del ",
     "library": "var_list.py",
     "varRefreshCmd": "print(var_dic_list())"
    },
    "r": {
     "delete_cmd_postfix": ") ",
     "delete_cmd_prefix": "rm(",
     "library": "var_list.r",
     "varRefreshCmd": "cat(var_dic_list()) "
    }
   },
   "types_to_exclude": [
    "module",
    "function",
    "builtin_function_or_method",
    "instance",
    "_Feature"
   ],
   "window_display": false
  }
 },
 "nbformat": 4,
 "nbformat_minor": 2
}
