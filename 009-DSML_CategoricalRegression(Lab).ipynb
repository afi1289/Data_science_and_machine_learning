{
 "cells": [
  {
   "cell_type": "markdown",
   "metadata": {},
   "source": [
    "# Categorical Regression | Multinomial Response "
   ]
  },
  {
   "cell_type": "code",
   "execution_count": 1,
   "metadata": {},
   "outputs": [],
   "source": [
    "import statsmodels.api as sm\n",
    "import numpy as np\n",
    "import pandas as pd\n",
    "from scipy.stats import logistic\n",
    "%matplotlib inline"
   ]
  },
  {
   "cell_type": "code",
   "execution_count": 2,
   "metadata": {},
   "outputs": [
    {
     "data": {
      "text/html": [
       "<div>\n",
       "<style scoped>\n",
       "    .dataframe tbody tr th:only-of-type {\n",
       "        vertical-align: middle;\n",
       "    }\n",
       "\n",
       "    .dataframe tbody tr th {\n",
       "        vertical-align: top;\n",
       "    }\n",
       "\n",
       "    .dataframe thead th {\n",
       "        text-align: right;\n",
       "    }\n",
       "</style>\n",
       "<table border=\"1\" class=\"dataframe\">\n",
       "  <thead>\n",
       "    <tr style=\"text-align: right;\">\n",
       "      <th></th>\n",
       "      <th>const</th>\n",
       "      <th>X1</th>\n",
       "    </tr>\n",
       "  </thead>\n",
       "  <tbody>\n",
       "    <tr>\n",
       "      <th>0</th>\n",
       "      <td>1.0</td>\n",
       "      <td>-0.232767</td>\n",
       "    </tr>\n",
       "    <tr>\n",
       "      <th>1</th>\n",
       "      <td>1.0</td>\n",
       "      <td>0.818530</td>\n",
       "    </tr>\n",
       "    <tr>\n",
       "      <th>2</th>\n",
       "      <td>1.0</td>\n",
       "      <td>-0.973349</td>\n",
       "    </tr>\n",
       "    <tr>\n",
       "      <th>3</th>\n",
       "      <td>1.0</td>\n",
       "      <td>-0.093619</td>\n",
       "    </tr>\n",
       "    <tr>\n",
       "      <th>4</th>\n",
       "      <td>1.0</td>\n",
       "      <td>1.223941</td>\n",
       "    </tr>\n",
       "  </tbody>\n",
       "</table>\n",
       "</div>"
      ],
      "text/plain": [
       "   const        X1\n",
       "0    1.0 -0.232767\n",
       "1    1.0  0.818530\n",
       "2    1.0 -0.973349\n",
       "3    1.0 -0.093619\n",
       "4    1.0  1.223941"
      ]
     },
     "execution_count": 2,
     "metadata": {},
     "output_type": "execute_result"
    }
   ],
   "source": [
    "#### Simulate multinomial regression\n",
    "np.random.seed (245)\n",
    "\n",
    "### Covariate Matrix\n",
    "nobs =50000 # number of observation was 500000\n",
    "\n",
    "#x1 as intercept because np.ones return array of 1,x2 as normal distributed numbers (np.random.normal give me normal distributed numbers with mean=0)\n",
    "# كما تعلم انه مصفوفة الاكسات تحط اول عمود ١ لانه وقت تضرب بمصفوفة البيتات في بيتا صفر اللي هو عباره عن كونستانت ثابت فحتى تتم عملية الضرب لازم تضيف عنصر مشان تزبط عملية الضرب حميد\n",
    "X=pd.concat([pd.DataFrame(np.ones(nobs)),pd.DataFrame(np.random.normal(loc=0,size=nobs))],axis=1) \n",
    "X.columns=['const','X1']\n",
    "X.head()"
   ]
  },
  {
   "cell_type": "code",
   "execution_count": 3,
   "metadata": {},
   "outputs": [],
   "source": [
    "### Coefficients اقدر اختار قيم عشوائية عدا معاملات الريفرنس كاتيغوري \n",
    "### افترض بيتات التي تنتج واي واحد اللي هو الريفرنس كاتيغوري طبعا هو صفر بالنهاية لذلك بيتاته صفر \n",
    "### افترض بيتات التي تنتج واي ٢ وكذلك الوضع بالنسبة لواي ٣\n",
    "\n",
    "Coef_Label1 =[0,0] # in Multinomial-Logit habe immer Referenz Kategorie->d.h bei dieser Referenz Kategorie müssen Koeffifziente immer 0 sein-> d.h wenn ich hier die Koeffizient von x0 (meine Konstante) auf null setze,*** ask \n",
    "Coef_Label2 =[1,2]\n",
    "Coef_Label3 =[0.5,3]\n",
    "\n",
    "# reference category muss immer 0 sein (ich beschreibe Effekt von Label2/y2 und Label3/y3 im Verhältnis zu Label1/y1)\n",
    "# das haben wi implizit beim Logit gemacht -> die Koeffizient für y=0 dementsprechend auch 0!"
   ]
  },
  {
   "cell_type": "markdown",
   "metadata": {},
   "source": [
    "$$\\mathbb{P}(y_{ir}=r|x_{i})= \\pi_{ir}=  \\frac{\\exp(\\boldsymbol{x}_i \\boldsymbol{\\beta_{r}})}{1 +  \\sum_{s=1}^{q} \\exp(\\boldsymbol{x}_i \\boldsymbol{\\beta_{s}})}  \\qquad r=1,\\dots,q$$"
   ]
  },
  {
   "cell_type": "code",
   "execution_count": 4,
   "metadata": {},
   "outputs": [
    {
     "name": "stdout",
     "output_type": "stream",
     "text": [
      "          0         1         2\n",
      "0  0.283555  0.483896  0.232549\n",
      "1  0.029252  0.408718  0.562030\n",
      "2  0.677077  0.262719  0.060204\n",
      "3  0.222265  0.501013  0.276722\n",
      "4  0.010281  0.323169  0.666550\n"
     ]
    }
   ],
   "source": [
    "### Vector of probabilities so the observation i belongs to one of the categories r \n",
    "\n",
    "Prob1=                     1/(1+np.exp(X@Coef_Label2)+np.exp(X@Coef_Label3)) # Vektor an Wahrscheinlichkeiten (Referenz Kategorie)\n",
    "Prob2=np.exp(X@Coef_Label2 )/(1+np.exp(X@Coef_Label2)+np.exp(X@Coef_Label3)) # Vektor an Wahrscheinlichkeiten\n",
    "Prob3=np.exp(X@Coef_Label3 )/(1+np.exp(X@Coef_Label2)+np.exp(X@Coef_Label3)) # Vektor an Wahrscheinlichkeiten\n",
    "\n",
    "\n",
    "\n",
    "Probs=pd.concat([Prob1 ,Prob2 ,Prob3],axis=1)\n",
    "#print(Prob1.head())\n",
    "#print(Prob2.head())\n",
    "#print(Prob2.head())\n",
    "print(Probs.head()) # wenn ich jedes i die 100% Wahr. zwischen 3 Kategorien\n",
    "# für jedes i Wahr. zu Kategorie 0/Label1 oder zu Kategorie 1/Label2 oder zu Kategorie 2/Label3 gehört"
   ]
  },
  {
   "cell_type": "code",
   "execution_count": 5,
   "metadata": {},
   "outputs": [],
   "source": [
    "#Coef_Label2\n",
    "#X@Coef_Label2"
   ]
  },
  {
   "cell_type": "code",
   "execution_count": 6,
   "metadata": {},
   "outputs": [],
   "source": [
    "### Vector of probabilities (Alternative) عجبني اكثر\n",
    "#Prob1=np.exp(X@Coef_Label1 )/(np.exp(X@Coef_Label1)+np.exp(X@Coef_Label2)+np.exp(X@Coef_Label3))\n",
    "#Prob2=np.exp(X@Coef_Label2 )/(np.exp(X@Coef_Label1)+np.exp(X@Coef_Label2)+np.exp(X@Coef_Label3))\n",
    "#Prob3=np.exp(X@Coef_Label3 )/(np.exp(X@Coef_Label1)+np.exp(X@Coef_Label2)+np.exp(X@Coef_Label3))\n",
    "#Probs=pd.concat([Prob1 ,Prob2 ,Prob3],axis=1)\n"
   ]
  },
  {
   "cell_type": "code",
   "execution_count": 8,
   "metadata": {},
   "outputs": [],
   "source": [
    "# Multinomial Verteilung gibt nicht nur ein pe sondern ein Vektor an Wahrscheinlichkeiten!\n",
    "# ich generiere Zufallszahl von Multinomialverteilung und ich generiere Labels 1,2 oder 3 basierend auf Wahrscheinlichkeiten، die durch x*beta gegeben ist!\n",
    "# jede Wahrscheinlichkeit wird zu einer Label geordnet القصة اني رح انسب كل مشاهدة صنف معين\n",
    "\n",
    "y=Probs.apply(lambda i: np.random.multinomial(1,pvals=i,size=1),axis=1) \n",
    "y=pd.DataFrame(np.concatenate(y,axis=0),columns=['A','B','C'])\n",
    "\n"
   ]
  },
  {
   "cell_type": "code",
   "execution_count": 10,
   "metadata": {},
   "outputs": [],
   "source": [
    "#np.random.multinomial(1,pvals=i,size=1)"
   ]
  },
  {
   "cell_type": "code",
   "execution_count": 11,
   "metadata": {},
   "outputs": [
    {
     "data": {
      "text/html": [
       "<div>\n",
       "<style scoped>\n",
       "    .dataframe tbody tr th:only-of-type {\n",
       "        vertical-align: middle;\n",
       "    }\n",
       "\n",
       "    .dataframe tbody tr th {\n",
       "        vertical-align: top;\n",
       "    }\n",
       "\n",
       "    .dataframe thead th {\n",
       "        text-align: right;\n",
       "    }\n",
       "</style>\n",
       "<table border=\"1\" class=\"dataframe\">\n",
       "  <thead>\n",
       "    <tr style=\"text-align: right;\">\n",
       "      <th></th>\n",
       "      <th>A</th>\n",
       "      <th>B</th>\n",
       "      <th>C</th>\n",
       "    </tr>\n",
       "  </thead>\n",
       "  <tbody>\n",
       "    <tr>\n",
       "      <th>0</th>\n",
       "      <td>0</td>\n",
       "      <td>1</td>\n",
       "      <td>0</td>\n",
       "    </tr>\n",
       "    <tr>\n",
       "      <th>1</th>\n",
       "      <td>0</td>\n",
       "      <td>0</td>\n",
       "      <td>1</td>\n",
       "    </tr>\n",
       "    <tr>\n",
       "      <th>2</th>\n",
       "      <td>0</td>\n",
       "      <td>1</td>\n",
       "      <td>0</td>\n",
       "    </tr>\n",
       "    <tr>\n",
       "      <th>3</th>\n",
       "      <td>1</td>\n",
       "      <td>0</td>\n",
       "      <td>0</td>\n",
       "    </tr>\n",
       "    <tr>\n",
       "      <th>4</th>\n",
       "      <td>0</td>\n",
       "      <td>1</td>\n",
       "      <td>0</td>\n",
       "    </tr>\n",
       "  </tbody>\n",
       "</table>\n",
       "</div>"
      ],
      "text/plain": [
       "   A  B  C\n",
       "0  0  1  0\n",
       "1  0  0  1\n",
       "2  0  1  0\n",
       "3  1  0  0\n",
       "4  0  1  0"
      ]
     },
     "execution_count": 11,
     "metadata": {},
     "output_type": "execute_result"
    }
   ],
   "source": [
    "y.head() # First one is droped during estmation!\n"
   ]
  },
  {
   "cell_type": "code",
   "execution_count": 10,
   "metadata": {},
   "outputs": [
    {
     "name": "stdout",
     "output_type": "stream",
     "text": [
      "Optimization terminated successfully.\n",
      "         Current function value: 0.811584\n",
      "         Iterations 7\n",
      "                          MNLogit Regression Results                          \n",
      "==============================================================================\n",
      "Dep. Variable:                      y   No. Observations:                50000\n",
      "Model:                        MNLogit   Df Residuals:                    49996\n",
      "Method:                           MLE   Df Model:                            2\n",
      "Date:                Fri, 27 Dec 2019   Pseudo R-squ.:                  0.2593\n",
      "Time:                        23:40:36   Log-Likelihood:                -40579.\n",
      "converged:                       True   LL-Null:                       -54784.\n",
      "Covariance Type:            nonrobust   LLR p-value:                     0.000\n",
      "==============================================================================\n",
      "       y=B       coef    std err          z      P>|z|      [0.025      0.975]\n",
      "------------------------------------------------------------------------------\n",
      "const          0.9949      0.017     59.418      0.000       0.962       1.028\n",
      "X1             1.9954      0.022     90.526      0.000       1.952       2.039\n",
      "------------------------------------------------------------------------------\n",
      "       y=C       coef    std err          z      P>|z|      [0.025      0.975]\n",
      "------------------------------------------------------------------------------\n",
      "const          0.4786      0.018     26.241      0.000       0.443       0.514\n",
      "X1             2.9988      0.026    116.854      0.000       2.948       3.049\n",
      "==============================================================================\n"
     ]
    }
   ],
   "source": [
    "mdl = sm.MNLogit(y, X) # Multinomial logit model\n",
    "mdl_fit = mdl.fit()    # Fit the model using maximum likelihood\n",
    "print(mdl_fit.summary ())"
   ]
  },
  {
   "cell_type": "markdown",
   "metadata": {},
   "source": [
    "## Comparison with sequential Logit Regressions"
   ]
  },
  {
   "cell_type": "code",
   "execution_count": 12,
   "metadata": {},
   "outputs": [
    {
     "name": "stdout",
     "output_type": "stream",
     "text": [
      "Optimization terminated successfully.\n",
      "         Current function value: 0.485711\n",
      "         Iterations 6\n",
      "                           Logit Regression Results                           \n",
      "==============================================================================\n",
      "Dep. Variable:                      B   No. Observations:                33420\n",
      "Model:                          Logit   Df Residuals:                    33418\n",
      "Method:                           MLE   Df Model:                            1\n",
      "Date:                Wed, 05 Feb 2020   Pseudo R-squ.:                  0.2958\n",
      "Time:                        20:15:31   Log-Likelihood:                -16232.\n",
      "converged:                       True   LL-Null:                       -23051.\n",
      "Covariance Type:            nonrobust   LLR p-value:                     0.000\n",
      "==============================================================================\n",
      "                 coef    std err          z      P>|z|      [0.025      0.975]\n",
      "------------------------------------------------------------------------------\n",
      "const          0.9720      0.017     57.834      0.000       0.939       1.005\n",
      "X1             1.9994      0.023     87.567      0.000       1.955       2.044\n",
      "==============================================================================\n"
     ]
    }
   ],
   "source": [
    "DF=pd.concat([y,X],axis=1)\n",
    "DF_B=DF[DF.C ==0]\n",
    "logit = sm.Logit(DF_B.B,DF_B['const X1'.split ()])\n",
    "logit_model=logit.fit()\n",
    "print(logit_model.summary())"
   ]
  },
  {
   "cell_type": "code",
   "execution_count": 13,
   "metadata": {},
   "outputs": [
    {
     "name": "stdout",
     "output_type": "stream",
     "text": [
      "Optimization terminated successfully.\n",
      "         Current function value: 0.314735\n",
      "         Iterations 8\n",
      "                           Logit Regression Results                           \n",
      "==============================================================================\n",
      "Dep. Variable:                      C   No. Observations:                31911\n",
      "Model:                          Logit   Df Residuals:                    31909\n",
      "Method:                           MLE   Df Model:                            1\n",
      "Date:                Wed, 05 Feb 2020   Pseudo R-squ.:                  0.5454\n",
      "Time:                        20:15:37   Log-Likelihood:                -10044.\n",
      "converged:                       True   LL-Null:                       -22095.\n",
      "Covariance Type:            nonrobust   LLR p-value:                     0.000\n",
      "==============================================================================\n",
      "                 coef    std err          z      P>|z|      [0.025      0.975]\n",
      "------------------------------------------------------------------------------\n",
      "const          0.4813      0.019     25.806      0.000       0.445       0.518\n",
      "X1             3.0288      0.034     89.625      0.000       2.963       3.095\n",
      "==============================================================================\n"
     ]
    }
   ],
   "source": [
    "DF_C=DF[DF.B ==0]\n",
    "logit = sm.Logit(DF_C.C,DF_C['const X1'.split ()])\n",
    "logit_model=logit.fit()\n",
    "print(logit_model.summary())"
   ]
  },
  {
   "cell_type": "markdown",
   "metadata": {},
   "source": [
    "# Categorical Regression | Ordinal Response"
   ]
  },
  {
   "cell_type": "markdown",
   "metadata": {},
   "source": [
    "$$y_i^{*}=\\boldsymbol{x_{i}\\beta} +\\epsilon_i, \\qquad \\epsilon_i \\sim \\text{Logistic (0,1)} \\\\$$\n",
    "$$\n",
    "y_i = \\begin{cases} 1 & \\text{if } y_i^{*} \\leq \\theta_1 \\\\ \n",
    "2 & \\text{if } \\theta_1 < y_i^{*} \\leq \\theta_2 \\\\ \n",
    "\\vdots & \\vdots \\\\\n",
    "j & \\theta_{j-1} < y_i^{*}\\end{cases}$$\n",
    "\n",
    "je nach dem in welchen Bereich mein y* fällt, ordne ich die Kategorie -> was ich brauche? ich brauche verschiedene threshold(die Grenze, ab dem mein y* in neue Kategorie wird) und brauche ich beta1 und beta2"
   ]
  },
  {
   "cell_type": "code",
   "execution_count": 14,
   "metadata": {},
   "outputs": [],
   "source": [
    "import mord\n",
    "##Thresholds\n",
    "theta1=-1.5\n",
    "theta2=-0.5\n",
    "theta3 =0.5\n",
    "theta4 =1.5\n",
    "### other coefficients\n",
    "beta1=1\n",
    "beta2=3"
   ]
  },
  {
   "cell_type": "markdown",
   "metadata": {},
   "source": [
    "### Calculate the linear predictor"
   ]
  },
  {
   "cell_type": "markdown",
   "metadata": {},
   "source": [
    "\n",
    "\n",
    "$$\t\t\\text{ln}\\frac{\\sum_{s=1}^{r}\\pi_{ is }}{1- \\sum_{s=1}^{q}\\pi_{ is }}= \\theta_r - \\boldsymbol{x_{i}\\beta}, \\qquad r =1,\\dots,q$$\n",
    "\n",
    "dann simuliere ich linear predictor "
   ]
  },
  {
   "cell_type": "code",
   "execution_count": 15,
   "metadata": {},
   "outputs": [],
   "source": [
    "### simulate the independent variables/features\n",
    "nobs =50000\n",
    "x1=np.random.normal(size=nobs)\n",
    "x2=np.random.uniform(size=nobs)\n",
    "\n",
    "### calculate the linear predictors\n",
    "linpred1= theta1 - (beta1*x1 + beta2*x2)\n",
    "linpred2= theta2 - (beta1*x1 + beta2*x2)\n",
    "linpred3= theta3 - (beta1*x1 + beta2*x2)\n",
    "linpred4= theta4 - (beta1*x1 + beta2*x2)\n",
    "\n",
    "#print(linpred1)\n",
    "#print(linpred2)"
   ]
  },
  {
   "cell_type": "markdown",
   "metadata": {},
   "source": [
    "### Calculate the probability"
   ]
  },
  {
   "cell_type": "markdown",
   "metadata": {},
   "source": [
    "hier wird die Wahrscheinlichkeit durch diese Form berechnet, dass bestimmtes i in diese Kategorie zugeordnet werden kann\n",
    "\n",
    "$$\\pi_{ i1 } = \\mathbb{P}(y_i =1|x_i) = F(\\theta_1 -\\boldsymbol{x_{i}\\beta}) \\\\\n",
    "\\pi_{ ir } = \\mathbb{P}(y_i =r|x_i) = F(\\theta_r -\\boldsymbol{x_{i}\\beta}) -F(\\theta_{r-1} -\\boldsymbol{x_{i}\\beta}) \\\\\n",
    "\\pi_{ ij } = \\mathbb{P}(y_i =j|x_i) = 1 -  F(\\theta_q -\\boldsymbol{x_{i}\\beta}) $$\n",
    "طبعا انت تحسب مساحة هون عن طريق التكامل"
   ]
  },
  {
   "cell_type": "code",
   "execution_count": 16,
   "metadata": {},
   "outputs": [],
   "source": [
    "pi1=logistic.cdf(linpred1) #Cumulative distribution function of the given RV.\n",
    "\n",
    "\n",
    "pi2=logistic.cdf(linpred2)-logistic.cdf(linpred1)\n",
    "pi3=logistic.cdf(linpred3)-logistic.cdf(linpred2)\n",
    "pi4=logistic.cdf(linpred4)-logistic.cdf(linpred3)\n",
    "\n",
    "pi5=1- logistic.cdf(linpred4)\n",
    "\n",
    "#print(pi1)\n",
    "#print(pi2)"
   ]
  },
  {
   "cell_type": "code",
   "execution_count": 17,
   "metadata": {},
   "outputs": [],
   "source": [
    "PI=pd.concat([pd.DataFrame(pi1),pd.DataFrame(pi2),pd.DataFrame(pi3),pd.DataFrame(pi4),pd.DataFrame(pi5)],axis=1)\n",
    "\n",
    "y=PI.apply(lambda i: np.random.multinomial(1,pvals=i,size=1),axis=1)# Also ordinal variables follow the multinomial dist.\n",
    "y=pd.DataFrame(np.concatenate(y,axis=0))\n",
    "\n",
    "\n",
    "y_flat = (y.iloc[:, :] == 1).idxmax(1)#Convert to 1d-vector as required by mord library!\n",
    "\n",
    "X=pd.concat([pd.DataFrame(x1),pd.DataFrame(x2)],axis=1)"
   ]
  },
  {
   "cell_type": "code",
   "execution_count": 18,
   "metadata": {},
   "outputs": [
    {
     "data": {
      "text/html": [
       "<div>\n",
       "<style scoped>\n",
       "    .dataframe tbody tr th:only-of-type {\n",
       "        vertical-align: middle;\n",
       "    }\n",
       "\n",
       "    .dataframe tbody tr th {\n",
       "        vertical-align: top;\n",
       "    }\n",
       "\n",
       "    .dataframe thead th {\n",
       "        text-align: right;\n",
       "    }\n",
       "</style>\n",
       "<table border=\"1\" class=\"dataframe\">\n",
       "  <thead>\n",
       "    <tr style=\"text-align: right;\">\n",
       "      <th></th>\n",
       "      <th>0</th>\n",
       "      <th>1</th>\n",
       "      <th>2</th>\n",
       "      <th>3</th>\n",
       "      <th>4</th>\n",
       "    </tr>\n",
       "  </thead>\n",
       "  <tbody>\n",
       "    <tr>\n",
       "      <th>0</th>\n",
       "      <td>0</td>\n",
       "      <td>0</td>\n",
       "      <td>0</td>\n",
       "      <td>0</td>\n",
       "      <td>1</td>\n",
       "    </tr>\n",
       "    <tr>\n",
       "      <th>1</th>\n",
       "      <td>0</td>\n",
       "      <td>0</td>\n",
       "      <td>0</td>\n",
       "      <td>0</td>\n",
       "      <td>1</td>\n",
       "    </tr>\n",
       "    <tr>\n",
       "      <th>2</th>\n",
       "      <td>0</td>\n",
       "      <td>1</td>\n",
       "      <td>0</td>\n",
       "      <td>0</td>\n",
       "      <td>0</td>\n",
       "    </tr>\n",
       "    <tr>\n",
       "      <th>3</th>\n",
       "      <td>0</td>\n",
       "      <td>0</td>\n",
       "      <td>1</td>\n",
       "      <td>0</td>\n",
       "      <td>0</td>\n",
       "    </tr>\n",
       "    <tr>\n",
       "      <th>4</th>\n",
       "      <td>0</td>\n",
       "      <td>1</td>\n",
       "      <td>0</td>\n",
       "      <td>0</td>\n",
       "      <td>0</td>\n",
       "    </tr>\n",
       "    <tr>\n",
       "      <th>5</th>\n",
       "      <td>0</td>\n",
       "      <td>0</td>\n",
       "      <td>0</td>\n",
       "      <td>0</td>\n",
       "      <td>1</td>\n",
       "    </tr>\n",
       "    <tr>\n",
       "      <th>6</th>\n",
       "      <td>0</td>\n",
       "      <td>0</td>\n",
       "      <td>1</td>\n",
       "      <td>0</td>\n",
       "      <td>0</td>\n",
       "    </tr>\n",
       "    <tr>\n",
       "      <th>7</th>\n",
       "      <td>0</td>\n",
       "      <td>0</td>\n",
       "      <td>1</td>\n",
       "      <td>0</td>\n",
       "      <td>0</td>\n",
       "    </tr>\n",
       "    <tr>\n",
       "      <th>8</th>\n",
       "      <td>0</td>\n",
       "      <td>0</td>\n",
       "      <td>0</td>\n",
       "      <td>0</td>\n",
       "      <td>1</td>\n",
       "    </tr>\n",
       "    <tr>\n",
       "      <th>9</th>\n",
       "      <td>1</td>\n",
       "      <td>0</td>\n",
       "      <td>0</td>\n",
       "      <td>0</td>\n",
       "      <td>0</td>\n",
       "    </tr>\n",
       "  </tbody>\n",
       "</table>\n",
       "</div>"
      ],
      "text/plain": [
       "   0  1  2  3  4\n",
       "0  0  0  0  0  1\n",
       "1  0  0  0  0  1\n",
       "2  0  1  0  0  0\n",
       "3  0  0  1  0  0\n",
       "4  0  1  0  0  0\n",
       "5  0  0  0  0  1\n",
       "6  0  0  1  0  0\n",
       "7  0  0  1  0  0\n",
       "8  0  0  0  0  1\n",
       "9  1  0  0  0  0"
      ]
     },
     "execution_count": 18,
     "metadata": {},
     "output_type": "execute_result"
    }
   ],
   "source": [
    "y.head(10) # ich habe ein Vektor mit 0 und 1 je nachdem in welche Kategorie mein y* im Endeffekt fällt!"
   ]
  },
  {
   "cell_type": "code",
   "execution_count": 19,
   "metadata": {},
   "outputs": [
    {
     "data": {
      "text/plain": [
       "0    4\n",
       "1    4\n",
       "2    1\n",
       "3    2\n",
       "4    1\n",
       "5    4\n",
       "6    2\n",
       "7    2\n",
       "8    4\n",
       "9    0\n",
       "dtype: int64"
      ]
     },
     "execution_count": 19,
     "metadata": {},
     "output_type": "execute_result"
    }
   ],
   "source": [
    "y_flat.head(10) # Direkte Ergebniss: also zu welchem Kategorie gehört jede Beobachtung"
   ]
  },
  {
   "cell_type": "code",
   "execution_count": 22,
   "metadata": {},
   "outputs": [
    {
     "name": "stdout",
     "output_type": "stream",
     "text": [
      "Regression coefficients: [0.99113633 2.99142189]\n",
      "Thresholds: [-1.49014586 -0.50288962  0.47659476  1.48506739]\n"
     ]
    }
   ],
   "source": [
    "ord_Logit = mord.LogisticAT(alpha =0.)\n",
    "ord_Logit.fit(X, y_flat)\n",
    "print(\"Regression coefficients: \" + str(ord_Logit.coef_))\n",
    "print(\"Thresholds: \" + str(ord_Logit.theta_))"
   ]
  },
  {
   "cell_type": "code",
   "execution_count": 23,
   "metadata": {},
   "outputs": [
    {
     "data": {
      "image/png": "[encoded data removed]",
      "text/plain": [
       "<Figure size 432x288 with 1 Axes>"
      ]
     },
     "metadata": {
      "needs_background": "light"
     },
     "output_type": "display_data"
    }
   ],
   "source": [
    "### Plot of the true y, most of the observation fall in the a last label/y/Katgorie\n",
    "import scipy\n",
    "import seaborn as sns\n",
    "histogram=sns.countplot(y_flat ,palette=sns.cubehelix_palette(8, start=.5, rot=-.75))"
   ]
  },
  {
   "cell_type": "code",
   "execution_count": 24,
   "metadata": {
    "scrolled": true
   },
   "outputs": [
    {
     "data": {
      "text/plain": [
       "<matplotlib.lines.Line2D at 0x1c1b29f240>"
      ]
     },
     "execution_count": 24,
     "metadata": {},
     "output_type": "execute_result"
    },
    {
     "data": {
      "image/png": "[encoded data removed]",
      "text/plain": [
       "<Figure size 432x288 with 1 Axes>"
      ]
     },
     "metadata": {
      "needs_background": "light"
     },
     "output_type": "display_data"
    }
   ],
   "source": [
    "### Density of y_star -> Die Verteilung von y*/latente Variable-> je nachdem wo mein y* liegt, bin ich in Kategorie 1 oder 2...\n",
    "### wenn ich die Wahrscheinlichkeit für ein bestimmtes Label/y/Kategorie berechnen will, kann ich diese Fläche als Integral bspw. von theta1 bis zum theta2\n",
    "\n",
    "y_star= X@[beta1 , beta2]\n",
    "figure = sns.distplot(y_star , hist=False ,color='black')\n",
    "\n",
    "\n",
    "figure.set_xticks((-1.5, -0.5, 0.5 , 1.5))\n",
    "figure.set_xticklabels((r'$\\theta_ {1}$', r'$\\theta_2$', r'$\\theta_3$', r'$\\theta_4$'))\n",
    "figure.set_yticks ([])\n",
    "figure.axvline(-1.5, 0, 0.07, linestyle=\"dotted\",color='orange')\n",
    "figure.axvline(-0.5, 0, 0.325, linestyle=\"dotted\",color='blue')\n",
    "figure.axvline(0.5, 0, 0.735, linestyle=\"dotted\",color='red')\n",
    "figure.axvline(1.5, 0, 0.95, linestyle=\"dotted\",color='green')"
   ]
  },
  {
   "cell_type": "markdown",
   "metadata": {},
   "source": [
    "diese Integral ist nicht anders als diese Vorschriften\n",
    "\n",
    "$$\\pi_{ i1 } = \\mathbb{P}(y_i =1|x_i) = F(\\theta_1 -\\boldsymbol{x_{i}\\beta}) \\\\\n",
    "\\pi_{ ir } = \\mathbb{P}(y_i =r|x_i) = F(\\theta_r -\\boldsymbol{x_{i}\\beta}) -F(\\theta_{r-1} -\\boldsymbol{x_{i}\\beta}) \\\\\n",
    "\\pi_{ ij } = \\mathbb{P}(y_i =j|x_i) = 1 -  F(\\theta_q -\\boldsymbol{x_{i}\\beta}) $$\n",
    "\n",
    "Damit kriege ich die Fläche, die mir die Wahrscheinlichkeit für ein bestimmtes Label gibt, dass mein i in dieser Kategorie fällt"
   ]
  },
  {
   "cell_type": "markdown",
   "metadata": {},
   "source": [
    "## Marginal Effects\n",
    "bei Ordinal Logit kann ich die Mittlere Kategorie nicht interpretieren! nur die beste und die schlechste Kategorie!"
   ]
  },
  {
   "cell_type": "code",
   "execution_count": 25,
   "metadata": {},
   "outputs": [],
   "source": [
    "deltaX_2=np.arange(0.01,1,0.01)\n",
    "\n",
    "PI_loop=pd.DataFrame(index=deltaX_2, columns=range(5))\n",
    "\n",
    "for q in range(len(deltaX_2)):\n",
    "    x1=x1\n",
    "    x2_new=x2+deltaX_2[q]\n",
    "\n",
    "    ### calculate the linear predictors\n",
    "    linpred1= theta1 - (beta1*x1 + beta2*x2_new)\n",
    "    linpred2= theta2 - (beta1*x1 + beta2*x2_new)\n",
    "    linpred3= theta3 - (beta1*x1 + beta2*x2_new)\n",
    "    linpred4= theta4 - (beta1*x1 + beta2*x2_new)\n",
    "    \n",
    "    delta_pi1=logistic.cdf(linpred1)\n",
    "    delta_pi2=logistic.cdf(linpred2)-logistic.cdf(linpred1)\n",
    "    delta_pi3=logistic.cdf(linpred3)-logistic.cdf(linpred2)\n",
    "    delta_pi4=logistic.cdf(linpred4)-logistic.cdf(linpred3)\n",
    "    delta_pi5=1- logistic.cdf(linpred4)\n",
    "    \n",
    "    PI_loop.iloc[q,:]=pd.concat([pd.DataFrame(delta_pi1),pd.DataFrame(delta_pi2),pd.DataFrame(delta_pi3),\n",
    "                              pd.DataFrame(delta_pi4),pd.DataFrame(delta_pi5)],axis=1).mean().values\n",
    "    "
   ]
  },
  {
   "cell_type": "code",
   "execution_count": 26,
   "metadata": {},
   "outputs": [
    {
     "data": {
      "text/plain": [
       "[<matplotlib.lines.Line2D at 0x1c1bfaeba8>,\n",
       " <matplotlib.lines.Line2D at 0x1c1bfaecf8>,\n",
       " <matplotlib.lines.Line2D at 0x1c1bfaee48>,\n",
       " <matplotlib.lines.Line2D at 0x1c1bfaef98>]"
      ]
     },
     "execution_count": 26,
     "metadata": {},
     "output_type": "execute_result"
    },
    {
     "data": {
      "image/png": "[encoded data removed]",
      "text/plain": [
       "<Figure size 432x288 with 1 Axes>"
      ]
     },
     "metadata": {
      "needs_background": "light"
     },
     "output_type": "display_data"
    }
   ],
   "source": [
    "import matplotlib.pyplot as plt\n",
    "plt.plot(PI_loop.iloc[:,0:4])"
   ]
  },
  {
   "cell_type": "code",
   "execution_count": 27,
   "metadata": {},
   "outputs": [],
   "source": [
    "# وقت يكون بي مشكلة رح تتقاطع الخطوط مع بعض\n",
    "# wenn ich Problem mit Marginal Effekt hätte, soltte 2 Linien kreutzen"
   ]
  },
  {
   "cell_type": "code",
   "execution_count": null,
   "metadata": {},
   "outputs": [],
   "source": []
  }
 ],
 "metadata": {
  "kernelspec": {
   "display_name": "Python 3",
   "language": "python",
   "name": "python3"
  },
  "language_info": {
   "codemirror_mode": {
    "name": "ipython",
    "version": 3
   },
   "file_extension": ".py",
   "mimetype": "text/x-python",
   "name": "python",
   "nbconvert_exporter": "python",
   "pygments_lexer": "ipython3",
   "version": "3.7.3"
  },
  "toc": {
   "base_numbering": 1,
   "nav_menu": {},
   "number_sections": false,
   "sideBar": true,
   "skip_h1_title": false,
   "title_cell": "Table of Contents",
   "title_sidebar": "Contents",
   "toc_cell": false,
   "toc_position": {},
   "toc_section_display": true,
   "toc_window_display": false
  },
  "varInspector": {
   "cols": {
    "lenName": 16,
    "lenType": 16,
    "lenVar": 40
   },
   "kernels_config": {
    "python": {
     "delete_cmd_postfix": "",
     "delete_cmd_prefix": "del ",
     "library": "var_list.py",
     "varRefreshCmd": "print(var_dic_list())"
    },
    "r": {
     "delete_cmd_postfix": ") ",
     "delete_cmd_prefix": "rm(",
     "library": "var_list.r",
     "varRefreshCmd": "cat(var_dic_list()) "
    }
   },
   "types_to_exclude": [
    "module",
    "function",
    "builtin_function_or_method",
    "instance",
    "_Feature"
   ],
   "window_display": false
  }
 },
 "nbformat": 4,
 "nbformat_minor": 2
}
